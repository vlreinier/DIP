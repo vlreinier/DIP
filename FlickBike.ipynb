{
 "cells": [
  {
   "cell_type": "code",
   "execution_count": 266,
   "metadata": {},
   "outputs": [],
   "source": [
    "import pandas as pd\n",
    "import numpy as np\n",
    "import datetime\n",
    "import matplotlib.pyplot as plt\n",
    "import matplotlib.gridspec as gridspec\n",
    "pd.options.mode.chained_assignment = None"
   ]
  },
  {
   "cell_type": "code",
   "execution_count": 267,
   "metadata": {},
   "outputs": [],
   "source": [
    "file_location = \"C:\\\\Github\\\\DIP\\\\bikes.csv\""
   ]
  },
  {
   "cell_type": "markdown",
   "metadata": {},
   "source": [
    "# FlickBike\n",
    "\n",
    "In dit notebook wordt een analyse uitgevoerd op een aantal bedrijfsprocessen en -vragen met het doel om een verbetering door te brengen in de processen. Door middel van statistiek en een aantal AI technieken bieden wij inzichten in de FlickBike dataset. Zo hopen we een goed plan/advies op te leveren waarin wij een aantal vragen die door FlickBike opgesteld zijn beantwoorden. In dit notebook zullen de volgende vragen naar voren komen en uitgewerkt worden in een logische volgorde.\n",
    "\n",
    "1. Hoe voorspel je de groei van FlickBike? Hoe voorspel je het aantal verhuurde fietsen in bepaalde tijdspannes?\n",
    "2. Hoe kan voorspeld worden op welke plekken fietstekorten kunnen ontstaan?\n",
    "3. Hoe kan het minimaal benodigd aantal fietsen voorspeld of berekend worden (per locatie)?\n",
    "\n",
    "Door middel van datainzichten, grafieken en uitleg hopen wij een goed leesbaar verslag op te leveren. Voor het bedenken van verschillende modellen moet ook correlatie onderzoek uitgevoerd worden. Welke factoren hebben wel of geen invloed op het model? Verschillende factoren, zoals het weer, zijn meegenomen in het onderzoek naar passende modellen voor het bovenstaande vragen."
   ]
  },
  {
   "cell_type": "markdown",
   "metadata": {},
   "source": [
    "#### Data inlezen en voorbereiden"
   ]
  },
  {
   "cell_type": "code",
   "execution_count": 268,
   "metadata": {},
   "outputs": [
    {
     "data": {
      "text/html": [
       "<div>\n",
       "<style scoped>\n",
       "    .dataframe tbody tr th:only-of-type {\n",
       "        vertical-align: middle;\n",
       "    }\n",
       "\n",
       "    .dataframe tbody tr th {\n",
       "        vertical-align: top;\n",
       "    }\n",
       "\n",
       "    .dataframe thead th {\n",
       "        text-align: right;\n",
       "    }\n",
       "</style>\n",
       "<table border=\"1\" class=\"dataframe\">\n",
       "  <thead>\n",
       "    <tr style=\"text-align: right;\">\n",
       "      <th></th>\n",
       "      <th>Unnamed: 0</th>\n",
       "      <th>tripid</th>\n",
       "      <th>userid</th>\n",
       "      <th>bikeid</th>\n",
       "      <th>account</th>\n",
       "      <th>bikenumber</th>\n",
       "      <th>start_time</th>\n",
       "      <th>end_time</th>\n",
       "      <th>start_lat</th>\n",
       "      <th>start_lng</th>\n",
       "      <th>end_lat</th>\n",
       "      <th>end_lng</th>\n",
       "      <th>date</th>\n",
       "      <th>weekday</th>\n",
       "    </tr>\n",
       "  </thead>\n",
       "  <tbody>\n",
       "    <tr>\n",
       "      <th>0</th>\n",
       "      <td>1</td>\n",
       "      <td>33838</td>\n",
       "      <td>13452</td>\n",
       "      <td>382</td>\n",
       "      <td>AR</td>\n",
       "      <td>6631000433</td>\n",
       "      <td>2019-01-01 06:46:03</td>\n",
       "      <td>2019-01-01 06:46:03</td>\n",
       "      <td>52.296065</td>\n",
       "      <td>4.787667</td>\n",
       "      <td>52.296200</td>\n",
       "      <td>4.787679</td>\n",
       "      <td>2019-01-01 06:46:00</td>\n",
       "      <td>Tuesday</td>\n",
       "    </tr>\n",
       "    <tr>\n",
       "      <th>1</th>\n",
       "      <td>2</td>\n",
       "      <td>33839</td>\n",
       "      <td>13452</td>\n",
       "      <td>812</td>\n",
       "      <td>AR</td>\n",
       "      <td>6631000146</td>\n",
       "      <td>2019-01-01 06:47:39</td>\n",
       "      <td>2019-01-01 06:47:39</td>\n",
       "      <td>52.295938</td>\n",
       "      <td>4.788336</td>\n",
       "      <td>52.295940</td>\n",
       "      <td>4.788557</td>\n",
       "      <td>2019-01-01 06:47:35</td>\n",
       "      <td>Tuesday</td>\n",
       "    </tr>\n",
       "    <tr>\n",
       "      <th>2</th>\n",
       "      <td>3</td>\n",
       "      <td>33851</td>\n",
       "      <td>13182</td>\n",
       "      <td>238</td>\n",
       "      <td>AR</td>\n",
       "      <td>6631000443</td>\n",
       "      <td>2019-01-01 14:15:36</td>\n",
       "      <td>2019-01-01 14:15:36</td>\n",
       "      <td>52.307337</td>\n",
       "      <td>4.807633</td>\n",
       "      <td>52.307336</td>\n",
       "      <td>4.807630</td>\n",
       "      <td>2019-01-01 14:15:32</td>\n",
       "      <td>Tuesday</td>\n",
       "    </tr>\n",
       "    <tr>\n",
       "      <th>3</th>\n",
       "      <td>4</td>\n",
       "      <td>33852</td>\n",
       "      <td>13182</td>\n",
       "      <td>238</td>\n",
       "      <td>AR</td>\n",
       "      <td>6631000443</td>\n",
       "      <td>2019-01-01 14:33:50</td>\n",
       "      <td>2019-01-01 14:33:50</td>\n",
       "      <td>52.308478</td>\n",
       "      <td>4.809970</td>\n",
       "      <td>52.308537</td>\n",
       "      <td>4.810099</td>\n",
       "      <td>2019-01-01 14:33:46</td>\n",
       "      <td>Tuesday</td>\n",
       "    </tr>\n",
       "    <tr>\n",
       "      <th>4</th>\n",
       "      <td>5</td>\n",
       "      <td>33867</td>\n",
       "      <td>12674</td>\n",
       "      <td>787</td>\n",
       "      <td>AG</td>\n",
       "      <td>6631000283</td>\n",
       "      <td>2019-01-01 20:11:05</td>\n",
       "      <td>2019-01-01 20:11:05</td>\n",
       "      <td>52.506522</td>\n",
       "      <td>4.727323</td>\n",
       "      <td>52.506809</td>\n",
       "      <td>4.732135</td>\n",
       "      <td>2019-01-01 20:11:01</td>\n",
       "      <td>Tuesday</td>\n",
       "    </tr>\n",
       "  </tbody>\n",
       "</table>\n",
       "</div>"
      ],
      "text/plain": [
       "   Unnamed: 0  tripid  userid  bikeid account  bikenumber  \\\n",
       "0           1   33838   13452     382      AR  6631000433   \n",
       "1           2   33839   13452     812      AR  6631000146   \n",
       "2           3   33851   13182     238      AR  6631000443   \n",
       "3           4   33852   13182     238      AR  6631000443   \n",
       "4           5   33867   12674     787      AG  6631000283   \n",
       "\n",
       "            start_time             end_time  start_lat  start_lng    end_lat  \\\n",
       "0  2019-01-01 06:46:03  2019-01-01 06:46:03  52.296065   4.787667  52.296200   \n",
       "1  2019-01-01 06:47:39  2019-01-01 06:47:39  52.295938   4.788336  52.295940   \n",
       "2  2019-01-01 14:15:36  2019-01-01 14:15:36  52.307337   4.807633  52.307336   \n",
       "3  2019-01-01 14:33:50  2019-01-01 14:33:50  52.308478   4.809970  52.308537   \n",
       "4  2019-01-01 20:11:05  2019-01-01 20:11:05  52.506522   4.727323  52.506809   \n",
       "\n",
       "    end_lng                date  weekday  \n",
       "0  4.787679 2019-01-01 06:46:00  Tuesday  \n",
       "1  4.788557 2019-01-01 06:47:35  Tuesday  \n",
       "2  4.807630 2019-01-01 14:15:32  Tuesday  \n",
       "3  4.810099 2019-01-01 14:33:46  Tuesday  \n",
       "4  4.732135 2019-01-01 20:11:01  Tuesday  "
      ]
     },
     "execution_count": 268,
     "metadata": {},
     "output_type": "execute_result"
    }
   ],
   "source": [
    "df_flickbike = pd.read_csv(file_location)\n",
    "df_flickbike[\"date\"] = pd.to_datetime(df_flickbike[\"date\"],format=\"%Y-%m-%d %H:%M:%S\")\n",
    "day_of_week = {0:'Monday', 1:'Tuesday', 2:'Wednesday', 3:'Thursday', 4:'Friday', 5:'Saturday', 6:'Sunday'}\n",
    "df_flickbike['weekday'] = pd.to_datetime(df_flickbike['start_time']).dt.dayofweek.map(day_of_week)\n",
    "df_flickbike.head()"
   ]
  },
  {
   "cell_type": "markdown",
   "metadata": {},
   "source": [
    "## Hoe voorspel je de groei van FlickBike ?\n",
    "#### In het bijzonder: hoe voorspel je het aantal verhuurde fietsen op de dagen tussen 10 december 2019 en 31 januari 2020?\n",
    "\n",
    "De groei van FlickBike is van veel factoren afhankelijk, zowel externe als interne factoren. Veel factoren zullen en/of kunnen niet meegenomen worden in het model omdat deze onberekenbaar, onbereikbaar of niet noemenswaardig zijn. Alle andere factoren die wel beschikbaar zijn moeten op correlatie onderzocht worden. Als bepaalde eigenschappen veel correlatie tonen met de target eigenschap, kunnen deze belangrijk zijn voor het model. \n",
    "\n",
    "\n",
    "Naast het correlatie onderzoek hebben we al wat ideeën opgedaan welke factoren we kunnen meenemen in ons model:\n",
    "    - Dag van de week\n",
    "    - seizoenen (vakantie seizoen moeten worden herkend door het model)\n",
    "    - Neerslag/temperatuur/zonnestraling\n",
    "    - Feestdagen (boolean)\n",
    "    - Dagdeel (bijvoorbeeld of er vroeg in de ochtend een fiets is gehuurd)\n",
    "    - Spitsuren per dag en per dagsdeel (in spitsuren pakken werknemers waarschijnlijk eerder de fiets dan de auto)\n",
    "        - De klassieke spitsuren meegeven als variabelen, of ...\n",
    "        - Clusters maken per dagdeel of per uur, hiermee schatten hoe druk het is, en dan drukte meegeven als variabele.\n",
    "    - drukte op straat of op het werk, per dag en per dagsdeel\n",
    "        - zelfde werkwijze als spitsuren\n",
    "        - (Drukte op straat zal geen invloed hebben op het gedrag van werknemers. Echter is er wel een verwachte correlatie: als het druk is in de stad is de kans ook groter dat werknemers de fiets pakken. Dit komt door variabelen die wij niet hard kunnen maken, maar die zeker aanwezig zijn. (Denk bijvoorbeeld aan corona virus, weinig mensen gaan de deur uit en weinig mensen pakken de fiets). )\n",
    "\n",
    "Voor een aantal factoren moet er meer data opgezocht worden en misschien zelfs onderzoek worden gedaan (bijvoorbeeld naar de correlatie tussen drukte/spits rondom schiphol). Een aantal bronnen zijn hiervoor opgezocht met API's die zowel historische als live data bevatten. \n",
    "\n",
    "drukte op de weg - https://www.ndw.nu/pagina/nl/103/datalevering/120/open_data/<br>\n",
    "drukte mensen op straat - https://www.cbs.nl/nl-nl/onze-diensten/innovatie/project/bewegingen-meten-met-anonieme-telefoondata (hier wordt data verzameld van telefoons die aan staan om drukte metingen te maken)\n",
    "\n",
    "\n",
    "Dit probleem kan lastig opgelost worden met classificatie. Er zal dan hoogstwaarschijnlijk overfitting plaatsvinden ivm het hoge aantal target features. Linear of Non-linear Regression gaat ervan uit dat er een continue directe correlatie aanwezig is tussen input en output. Echter is dit niet het geval met categoriale waarden die zeker meegenomen worden. \n",
    "\n",
    "Een van de modellen die gebruikt kan worden voor dit probleem is een decision tree regressor. Dit heeft te maken met voordelen als visualisatie en flexibiliteit, waarbij het laatste vooral belangrijk is om te werken met zowel kwantitatieve waarden (temperatuur) en categoriale waarden (dagen/seizoenen). Bovendien kan decision tree regressor gevalideerd worden met RMSE, dat nodig is het met andere modellen te vergelijken.\n",
    "\n",
    "Ook wordt er een kwantitatieve waarde als uitkomst verwacht. Met classificatie, zoals een normale desicion tree, wordt er een categoriale uitkomst gegenereerd, terwijl er bij DTR een continue waarde wordt berekend. Dit maakt de uitkomst accurater en gepaster voor de vraagstelling van FlickBike."
   ]
  },
  {
   "cell_type": "markdown",
   "metadata": {},
   "source": [
    "### Hoe kunnen bepaalde factoren invloed hebben of krijgen op het model  ? Welke factoren hebben  daadwerkelijk invloed/correlatie?"
   ]
  },
  {
   "cell_type": "markdown",
   "metadata": {},
   "source": [
    "#### Het weer\n",
    "\n",
    "Voor het gebruiken van weer moeten eerst een aantal weer factoren gekozen worden. Intuitief zouden bijvoorbeeld de neerslag een invloed kunnen hebben op de verhuur van fietsen ivm het feit dat mensen niet van houden om nat te regenen. Maar dit blijft een aanname. Er zal eerst een correlatie moeten worden gezocht tussen weerfactoren en verandering in fiets verhuur / gebruik. Gebruik makend van de KNMI weer api hebben we een aantal historische weer datapunten opgevraagd en opgeslagen. Voor nu doen we onderzoek naar invloed van neerslag, wind en temperatuur."
   ]
  },
  {
   "cell_type": "code",
   "execution_count": 269,
   "metadata": {},
   "outputs": [
    {
     "data": {
      "text/html": [
       "<div>\n",
       "<style scoped>\n",
       "    .dataframe tbody tr th:only-of-type {\n",
       "        vertical-align: middle;\n",
       "    }\n",
       "\n",
       "    .dataframe tbody tr th {\n",
       "        vertical-align: top;\n",
       "    }\n",
       "\n",
       "    .dataframe thead th {\n",
       "        text-align: right;\n",
       "    }\n",
       "</style>\n",
       "<table border=\"1\" class=\"dataframe\">\n",
       "  <thead>\n",
       "    <tr style=\"text-align: right;\">\n",
       "      <th></th>\n",
       "      <th>date</th>\n",
       "      <th>windspeed</th>\n",
       "      <th>temperature</th>\n",
       "      <th>rain</th>\n",
       "    </tr>\n",
       "  </thead>\n",
       "  <tbody>\n",
       "    <tr>\n",
       "      <th>0</th>\n",
       "      <td>2019-01-01</td>\n",
       "      <td>76</td>\n",
       "      <td>77</td>\n",
       "      <td>5</td>\n",
       "    </tr>\n",
       "    <tr>\n",
       "      <th>1</th>\n",
       "      <td>2019-01-02</td>\n",
       "      <td>48</td>\n",
       "      <td>56</td>\n",
       "      <td>-1</td>\n",
       "    </tr>\n",
       "    <tr>\n",
       "      <th>2</th>\n",
       "      <td>2019-01-03</td>\n",
       "      <td>23</td>\n",
       "      <td>31</td>\n",
       "      <td>-1</td>\n",
       "    </tr>\n",
       "    <tr>\n",
       "      <th>3</th>\n",
       "      <td>2019-01-04</td>\n",
       "      <td>45</td>\n",
       "      <td>54</td>\n",
       "      <td>-1</td>\n",
       "    </tr>\n",
       "    <tr>\n",
       "      <th>4</th>\n",
       "      <td>2019-01-05</td>\n",
       "      <td>65</td>\n",
       "      <td>72</td>\n",
       "      <td>1</td>\n",
       "    </tr>\n",
       "  </tbody>\n",
       "</table>\n",
       "</div>"
      ],
      "text/plain": [
       "        date  windspeed  temperature  rain\n",
       "0 2019-01-01         76           77     5\n",
       "1 2019-01-02         48           56    -1\n",
       "2 2019-01-03         23           31    -1\n",
       "3 2019-01-04         45           54    -1\n",
       "4 2019-01-05         65           72     1"
      ]
     },
     "execution_count": 269,
     "metadata": {},
     "output_type": "execute_result"
    }
   ],
   "source": [
    "# Inlezen en voorbereiden weer dataset\n",
    "df_weer = pd.read_csv(\"weer.csv\")\n",
    "df_weer[\"YYYYMMDD\"] = pd.to_datetime(df_weer[\"YYYYMMDD\"],format=\"%Y%m%d\")\n",
    "df_weer.drop(['STN', 'SQ'], axis=1, inplace=True)\n",
    "df_weer.rename(columns={'YYYYMMDD':'date','FG':'windspeed','TG':'temperature','RH':'rain'},inplace=True)\n",
    "df_weer.head()"
   ]
  },
  {
   "cell_type": "code",
   "execution_count": 270,
   "metadata": {},
   "outputs": [
    {
     "data": {
      "text/html": [
       "<div>\n",
       "<style scoped>\n",
       "    .dataframe tbody tr th:only-of-type {\n",
       "        vertical-align: middle;\n",
       "    }\n",
       "\n",
       "    .dataframe tbody tr th {\n",
       "        vertical-align: top;\n",
       "    }\n",
       "\n",
       "    .dataframe thead th {\n",
       "        text-align: right;\n",
       "    }\n",
       "</style>\n",
       "<table border=\"1\" class=\"dataframe\">\n",
       "  <thead>\n",
       "    <tr style=\"text-align: right;\">\n",
       "      <th></th>\n",
       "      <th>date</th>\n",
       "      <th>windspeed</th>\n",
       "      <th>temperature</th>\n",
       "      <th>rain</th>\n",
       "      <th>bikecount</th>\n",
       "      <th>day</th>\n",
       "    </tr>\n",
       "  </thead>\n",
       "  <tbody>\n",
       "    <tr>\n",
       "      <th>0</th>\n",
       "      <td>2019-01-01</td>\n",
       "      <td>76</td>\n",
       "      <td>77</td>\n",
       "      <td>5</td>\n",
       "      <td>8.0</td>\n",
       "      <td>2019-01-01</td>\n",
       "    </tr>\n",
       "    <tr>\n",
       "      <th>1</th>\n",
       "      <td>2019-01-02</td>\n",
       "      <td>48</td>\n",
       "      <td>56</td>\n",
       "      <td>-1</td>\n",
       "      <td>61.0</td>\n",
       "      <td>2019-01-02</td>\n",
       "    </tr>\n",
       "    <tr>\n",
       "      <th>2</th>\n",
       "      <td>2019-01-03</td>\n",
       "      <td>23</td>\n",
       "      <td>31</td>\n",
       "      <td>-1</td>\n",
       "      <td>90.0</td>\n",
       "      <td>2019-01-03</td>\n",
       "    </tr>\n",
       "    <tr>\n",
       "      <th>3</th>\n",
       "      <td>2019-01-04</td>\n",
       "      <td>45</td>\n",
       "      <td>54</td>\n",
       "      <td>-1</td>\n",
       "      <td>64.0</td>\n",
       "      <td>2019-01-04</td>\n",
       "    </tr>\n",
       "    <tr>\n",
       "      <th>4</th>\n",
       "      <td>2019-01-05</td>\n",
       "      <td>65</td>\n",
       "      <td>72</td>\n",
       "      <td>1</td>\n",
       "      <td>17.0</td>\n",
       "      <td>2019-01-05</td>\n",
       "    </tr>\n",
       "  </tbody>\n",
       "</table>\n",
       "</div>"
      ],
      "text/plain": [
       "        date  windspeed  temperature  rain  bikecount        day\n",
       "0 2019-01-01         76           77     5        8.0 2019-01-01\n",
       "1 2019-01-02         48           56    -1       61.0 2019-01-02\n",
       "2 2019-01-03         23           31    -1       90.0 2019-01-03\n",
       "3 2019-01-04         45           54    -1       64.0 2019-01-04\n",
       "4 2019-01-05         65           72     1       17.0 2019-01-05"
      ]
     },
     "execution_count": 270,
     "metadata": {},
     "output_type": "execute_result"
    }
   ],
   "source": [
    "# Verhuurcijfers samenvoegen met weerdata\n",
    "df_bikes_per_day = df_flickbike[[\"tripid\"]].groupby([df_flickbike[\"date\"].dt.date]).count()\n",
    "df_bikes_per_day[\"day\"] = pd.to_datetime(df_bikes_per_day.index,format=\"%Y-%m-%d %H:%M:%S\")\n",
    "df_weer_verhuur = df_weer.merge(df_bikes_per_day, how='left', left_on='date', right_on=\"day\")\n",
    "df_weer_verhuur.rename(columns={'tripid':'bikecount'},inplace=True)\n",
    "df_weer_verhuur.head()"
   ]
  },
  {
   "cell_type": "code",
   "execution_count": 271,
   "metadata": {},
   "outputs": [
    {
     "data": {
      "text/html": [
       "<style  type=\"text/css\" >\n",
       "    #T_af2f3b36_8660_11ea_9a0e_bc5ff495b633row0_col0 {\n",
       "            background-color:  #b40426;\n",
       "            color:  #f1f1f1;\n",
       "        }    #T_af2f3b36_8660_11ea_9a0e_bc5ff495b633row0_col1 {\n",
       "            background-color:  #3b4cc0;\n",
       "            color:  #f1f1f1;\n",
       "        }    #T_af2f3b36_8660_11ea_9a0e_bc5ff495b633row0_col2 {\n",
       "            background-color:  #9ebeff;\n",
       "            color:  #000000;\n",
       "        }    #T_af2f3b36_8660_11ea_9a0e_bc5ff495b633row0_col3 {\n",
       "            background-color:  #3b4cc0;\n",
       "            color:  #f1f1f1;\n",
       "        }    #T_af2f3b36_8660_11ea_9a0e_bc5ff495b633row1_col0 {\n",
       "            background-color:  #6282ea;\n",
       "            color:  #000000;\n",
       "        }    #T_af2f3b36_8660_11ea_9a0e_bc5ff495b633row1_col1 {\n",
       "            background-color:  #b40426;\n",
       "            color:  #f1f1f1;\n",
       "        }    #T_af2f3b36_8660_11ea_9a0e_bc5ff495b633row1_col2 {\n",
       "            background-color:  #4257c9;\n",
       "            color:  #f1f1f1;\n",
       "        }    #T_af2f3b36_8660_11ea_9a0e_bc5ff495b633row1_col3 {\n",
       "            background-color:  #a6c4fe;\n",
       "            color:  #000000;\n",
       "        }    #T_af2f3b36_8660_11ea_9a0e_bc5ff495b633row2_col0 {\n",
       "            background-color:  #c5d6f2;\n",
       "            color:  #000000;\n",
       "        }    #T_af2f3b36_8660_11ea_9a0e_bc5ff495b633row2_col1 {\n",
       "            background-color:  #516ddb;\n",
       "            color:  #000000;\n",
       "        }    #T_af2f3b36_8660_11ea_9a0e_bc5ff495b633row2_col2 {\n",
       "            background-color:  #b40426;\n",
       "            color:  #f1f1f1;\n",
       "        }    #T_af2f3b36_8660_11ea_9a0e_bc5ff495b633row2_col3 {\n",
       "            background-color:  #7093f3;\n",
       "            color:  #000000;\n",
       "        }    #T_af2f3b36_8660_11ea_9a0e_bc5ff495b633row3_col0 {\n",
       "            background-color:  #3b4cc0;\n",
       "            color:  #f1f1f1;\n",
       "        }    #T_af2f3b36_8660_11ea_9a0e_bc5ff495b633row3_col1 {\n",
       "            background-color:  #85a8fc;\n",
       "            color:  #000000;\n",
       "        }    #T_af2f3b36_8660_11ea_9a0e_bc5ff495b633row3_col2 {\n",
       "            background-color:  #3b4cc0;\n",
       "            color:  #f1f1f1;\n",
       "        }    #T_af2f3b36_8660_11ea_9a0e_bc5ff495b633row3_col3 {\n",
       "            background-color:  #b40426;\n",
       "            color:  #f1f1f1;\n",
       "        }</style><table id=\"T_af2f3b36_8660_11ea_9a0e_bc5ff495b633\" ><thead>    <tr>        <th class=\"blank level0\" ></th>        <th class=\"col_heading level0 col0\" >windspeed</th>        <th class=\"col_heading level0 col1\" >temperature</th>        <th class=\"col_heading level0 col2\" >rain</th>        <th class=\"col_heading level0 col3\" >bikecount</th>    </tr></thead><tbody>\n",
       "                <tr>\n",
       "                        <th id=\"T_af2f3b36_8660_11ea_9a0e_bc5ff495b633level0_row0\" class=\"row_heading level0 row0\" >windspeed</th>\n",
       "                        <td id=\"T_af2f3b36_8660_11ea_9a0e_bc5ff495b633row0_col0\" class=\"data row0 col0\" >1.00</td>\n",
       "                        <td id=\"T_af2f3b36_8660_11ea_9a0e_bc5ff495b633row0_col1\" class=\"data row0 col1\" >-0.06</td>\n",
       "                        <td id=\"T_af2f3b36_8660_11ea_9a0e_bc5ff495b633row0_col2\" class=\"data row0 col2\" >0.29</td>\n",
       "                        <td id=\"T_af2f3b36_8660_11ea_9a0e_bc5ff495b633row0_col3\" class=\"data row0 col3\" >-0.21</td>\n",
       "            </tr>\n",
       "            <tr>\n",
       "                        <th id=\"T_af2f3b36_8660_11ea_9a0e_bc5ff495b633level0_row1\" class=\"row_heading level0 row1\" >temperature</th>\n",
       "                        <td id=\"T_af2f3b36_8660_11ea_9a0e_bc5ff495b633row1_col0\" class=\"data row1 col0\" >-0.06</td>\n",
       "                        <td id=\"T_af2f3b36_8660_11ea_9a0e_bc5ff495b633row1_col1\" class=\"data row1 col1\" >1.00</td>\n",
       "                        <td id=\"T_af2f3b36_8660_11ea_9a0e_bc5ff495b633row1_col2\" class=\"data row1 col2\" >0.02</td>\n",
       "                        <td id=\"T_af2f3b36_8660_11ea_9a0e_bc5ff495b633row1_col3\" class=\"data row1 col3\" >0.18</td>\n",
       "            </tr>\n",
       "            <tr>\n",
       "                        <th id=\"T_af2f3b36_8660_11ea_9a0e_bc5ff495b633level0_row2\" class=\"row_heading level0 row2\" >rain</th>\n",
       "                        <td id=\"T_af2f3b36_8660_11ea_9a0e_bc5ff495b633row2_col0\" class=\"data row2 col0\" >0.29</td>\n",
       "                        <td id=\"T_af2f3b36_8660_11ea_9a0e_bc5ff495b633row2_col1\" class=\"data row2 col1\" >0.02</td>\n",
       "                        <td id=\"T_af2f3b36_8660_11ea_9a0e_bc5ff495b633row2_col2\" class=\"data row2 col2\" >1.00</td>\n",
       "                        <td id=\"T_af2f3b36_8660_11ea_9a0e_bc5ff495b633row2_col3\" class=\"data row2 col3\" >-0.00</td>\n",
       "            </tr>\n",
       "            <tr>\n",
       "                        <th id=\"T_af2f3b36_8660_11ea_9a0e_bc5ff495b633level0_row3\" class=\"row_heading level0 row3\" >bikecount</th>\n",
       "                        <td id=\"T_af2f3b36_8660_11ea_9a0e_bc5ff495b633row3_col0\" class=\"data row3 col0\" >-0.21</td>\n",
       "                        <td id=\"T_af2f3b36_8660_11ea_9a0e_bc5ff495b633row3_col1\" class=\"data row3 col1\" >0.18</td>\n",
       "                        <td id=\"T_af2f3b36_8660_11ea_9a0e_bc5ff495b633row3_col2\" class=\"data row3 col2\" >-0.00</td>\n",
       "                        <td id=\"T_af2f3b36_8660_11ea_9a0e_bc5ff495b633row3_col3\" class=\"data row3 col3\" >1.00</td>\n",
       "            </tr>\n",
       "    </tbody></table>"
      ],
      "text/plain": [
       "<pandas.io.formats.style.Styler at 0x1e4777fef60>"
      ]
     },
     "execution_count": 271,
     "metadata": {},
     "output_type": "execute_result"
    }
   ],
   "source": [
    "# Correlatiematrix\n",
    "df_weer_verhuur.corr().style.background_gradient(cmap='coolwarm').set_precision(2)"
   ]
  },
  {
   "cell_type": "markdown",
   "metadata": {},
   "source": [
    "Hieruit blijkt dat op het eerste gezicht weer gegevens weinig invloed hebben op het aantal verhuurde fietsen. De grootste correlatie is te zien bij windkracht met een negatieve correlatie van 0.2. Zelfs daar is dus praktisch geen correlatie te vinden. Misschien valt er een betere correlatie te behalen door meerdere variabelen te combineren en een LR model op te stellen, maar veel verbetering wordt hier niet verwacht. \n",
    "\n",
    "Een mogelijke reden voor de slechte correlatie kan te maken hebben met waar deze fietsen voor bedoeld zijn, namelijk als vervoer van en naar het werk. Zoals al gezegd is heeft dit niets te maken met woon-werk verkeer en wordt de fiets regelmatig gepakt om bijvoorbeeld wat eten te halen, maar toch worden werknemers meer gedwongen de fiets te pakken dan wanneer iemand in zijn vrije tijd de fiets pakt.\n",
    "\n",
    "Weer gegevens gaan we dus niet meenemen in de decision tree regressor. Mogelijk is er toch een verband te vinden door de data anders te transformeren of combineren, dus dit wordt de volgende stap. We gaan kijken of we de data zo kunnen selecteren dat er toch correlaties ontstaan. Bijvoorbeeld door te kijken naar specifieke locaties, of speciale omstandigheden."
   ]
  },
  {
   "cell_type": "markdown",
   "metadata": {},
   "source": [
    "#### Neerslag:"
   ]
  },
  {
   "cell_type": "code",
   "execution_count": 272,
   "metadata": {},
   "outputs": [],
   "source": [
    "rain = df_weer_verhuur[['rain', 'bikecount']]"
   ]
  },
  {
   "cell_type": "code",
   "execution_count": 273,
   "metadata": {},
   "outputs": [
    {
     "data": {
      "image/png": "[encoded data removed]",
      "text/plain": [
       "<Figure size 432x288 with 1 Axes>"
      ]
     },
     "metadata": {
      "needs_background": "light"
     },
     "output_type": "display_data"
    }
   ],
   "source": [
    "rain.sort_values(\"rain\",inplace=True)\n",
    "plt.scatter(rain[\"rain\"],rain[\"bikecount\"])\n",
    "plt.title(\"Relatie regen en verhuurde fietsen\")\n",
    "plt.xlabel(\"Neerslag\")\n",
    "plt.ylabel(\"Aantal gebruikte fietsen\")\n",
    "plt.show()"
   ]
  },
  {
   "cell_type": "code",
   "execution_count": 274,
   "metadata": {},
   "outputs": [
    {
     "data": {
      "text/html": [
       "<style  type=\"text/css\" >\n",
       "    #T_af516936_8660_11ea_a416_bc5ff495b633row0_col0 {\n",
       "            background-color:  #b40426;\n",
       "            color:  #f1f1f1;\n",
       "        }    #T_af516936_8660_11ea_a416_bc5ff495b633row0_col1 {\n",
       "            background-color:  #3b4cc0;\n",
       "            color:  #f1f1f1;\n",
       "        }    #T_af516936_8660_11ea_a416_bc5ff495b633row1_col0 {\n",
       "            background-color:  #3b4cc0;\n",
       "            color:  #f1f1f1;\n",
       "        }    #T_af516936_8660_11ea_a416_bc5ff495b633row1_col1 {\n",
       "            background-color:  #b40426;\n",
       "            color:  #f1f1f1;\n",
       "        }</style><table id=\"T_af516936_8660_11ea_a416_bc5ff495b633\" ><thead>    <tr>        <th class=\"blank level0\" ></th>        <th class=\"col_heading level0 col0\" >rain</th>        <th class=\"col_heading level0 col1\" >bikecount</th>    </tr></thead><tbody>\n",
       "                <tr>\n",
       "                        <th id=\"T_af516936_8660_11ea_a416_bc5ff495b633level0_row0\" class=\"row_heading level0 row0\" >rain</th>\n",
       "                        <td id=\"T_af516936_8660_11ea_a416_bc5ff495b633row0_col0\" class=\"data row0 col0\" >1.00</td>\n",
       "                        <td id=\"T_af516936_8660_11ea_a416_bc5ff495b633row0_col1\" class=\"data row0 col1\" >-0.00</td>\n",
       "            </tr>\n",
       "            <tr>\n",
       "                        <th id=\"T_af516936_8660_11ea_a416_bc5ff495b633level0_row1\" class=\"row_heading level0 row1\" >bikecount</th>\n",
       "                        <td id=\"T_af516936_8660_11ea_a416_bc5ff495b633row1_col0\" class=\"data row1 col0\" >-0.00</td>\n",
       "                        <td id=\"T_af516936_8660_11ea_a416_bc5ff495b633row1_col1\" class=\"data row1 col1\" >1.00</td>\n",
       "            </tr>\n",
       "    </tbody></table>"
      ],
      "text/plain": [
       "<pandas.io.formats.style.Styler at 0x1e478b31080>"
      ]
     },
     "execution_count": 274,
     "metadata": {},
     "output_type": "execute_result"
    }
   ],
   "source": [
    "rain.corr().style.background_gradient(cmap='coolwarm').set_precision(2)"
   ]
  },
  {
   "cell_type": "code",
   "execution_count": 275,
   "metadata": {},
   "outputs": [
    {
     "data": {
      "text/html": [
       "<style  type=\"text/css\" >\n",
       "    #T_af5512ba_8660_11ea_98d9_bc5ff495b633row0_col0 {\n",
       "            background-color:  #b40426;\n",
       "            color:  #f1f1f1;\n",
       "        }    #T_af5512ba_8660_11ea_98d9_bc5ff495b633row0_col1 {\n",
       "            background-color:  #3b4cc0;\n",
       "            color:  #f1f1f1;\n",
       "        }    #T_af5512ba_8660_11ea_98d9_bc5ff495b633row1_col0 {\n",
       "            background-color:  #3b4cc0;\n",
       "            color:  #f1f1f1;\n",
       "        }    #T_af5512ba_8660_11ea_98d9_bc5ff495b633row1_col1 {\n",
       "            background-color:  #b40426;\n",
       "            color:  #f1f1f1;\n",
       "        }</style><table id=\"T_af5512ba_8660_11ea_98d9_bc5ff495b633\" ><thead>    <tr>        <th class=\"blank level0\" ></th>        <th class=\"col_heading level0 col0\" >rain</th>        <th class=\"col_heading level0 col1\" >bikecount</th>    </tr></thead><tbody>\n",
       "                <tr>\n",
       "                        <th id=\"T_af5512ba_8660_11ea_98d9_bc5ff495b633level0_row0\" class=\"row_heading level0 row0\" >rain</th>\n",
       "                        <td id=\"T_af5512ba_8660_11ea_98d9_bc5ff495b633row0_col0\" class=\"data row0 col0\" >1.00</td>\n",
       "                        <td id=\"T_af5512ba_8660_11ea_98d9_bc5ff495b633row0_col1\" class=\"data row0 col1\" >0.10</td>\n",
       "            </tr>\n",
       "            <tr>\n",
       "                        <th id=\"T_af5512ba_8660_11ea_98d9_bc5ff495b633level0_row1\" class=\"row_heading level0 row1\" >bikecount</th>\n",
       "                        <td id=\"T_af5512ba_8660_11ea_98d9_bc5ff495b633row1_col0\" class=\"data row1 col0\" >0.10</td>\n",
       "                        <td id=\"T_af5512ba_8660_11ea_98d9_bc5ff495b633row1_col1\" class=\"data row1 col1\" >1.00</td>\n",
       "            </tr>\n",
       "    </tbody></table>"
      ],
      "text/plain": [
       "<pandas.io.formats.style.Styler at 0x1e4794d9f28>"
      ]
     },
     "execution_count": 275,
     "metadata": {},
     "output_type": "execute_result"
    }
   ],
   "source": [
    "rain[rain['rain'] > 60].corr().style.background_gradient(cmap='coolwarm').set_precision(2)"
   ]
  },
  {
   "cell_type": "markdown",
   "metadata": {},
   "source": []
  },
  {
   "cell_type": "code",
   "execution_count": 276,
   "metadata": {},
   "outputs": [
    {
     "data": {
      "text/html": [
       "<style  type=\"text/css\" >\n",
       "    #T_af590c90_8660_11ea_9eb4_bc5ff495b633row0_col0 {\n",
       "            background-color:  #b40426;\n",
       "            color:  #f1f1f1;\n",
       "        }    #T_af590c90_8660_11ea_9eb4_bc5ff495b633row0_col1 {\n",
       "            background-color:  #3b4cc0;\n",
       "            color:  #f1f1f1;\n",
       "        }    #T_af590c90_8660_11ea_9eb4_bc5ff495b633row1_col0 {\n",
       "            background-color:  #3b4cc0;\n",
       "            color:  #f1f1f1;\n",
       "        }    #T_af590c90_8660_11ea_9eb4_bc5ff495b633row1_col1 {\n",
       "            background-color:  #b40426;\n",
       "            color:  #f1f1f1;\n",
       "        }</style><table id=\"T_af590c90_8660_11ea_9eb4_bc5ff495b633\" ><thead>    <tr>        <th class=\"blank level0\" ></th>        <th class=\"col_heading level0 col0\" >rain</th>        <th class=\"col_heading level0 col1\" >bikecount</th>    </tr></thead><tbody>\n",
       "                <tr>\n",
       "                        <th id=\"T_af590c90_8660_11ea_9eb4_bc5ff495b633level0_row0\" class=\"row_heading level0 row0\" >rain</th>\n",
       "                        <td id=\"T_af590c90_8660_11ea_9eb4_bc5ff495b633row0_col0\" class=\"data row0 col0\" >1.00</td>\n",
       "                        <td id=\"T_af590c90_8660_11ea_9eb4_bc5ff495b633row0_col1\" class=\"data row0 col1\" >0.46</td>\n",
       "            </tr>\n",
       "            <tr>\n",
       "                        <th id=\"T_af590c90_8660_11ea_9eb4_bc5ff495b633level0_row1\" class=\"row_heading level0 row1\" >bikecount</th>\n",
       "                        <td id=\"T_af590c90_8660_11ea_9eb4_bc5ff495b633row1_col0\" class=\"data row1 col0\" >0.46</td>\n",
       "                        <td id=\"T_af590c90_8660_11ea_9eb4_bc5ff495b633row1_col1\" class=\"data row1 col1\" >1.00</td>\n",
       "            </tr>\n",
       "    </tbody></table>"
      ],
      "text/plain": [
       "<pandas.io.formats.style.Styler at 0x1e4777fee10>"
      ]
     },
     "execution_count": 276,
     "metadata": {},
     "output_type": "execute_result"
    }
   ],
   "source": [
    "rain[rain['rain'] > 250].corr().style.background_gradient(cmap='coolwarm').set_precision(2)"
   ]
  },
  {
   "cell_type": "markdown",
   "metadata": {},
   "source": [
    "Hierboven zien we eerst dat er praktisch geen correlatie is tussen neerslag en aantal verhuurde fietsen. Als we de rijen met minder weinig neerslag verwijderen, hebben we opeens steeds meer correlatie."
   ]
  },
  {
   "cell_type": "markdown",
   "metadata": {},
   "source": [
    "#### Temperatuur:"
   ]
  },
  {
   "cell_type": "code",
   "execution_count": 277,
   "metadata": {},
   "outputs": [],
   "source": [
    "temp = df_weer_verhuur[['temperature', 'bikecount']]"
   ]
  },
  {
   "cell_type": "code",
   "execution_count": 278,
   "metadata": {},
   "outputs": [
    {
     "data": {
      "image/png": "[encoded data removed]",
      "text/plain": [
       "<Figure size 432x288 with 1 Axes>"
      ]
     },
     "metadata": {
      "needs_background": "light"
     },
     "output_type": "display_data"
    }
   ],
   "source": [
    "temp.sort_values(\"temperature\",inplace=True)\n",
    "plt.scatter(temp[\"temperature\"],temp[\"bikecount\"])\n",
    "plt.title(\"Relatie temperatuur en verhuurde fietsen\")\n",
    "plt.xlabel(\"Temperatuur\")\n",
    "plt.ylabel(\"Aantal gebruikte fietsen\")\n",
    "plt.show()"
   ]
  },
  {
   "cell_type": "code",
   "execution_count": 279,
   "metadata": {},
   "outputs": [
    {
     "data": {
      "text/html": [
       "<style  type=\"text/css\" >\n",
       "    #T_af880998_8660_11ea_8002_bc5ff495b633row0_col0 {\n",
       "            background-color:  #b40426;\n",
       "            color:  #f1f1f1;\n",
       "        }    #T_af880998_8660_11ea_8002_bc5ff495b633row0_col1 {\n",
       "            background-color:  #3b4cc0;\n",
       "            color:  #f1f1f1;\n",
       "        }    #T_af880998_8660_11ea_8002_bc5ff495b633row1_col0 {\n",
       "            background-color:  #3b4cc0;\n",
       "            color:  #f1f1f1;\n",
       "        }    #T_af880998_8660_11ea_8002_bc5ff495b633row1_col1 {\n",
       "            background-color:  #b40426;\n",
       "            color:  #f1f1f1;\n",
       "        }</style><table id=\"T_af880998_8660_11ea_8002_bc5ff495b633\" ><thead>    <tr>        <th class=\"blank level0\" ></th>        <th class=\"col_heading level0 col0\" >temperature</th>        <th class=\"col_heading level0 col1\" >bikecount</th>    </tr></thead><tbody>\n",
       "                <tr>\n",
       "                        <th id=\"T_af880998_8660_11ea_8002_bc5ff495b633level0_row0\" class=\"row_heading level0 row0\" >temperature</th>\n",
       "                        <td id=\"T_af880998_8660_11ea_8002_bc5ff495b633row0_col0\" class=\"data row0 col0\" >1.00</td>\n",
       "                        <td id=\"T_af880998_8660_11ea_8002_bc5ff495b633row0_col1\" class=\"data row0 col1\" >0.18</td>\n",
       "            </tr>\n",
       "            <tr>\n",
       "                        <th id=\"T_af880998_8660_11ea_8002_bc5ff495b633level0_row1\" class=\"row_heading level0 row1\" >bikecount</th>\n",
       "                        <td id=\"T_af880998_8660_11ea_8002_bc5ff495b633row1_col0\" class=\"data row1 col0\" >0.18</td>\n",
       "                        <td id=\"T_af880998_8660_11ea_8002_bc5ff495b633row1_col1\" class=\"data row1 col1\" >1.00</td>\n",
       "            </tr>\n",
       "    </tbody></table>"
      ],
      "text/plain": [
       "<pandas.io.formats.style.Styler at 0x1e477809dd8>"
      ]
     },
     "execution_count": 279,
     "metadata": {},
     "output_type": "execute_result"
    }
   ],
   "source": [
    "temp.corr().style.background_gradient(cmap='coolwarm').set_precision(2)"
   ]
  },
  {
   "cell_type": "code",
   "execution_count": 280,
   "metadata": {},
   "outputs": [
    {
     "data": {
      "text/html": [
       "<style  type=\"text/css\" >\n",
       "    #T_af8aefd0_8660_11ea_9802_bc5ff495b633row0_col0 {\n",
       "            background-color:  #b40426;\n",
       "            color:  #f1f1f1;\n",
       "        }    #T_af8aefd0_8660_11ea_9802_bc5ff495b633row0_col1 {\n",
       "            background-color:  #3b4cc0;\n",
       "            color:  #f1f1f1;\n",
       "        }    #T_af8aefd0_8660_11ea_9802_bc5ff495b633row1_col0 {\n",
       "            background-color:  #3b4cc0;\n",
       "            color:  #f1f1f1;\n",
       "        }    #T_af8aefd0_8660_11ea_9802_bc5ff495b633row1_col1 {\n",
       "            background-color:  #b40426;\n",
       "            color:  #f1f1f1;\n",
       "        }</style><table id=\"T_af8aefd0_8660_11ea_9802_bc5ff495b633\" ><thead>    <tr>        <th class=\"blank level0\" ></th>        <th class=\"col_heading level0 col0\" >temperature</th>        <th class=\"col_heading level0 col1\" >bikecount</th>    </tr></thead><tbody>\n",
       "                <tr>\n",
       "                        <th id=\"T_af8aefd0_8660_11ea_9802_bc5ff495b633level0_row0\" class=\"row_heading level0 row0\" >temperature</th>\n",
       "                        <td id=\"T_af8aefd0_8660_11ea_9802_bc5ff495b633row0_col0\" class=\"data row0 col0\" >1.00</td>\n",
       "                        <td id=\"T_af8aefd0_8660_11ea_9802_bc5ff495b633row0_col1\" class=\"data row0 col1\" >0.19</td>\n",
       "            </tr>\n",
       "            <tr>\n",
       "                        <th id=\"T_af8aefd0_8660_11ea_9802_bc5ff495b633level0_row1\" class=\"row_heading level0 row1\" >bikecount</th>\n",
       "                        <td id=\"T_af8aefd0_8660_11ea_9802_bc5ff495b633row1_col0\" class=\"data row1 col0\" >0.19</td>\n",
       "                        <td id=\"T_af8aefd0_8660_11ea_9802_bc5ff495b633row1_col1\" class=\"data row1 col1\" >1.00</td>\n",
       "            </tr>\n",
       "    </tbody></table>"
      ],
      "text/plain": [
       "<pandas.io.formats.style.Styler at 0x1e4777c6940>"
      ]
     },
     "execution_count": 280,
     "metadata": {},
     "output_type": "execute_result"
    }
   ],
   "source": [
    "temp[temp['temperature'] < 50].corr().style.background_gradient(cmap='coolwarm').set_precision(2)"
   ]
  },
  {
   "cell_type": "code",
   "execution_count": 281,
   "metadata": {},
   "outputs": [
    {
     "data": {
      "text/html": [
       "<style  type=\"text/css\" >\n",
       "    #T_af8e9948_8660_11ea_8d72_bc5ff495b633row0_col0 {\n",
       "            background-color:  #b40426;\n",
       "            color:  #f1f1f1;\n",
       "        }    #T_af8e9948_8660_11ea_8d72_bc5ff495b633row0_col1 {\n",
       "            background-color:  #3b4cc0;\n",
       "            color:  #f1f1f1;\n",
       "        }    #T_af8e9948_8660_11ea_8d72_bc5ff495b633row1_col0 {\n",
       "            background-color:  #3b4cc0;\n",
       "            color:  #f1f1f1;\n",
       "        }    #T_af8e9948_8660_11ea_8d72_bc5ff495b633row1_col1 {\n",
       "            background-color:  #b40426;\n",
       "            color:  #f1f1f1;\n",
       "        }</style><table id=\"T_af8e9948_8660_11ea_8d72_bc5ff495b633\" ><thead>    <tr>        <th class=\"blank level0\" ></th>        <th class=\"col_heading level0 col0\" >temperature</th>        <th class=\"col_heading level0 col1\" >bikecount</th>    </tr></thead><tbody>\n",
       "                <tr>\n",
       "                        <th id=\"T_af8e9948_8660_11ea_8d72_bc5ff495b633level0_row0\" class=\"row_heading level0 row0\" >temperature</th>\n",
       "                        <td id=\"T_af8e9948_8660_11ea_8d72_bc5ff495b633row0_col0\" class=\"data row0 col0\" >1.00</td>\n",
       "                        <td id=\"T_af8e9948_8660_11ea_8d72_bc5ff495b633row0_col1\" class=\"data row0 col1\" >0.52</td>\n",
       "            </tr>\n",
       "            <tr>\n",
       "                        <th id=\"T_af8e9948_8660_11ea_8d72_bc5ff495b633level0_row1\" class=\"row_heading level0 row1\" >bikecount</th>\n",
       "                        <td id=\"T_af8e9948_8660_11ea_8d72_bc5ff495b633row1_col0\" class=\"data row1 col0\" >0.52</td>\n",
       "                        <td id=\"T_af8e9948_8660_11ea_8d72_bc5ff495b633row1_col1\" class=\"data row1 col1\" >1.00</td>\n",
       "            </tr>\n",
       "    </tbody></table>"
      ],
      "text/plain": [
       "<pandas.io.formats.style.Styler at 0x1e4777c6630>"
      ]
     },
     "execution_count": 281,
     "metadata": {},
     "output_type": "execute_result"
    }
   ],
   "source": [
    "temp[temp['temperature'] < 10].corr().style.background_gradient(cmap='coolwarm').set_precision(2)"
   ]
  },
  {
   "cell_type": "markdown",
   "metadata": {},
   "source": [
    "Wat voor neerslag geldt, geldt ook voor temperatuur. Als de weersomstandigheden koud en nat zijn, worden er dus minder fietsen gehuurd."
   ]
  },
  {
   "cell_type": "markdown",
   "metadata": {},
   "source": [
    "#### Windsnelheid:"
   ]
  },
  {
   "cell_type": "code",
   "execution_count": 282,
   "metadata": {},
   "outputs": [],
   "source": [
    "wind = df_weer_verhuur[['windspeed', 'bikecount']]"
   ]
  },
  {
   "cell_type": "code",
   "execution_count": 283,
   "metadata": {},
   "outputs": [
    {
     "data": {
      "image/png": "[encoded data removed]",
      "text/plain": [
       "<Figure size 432x288 with 1 Axes>"
      ]
     },
     "metadata": {
      "needs_background": "light"
     },
     "output_type": "display_data"
    }
   ],
   "source": [
    "wind.sort_values(\"windspeed\",inplace=True)\n",
    "plt.scatter(wind[\"windspeed\"],wind[\"bikecount\"])\n",
    "plt.title(\"Relatie windsnelheid en verhuurde fietsen\")\n",
    "plt.xlabel(\"Windsnelheid\")\n",
    "plt.ylabel(\"Aantal gebruikte fietsen\")\n",
    "plt.show()"
   ]
  },
  {
   "cell_type": "code",
   "execution_count": 284,
   "metadata": {},
   "outputs": [
    {
     "data": {
      "text/html": [
       "<style  type=\"text/css\" >\n",
       "    #T_afaf8ec6_8660_11ea_9c04_bc5ff495b633row0_col0 {\n",
       "            background-color:  #b40426;\n",
       "            color:  #f1f1f1;\n",
       "        }    #T_afaf8ec6_8660_11ea_9c04_bc5ff495b633row0_col1 {\n",
       "            background-color:  #3b4cc0;\n",
       "            color:  #f1f1f1;\n",
       "        }    #T_afaf8ec6_8660_11ea_9c04_bc5ff495b633row1_col0 {\n",
       "            background-color:  #3b4cc0;\n",
       "            color:  #f1f1f1;\n",
       "        }    #T_afaf8ec6_8660_11ea_9c04_bc5ff495b633row1_col1 {\n",
       "            background-color:  #b40426;\n",
       "            color:  #f1f1f1;\n",
       "        }</style><table id=\"T_afaf8ec6_8660_11ea_9c04_bc5ff495b633\" ><thead>    <tr>        <th class=\"blank level0\" ></th>        <th class=\"col_heading level0 col0\" >windspeed</th>        <th class=\"col_heading level0 col1\" >bikecount</th>    </tr></thead><tbody>\n",
       "                <tr>\n",
       "                        <th id=\"T_afaf8ec6_8660_11ea_9c04_bc5ff495b633level0_row0\" class=\"row_heading level0 row0\" >windspeed</th>\n",
       "                        <td id=\"T_afaf8ec6_8660_11ea_9c04_bc5ff495b633row0_col0\" class=\"data row0 col0\" >1.00</td>\n",
       "                        <td id=\"T_afaf8ec6_8660_11ea_9c04_bc5ff495b633row0_col1\" class=\"data row0 col1\" >-0.21</td>\n",
       "            </tr>\n",
       "            <tr>\n",
       "                        <th id=\"T_afaf8ec6_8660_11ea_9c04_bc5ff495b633level0_row1\" class=\"row_heading level0 row1\" >bikecount</th>\n",
       "                        <td id=\"T_afaf8ec6_8660_11ea_9c04_bc5ff495b633row1_col0\" class=\"data row1 col0\" >-0.21</td>\n",
       "                        <td id=\"T_afaf8ec6_8660_11ea_9c04_bc5ff495b633row1_col1\" class=\"data row1 col1\" >1.00</td>\n",
       "            </tr>\n",
       "    </tbody></table>"
      ],
      "text/plain": [
       "<pandas.io.formats.style.Styler at 0x1e4777c6a20>"
      ]
     },
     "execution_count": 284,
     "metadata": {},
     "output_type": "execute_result"
    }
   ],
   "source": [
    "wind.corr().style.background_gradient(cmap='coolwarm').set_precision(2)"
   ]
  },
  {
   "cell_type": "code",
   "execution_count": 285,
   "metadata": {},
   "outputs": [
    {
     "data": {
      "text/html": [
       "<style  type=\"text/css\" >\n",
       "    #T_afb2c322_8660_11ea_a29d_bc5ff495b633row0_col0 {\n",
       "            background-color:  #b40426;\n",
       "            color:  #f1f1f1;\n",
       "        }    #T_afb2c322_8660_11ea_a29d_bc5ff495b633row0_col1 {\n",
       "            background-color:  #3b4cc0;\n",
       "            color:  #f1f1f1;\n",
       "        }    #T_afb2c322_8660_11ea_a29d_bc5ff495b633row1_col0 {\n",
       "            background-color:  #3b4cc0;\n",
       "            color:  #f1f1f1;\n",
       "        }    #T_afb2c322_8660_11ea_a29d_bc5ff495b633row1_col1 {\n",
       "            background-color:  #b40426;\n",
       "            color:  #f1f1f1;\n",
       "        }</style><table id=\"T_afb2c322_8660_11ea_a29d_bc5ff495b633\" ><thead>    <tr>        <th class=\"blank level0\" ></th>        <th class=\"col_heading level0 col0\" >windspeed</th>        <th class=\"col_heading level0 col1\" >bikecount</th>    </tr></thead><tbody>\n",
       "                <tr>\n",
       "                        <th id=\"T_afb2c322_8660_11ea_a29d_bc5ff495b633level0_row0\" class=\"row_heading level0 row0\" >windspeed</th>\n",
       "                        <td id=\"T_afb2c322_8660_11ea_a29d_bc5ff495b633row0_col0\" class=\"data row0 col0\" >1.00</td>\n",
       "                        <td id=\"T_afb2c322_8660_11ea_a29d_bc5ff495b633row0_col1\" class=\"data row0 col1\" >0.00</td>\n",
       "            </tr>\n",
       "            <tr>\n",
       "                        <th id=\"T_afb2c322_8660_11ea_a29d_bc5ff495b633level0_row1\" class=\"row_heading level0 row1\" >bikecount</th>\n",
       "                        <td id=\"T_afb2c322_8660_11ea_a29d_bc5ff495b633row1_col0\" class=\"data row1 col0\" >0.00</td>\n",
       "                        <td id=\"T_afb2c322_8660_11ea_a29d_bc5ff495b633row1_col1\" class=\"data row1 col1\" >1.00</td>\n",
       "            </tr>\n",
       "    </tbody></table>"
      ],
      "text/plain": [
       "<pandas.io.formats.style.Styler at 0x1e4777e4320>"
      ]
     },
     "execution_count": 285,
     "metadata": {},
     "output_type": "execute_result"
    }
   ],
   "source": [
    "wind[wind['windspeed'] < 50].corr().style.background_gradient(cmap='coolwarm').set_precision(2)"
   ]
  },
  {
   "cell_type": "code",
   "execution_count": 286,
   "metadata": {},
   "outputs": [
    {
     "data": {
      "text/html": [
       "<style  type=\"text/css\" >\n",
       "    #T_afb645c0_8660_11ea_84ac_bc5ff495b633row0_col0 {\n",
       "            background-color:  #b40426;\n",
       "            color:  #f1f1f1;\n",
       "        }    #T_afb645c0_8660_11ea_84ac_bc5ff495b633row0_col1 {\n",
       "            background-color:  #3b4cc0;\n",
       "            color:  #f1f1f1;\n",
       "        }    #T_afb645c0_8660_11ea_84ac_bc5ff495b633row1_col0 {\n",
       "            background-color:  #3b4cc0;\n",
       "            color:  #f1f1f1;\n",
       "        }    #T_afb645c0_8660_11ea_84ac_bc5ff495b633row1_col1 {\n",
       "            background-color:  #b40426;\n",
       "            color:  #f1f1f1;\n",
       "        }</style><table id=\"T_afb645c0_8660_11ea_84ac_bc5ff495b633\" ><thead>    <tr>        <th class=\"blank level0\" ></th>        <th class=\"col_heading level0 col0\" >windspeed</th>        <th class=\"col_heading level0 col1\" >bikecount</th>    </tr></thead><tbody>\n",
       "                <tr>\n",
       "                        <th id=\"T_afb645c0_8660_11ea_84ac_bc5ff495b633level0_row0\" class=\"row_heading level0 row0\" >windspeed</th>\n",
       "                        <td id=\"T_afb645c0_8660_11ea_84ac_bc5ff495b633row0_col0\" class=\"data row0 col0\" >1.00</td>\n",
       "                        <td id=\"T_afb645c0_8660_11ea_84ac_bc5ff495b633row0_col1\" class=\"data row0 col1\" >-0.24</td>\n",
       "            </tr>\n",
       "            <tr>\n",
       "                        <th id=\"T_afb645c0_8660_11ea_84ac_bc5ff495b633level0_row1\" class=\"row_heading level0 row1\" >bikecount</th>\n",
       "                        <td id=\"T_afb645c0_8660_11ea_84ac_bc5ff495b633row1_col0\" class=\"data row1 col0\" >-0.24</td>\n",
       "                        <td id=\"T_afb645c0_8660_11ea_84ac_bc5ff495b633row1_col1\" class=\"data row1 col1\" >1.00</td>\n",
       "            </tr>\n",
       "    </tbody></table>"
      ],
      "text/plain": [
       "<pandas.io.formats.style.Styler at 0x1e477591400>"
      ]
     },
     "execution_count": 286,
     "metadata": {},
     "output_type": "execute_result"
    }
   ],
   "source": [
    "wind[wind['windspeed'] > 90].corr().style.background_gradient(cmap='coolwarm').set_precision(2)"
   ]
  },
  {
   "cell_type": "code",
   "execution_count": 287,
   "metadata": {},
   "outputs": [
    {
     "data": {
      "text/html": [
       "<style  type=\"text/css\" >\n",
       "    #T_afb92bb8_8660_11ea_902c_bc5ff495b633row0_col0 {\n",
       "            background-color:  #b40426;\n",
       "            color:  #f1f1f1;\n",
       "        }    #T_afb92bb8_8660_11ea_902c_bc5ff495b633row0_col1 {\n",
       "            background-color:  #3b4cc0;\n",
       "            color:  #f1f1f1;\n",
       "        }    #T_afb92bb8_8660_11ea_902c_bc5ff495b633row1_col0 {\n",
       "            background-color:  #3b4cc0;\n",
       "            color:  #f1f1f1;\n",
       "        }    #T_afb92bb8_8660_11ea_902c_bc5ff495b633row1_col1 {\n",
       "            background-color:  #b40426;\n",
       "            color:  #f1f1f1;\n",
       "        }</style><table id=\"T_afb92bb8_8660_11ea_902c_bc5ff495b633\" ><thead>    <tr>        <th class=\"blank level0\" ></th>        <th class=\"col_heading level0 col0\" >windspeed</th>        <th class=\"col_heading level0 col1\" >bikecount</th>    </tr></thead><tbody>\n",
       "                <tr>\n",
       "                        <th id=\"T_afb92bb8_8660_11ea_902c_bc5ff495b633level0_row0\" class=\"row_heading level0 row0\" >windspeed</th>\n",
       "                        <td id=\"T_afb92bb8_8660_11ea_902c_bc5ff495b633row0_col0\" class=\"data row0 col0\" >1.00</td>\n",
       "                        <td id=\"T_afb92bb8_8660_11ea_902c_bc5ff495b633row0_col1\" class=\"data row0 col1\" >-0.43</td>\n",
       "            </tr>\n",
       "            <tr>\n",
       "                        <th id=\"T_afb92bb8_8660_11ea_902c_bc5ff495b633level0_row1\" class=\"row_heading level0 row1\" >bikecount</th>\n",
       "                        <td id=\"T_afb92bb8_8660_11ea_902c_bc5ff495b633row1_col0\" class=\"data row1 col0\" >-0.43</td>\n",
       "                        <td id=\"T_afb92bb8_8660_11ea_902c_bc5ff495b633row1_col1\" class=\"data row1 col1\" >1.00</td>\n",
       "            </tr>\n",
       "    </tbody></table>"
      ],
      "text/plain": [
       "<pandas.io.formats.style.Styler at 0x1e479cc3588>"
      ]
     },
     "execution_count": 287,
     "metadata": {},
     "output_type": "execute_result"
    }
   ],
   "source": [
    "wind[wind['windspeed'] > 50].corr().style.background_gradient(cmap='coolwarm').set_precision(2)"
   ]
  },
  {
   "cell_type": "code",
   "execution_count": 288,
   "metadata": {},
   "outputs": [
    {
     "data": {
      "text/html": [
       "<style  type=\"text/css\" >\n",
       "    #T_afbc3906_8660_11ea_a988_bc5ff495b633row0_col0 {\n",
       "            background-color:  #b40426;\n",
       "            color:  #f1f1f1;\n",
       "        }    #T_afbc3906_8660_11ea_a988_bc5ff495b633row0_col1 {\n",
       "            background-color:  #3b4cc0;\n",
       "            color:  #f1f1f1;\n",
       "        }    #T_afbc3906_8660_11ea_a988_bc5ff495b633row1_col0 {\n",
       "            background-color:  #3b4cc0;\n",
       "            color:  #f1f1f1;\n",
       "        }    #T_afbc3906_8660_11ea_a988_bc5ff495b633row1_col1 {\n",
       "            background-color:  #b40426;\n",
       "            color:  #f1f1f1;\n",
       "        }</style><table id=\"T_afbc3906_8660_11ea_a988_bc5ff495b633\" ><thead>    <tr>        <th class=\"blank level0\" ></th>        <th class=\"col_heading level0 col0\" >windspeed</th>        <th class=\"col_heading level0 col1\" >bikecount</th>    </tr></thead><tbody>\n",
       "                <tr>\n",
       "                        <th id=\"T_afbc3906_8660_11ea_a988_bc5ff495b633level0_row0\" class=\"row_heading level0 row0\" >windspeed</th>\n",
       "                        <td id=\"T_afbc3906_8660_11ea_a988_bc5ff495b633row0_col0\" class=\"data row0 col0\" >1.00</td>\n",
       "                        <td id=\"T_afbc3906_8660_11ea_a988_bc5ff495b633row0_col1\" class=\"data row0 col1\" >-0.08</td>\n",
       "            </tr>\n",
       "            <tr>\n",
       "                        <th id=\"T_afbc3906_8660_11ea_a988_bc5ff495b633level0_row1\" class=\"row_heading level0 row1\" >bikecount</th>\n",
       "                        <td id=\"T_afbc3906_8660_11ea_a988_bc5ff495b633row1_col0\" class=\"data row1 col0\" >-0.08</td>\n",
       "                        <td id=\"T_afbc3906_8660_11ea_a988_bc5ff495b633row1_col1\" class=\"data row1 col1\" >1.00</td>\n",
       "            </tr>\n",
       "    </tbody></table>"
      ],
      "text/plain": [
       "<pandas.io.formats.style.Styler at 0x1e479cc3ac8>"
      ]
     },
     "execution_count": 288,
     "metadata": {},
     "output_type": "execute_result"
    }
   ],
   "source": [
    "wind[wind['windspeed'] > 80].corr().style.background_gradient(cmap='coolwarm').set_precision(2)"
   ]
  },
  {
   "cell_type": "markdown",
   "metadata": {},
   "source": [
    "Bij windsnelheid lijkt de correlatie meer op toeval berust dan op een werkelijk verband."
   ]
  },
  {
   "cell_type": "markdown",
   "metadata": {},
   "source": [
    "#### Dag van de week\n",
    "\n",
    "De dag van de week kan ook zeer sterke correlatie hebben met het aantal gebruikte huurfietsen. Je zou zeggen dat doordeweeks meer fietsen gebruikt worden omdat veel mensen alleen doordeweeks werken. Door de dag van de week als integer (1-7) of als string (ma-su) kan een nieuwe kolom met data aan het verhuurbestand toegevoegd worden."
   ]
  },
  {
   "cell_type": "markdown",
   "metadata": {},
   "source": [
    "Zoals te zien is in de onderstaande grafiek wordt er inderdaad meer gebruik gemaakt van de huurfietsen. "
   ]
  },
  {
   "cell_type": "code",
   "execution_count": 289,
   "metadata": {},
   "outputs": [
    {
     "data": {
      "text/plain": [
       "<BarContainer object of 7 artists>"
      ]
     },
     "execution_count": 289,
     "metadata": {},
     "output_type": "execute_result"
    },
    {
     "data": {
      "image/png": "[encoded data removed]",
      "text/plain": [
       "<Figure size 720x432 with 1 Axes>"
      ]
     },
     "metadata": {
      "needs_background": "light"
     },
     "output_type": "display_data"
    }
   ],
   "source": [
    "value_counts = df_flickbike['weekday'].value_counts()\n",
    "plt.figure(figsize=(10,6))\n",
    "plt.ylabel('aantal fietsen gehuurd')\n",
    "plt.xlabel('dagen van de week')\n",
    "plt.title('Aantal verhuurde fietsen per weekdag')\n",
    "plt.bar(value_counts.keys(), value_counts.values)"
   ]
  },
  {
   "cell_type": "markdown",
   "metadata": {},
   "source": [
    "Uit bovenstaande grafiek kunnen we concluderen dat er vooral doordeweeks gebruik wordt gemaakt van de huurfietsen. Hierdoor kunnen we aannemen dat de fietsen vooral door doordeweeks werkende of scholende mensen wordt gebruikt."
   ]
  },
  {
   "cell_type": "markdown",
   "metadata": {},
   "source": [
    "#### Seizoenen"
   ]
  },
  {
   "cell_type": "code",
   "execution_count": 305,
   "metadata": {},
   "outputs": [
    {
     "data": {
      "text/plain": [
       "<BarContainer object of 4 artists>"
      ]
     },
     "execution_count": 305,
     "metadata": {},
     "output_type": "execute_result"
    },
    {
     "data": {
      "image/png": "[encoded data removed]",
      "text/plain": [
       "<Figure size 720x432 with 1 Axes>"
      ]
     },
     "metadata": {
      "needs_background": "light"
     },
     "output_type": "display_data"
    }
   ],
   "source": [
    "seasons = {1:'Winter', 2:'Lente', 3:'Zomer', 4:'Herfst'}\n",
    "df_flickbike['season'] = df_flickbike['date'].apply(lambda x: (x.month%12 + 3) // 3).map(seasons)\n",
    "df_flickbike['season'] = df_flickbike['season']\n",
    "value_counts = df_flickbike['season'].value_counts()\n",
    "plt.figure(figsize=(10,6))\n",
    "plt.ylabel('aantal fietsen gehuurd')\n",
    "plt.xlabel('seizoen')\n",
    "plt.title('Aantal verhuurde fietsen per seizoen')\n",
    "plt.bar(value_counts.keys(), value_counts.values)"
   ]
  },
  {
   "cell_type": "markdown",
   "metadata": {},
   "source": [
    "Zoals in de bovenstaande grafiek is te zien, worden er de minste fietsen in de winter gebruikt."
   ]
  },
  {
   "cell_type": "markdown",
   "metadata": {},
   "source": [
    "#### Bijzondere dagen\n",
    "\n",
    "Bijzondere dagen kunnen als boolean waarde opgeslagen worden in de dataset. Om de data expansie zo gering mogelijk te houden kunnen bepaalde groepen van bijzondere dagen als gecombineerde waarde bij de dataset gevoegd worden. Dit voorkomt het plaatsen van boolean waardes voor elke bijzondere dag. De groepering kan door bijvoorbeeld een cluster algoritme gemaakt worden waarbij de groepen worden gemaakt op basis van overkeenkomsten in relatie tot de target feature(s)"
   ]
  },
  {
   "cell_type": "markdown",
   "metadata": {},
   "source": [
    "#### Eventuele andere factoren\n",
    "\n",
    "Eventuele factoren om mee te nemen zijn:\n",
    "- concurrenten die de markt opeisen\n",
    "- financiele of medische crisissen\n",
    "- bedrijfs/personeels veranderingen/problemen\n",
    "- Seizoenen"
   ]
  },
  {
   "cell_type": "markdown",
   "metadata": {},
   "source": [
    "## Hoe kan voorspeld worden op welke plekken fietstekorten kunnen ontstaan\n",
    "\n",
    "Het is lastig om te voorspellen wanneer er tekorten ontstaan. Je weet immers nooit of iemand ergens een fiets misloopt. Een soort van feedback systeem zou misschien inzicht geven in waar mensen vaak geen fiets kunnen vinden. Ook kan je niet zien hoelang iemand naar een fiets heeft gezocht of hoelang deze persoon ervoor heeft moeten lopen.\n",
    "\n",
    "Wel kan gekeken worden naar plekken waar veel fietsen worden gebruikt. Met andere woorden, in welk gebied wordt het meest een fiets gepakt en waar wordt het meest gefietst, hotspots. Door de kijken naar het fietsgebruik op bepaalde routes en in bepaalde omgevingen kan een schatting gemaakt waar fietsen hotspots liggen.\n",
    "\n",
    "Om deze hotspots te vinden is het nodig om met coordinaten te werken. Als eerst kan gekeken worden naar de hoeveelheid fietsen die weer terug komt op de plek van vertrek. Dit kunnen mogelijke hotspots zijn. Daarnaast kan gekeken worden naar het aantal fietsen per plek. Om te werken met coordinaten moet een afstandsfunctie of grids worden gebruikt. \n",
    "\n",
    "Om te hotspots te vinden kunnen verschillende methodes worden gebruikt. De data kan bijvoorbeeld op coordinates geclustered worden met een algoritme zoals KMeans (waarbij het soms lastig te bepalen is of het resultaat goed is). Ook kunnen grids van coordinates vastgesteld worden om zo gebieden te creeren waarin het aantal fietsen geteld kan worden (waarbij het 'edge' probleem optreedt waardoor informatie uit belangrijke combinaties van grids verloren gaan).\n",
    "\n",
    "Als de hotspots bekend zijn, kan gekeken worden hoeveel fietsen er gepakt zijn in een bepaald tijdspanne in de omgeving van deze hotspots. Als er veel fietsen zijn gepakt in een bepaalde omgeving kan dit een mogelijk komend tekort tot gevolg hebben.\n",
    "Als er een documentatie wordt bijgehouden van het aantal beschikbare fietsen op bepaalde hotspots, kan een bij en af registratie van fietsen in een bepaald gebied worden bijgehouden.\n",
    "\n",
    "Als laatst kan ook nog gekeken worden naar plekken waar weinig fietsen gebruikt worden maar waarbij wel zeer consistent alle of bijna alle fietsen worden gebruikt over een bepaalde periode. Mogelijk kan het toevoegen van een paar fietsen de missers opvullen."
   ]
  },
  {
   "cell_type": "code",
   "execution_count": 290,
   "metadata": {},
   "outputs": [
    {
     "data": {
      "image/png": "[encoded data removed]",
      "text/plain": [
       "<Figure size 432x288 with 1 Axes>"
      ]
     },
     "metadata": {
      "needs_background": "light"
     },
     "output_type": "display_data"
    }
   ],
   "source": [
    "plt.title(\"places where bikes were unlocked (50 bikes)\")\n",
    "plt.title(\"places where bikes were unlocked (2000 bikes)\")\n",
    "plt.xlabel(\"Longitude\"),plt.ylabel(\"Latitude\")\n",
    "plt.plot(df_flickbike[\"start_lat\"].head(50),df_flickbike[\"start_lng\"].head(50),\"ro\")\n",
    "plt.show()"
   ]
  },
  {
   "cell_type": "markdown",
   "metadata": {},
   "source": [
    "Bij kleine aantallen zijn er groepen te herkennen, zo kun je het punt rechtsonder negeren en zal in ieder geval gekeken moeten worden naar de cluster rond 52.3 lat en 4.8 long. Echter zijn de resultaten minder goed categoriseerbaar wanneer je grote aantallen meeneemt:"
   ]
  },
  {
   "cell_type": "code",
   "execution_count": 291,
   "metadata": {},
   "outputs": [
    {
     "data": {
      "image/png": "[encoded data removed]",
      "text/plain": [
       "<Figure size 432x288 with 1 Axes>"
      ]
     },
     "metadata": {
      "needs_background": "light"
     },
     "output_type": "display_data"
    }
   ],
   "source": [
    "plt.title(\"places where bikes were unlocked (2000 bikes)\")\n",
    "plt.xlabel(\"Longitude\"),plt.ylabel(\"Latitude\")\n",
    "plt.plot(df_flickbike[\"start_lat\"].head(2000),df_flickbike[\"start_lng\"].head(2000),\"ro\")\n",
    "plt.show()"
   ]
  },
  {
   "cell_type": "markdown",
   "metadata": {},
   "source": [
    "We zouden hier 2 clusters van kunnen maken, maar de clusters zijn zodanig groot waardoor we geen specifieke risicogebieden kunnen aanduiden. Het valt wel op dat het verschil tussen de eerste 50 fietsen een ander en nauwkeuriger onderscheid lijkt te maken dan die van 2000 fietsen. "
   ]
  },
  {
   "cell_type": "code",
   "execution_count": 292,
   "metadata": {},
   "outputs": [
    {
     "data": {
      "image/png": "[encoded data removed]",
      "text/plain": [
       "<Figure size 432x288 with 20 Axes>"
      ]
     },
     "metadata": {
      "needs_background": "light"
     },
     "output_type": "display_data"
    }
   ],
   "source": [
    "fig2 = plt.figure(constrained_layout=True)\n",
    "spec2 = gridspec.GridSpec(ncols=5, nrows=4, figure=fig2)\n",
    "\n",
    "for i in range(1,8):\n",
    "    if i<=4:\n",
    "        x,y = [0,i]\n",
    "    else:\n",
    "        x,y = [1,i-4]\n",
    "    sp = fig2.add_subplot(spec2[x,y])\n",
    "    df_bikes_weekday = df_flickbike[df_flickbike[\"date\"].dt.weekday==i-1]\n",
    "    sp.plot(df_bikes_weekday[\"start_lat\"],df_bikes_weekday[\"start_lng\"],\"ro\")\n",
    "    plt.title(\"weekday \"+str(i-1))"
   ]
  },
  {
   "cell_type": "markdown",
   "metadata": {},
   "source": [
    "Hier zien we dat clusters afhankelijk zijn van de soort dag. Zo gaan werknemers op woensdag misschien naar een kraampje dat alleen woensdag open is. Door clusters te onderscheiden per dag kunnen we gebieden iets preciezer bepalen en kunnen we per dag aangeven hoe goed deze clusters zijn."
   ]
  },
  {
   "cell_type": "markdown",
   "metadata": {},
   "source": [
    "## Hoe bereken je het minimaal aantal fietsen dat nodig is ?\n",
    "\n",
    "Om erachter te komen wat het minimaal aantal fietsen is dat nodig is, is het handig om te weten wanneer fietsen wel en niet gebruikt worden. Wij hebben begrepen dat alleen de gebruikte fietsen in de dataset staan, dat wil zeggen, fietsen waarbij het slot open en weer dicht gedaan is. Daarmee is het lastig om te bepalen of er nou een fietstekort is of een teveel aan fietsen. Als kan berekend worden wat de tijd is dat fietsen stil liggen en niet gebruikt worden, kan ook gekeken worden hoeveel fietsen uiteindelijk nodig zijn. Daarom hebben we nog wat meer informatie over de dataset nodig.\n",
    "\n",
    "Daarnaast kan er ook naar hotspots gekeken worden. Als er een gemiddeld aantal gebruikte fietsen per dag kan worden vastgesteld op een bepaalde plek, kan gekeken worden hoeveel fietsen er werkelijk nodig zijn. Er kan bijvoorbeeld voor een aantal hotspots een minimaal aantal beschikbare fietsen per seizoen of periode vastgesteld worden."
   ]
  },
  {
   "cell_type": "markdown",
   "metadata": {},
   "source": [
    "## Hoe wordt alles gevisualiseerd?\n",
    "\n",
    "<b>Model</b> <br>\n",
    "Desicion tree regressor kan makkelijk worden gevisualiseerd met scykit learn. Hierbij worden de beslissingen duidelijk getoond. Voor het valideren laten we het verschil zien tussen voorspelde waardes en werkelijke waardes.\n",
    "\n",
    "<b>Data analyses</b>  <br>\n",
    "Door de huur van fietsen te visualiseren door de tijd heen kan er patronen herkend worden. Zo verwachten we een periodieke beweging dat veroorzaakt wordt door seizoenen. \n",
    "Verder gaan we in een plot clusters van longitude en latitude visualiseren om hiermee op blote oog plekken te herkennen waar veel gefietst wordt. Als er duidelijk clusters voorkomen kan er een classificatie model getraind worden waarmee drukke plekken herkend kunnen worden. Dan weten we ook waar er eventueel een tekort aan fietsen is.\n",
    "\n",
    "<b>Deelvragen </b>  <br>\n",
    "Invloeden van het weer zijn al gedeeltelijk gevisualiseerd. Er zijn plots gemaakt waarin de relatie tussen verhuur en weervariabele te herkennen is. Ook is er een correlatiematrix gemaakt.\n",
    "Tekorten voorkomen wordt op dezelfde manier in een plot getoond waar de pieken zitten, en in dezelfde plot laten we zien hoeveel fietsen beschikbaar zijn. \n"
   ]
  }
 ],
 "metadata": {
  "kernelspec": {
   "display_name": "Python 3",
   "language": "python",
   "name": "python3"
  },
  "language_info": {
   "codemirror_mode": {
    "name": "ipython",
    "version": 3
   },
   "file_extension": ".py",
   "mimetype": "text/x-python",
   "name": "python",
   "nbconvert_exporter": "python",
   "pygments_lexer": "ipython3",
   "version": "3.7.1"
  }
 },
 "nbformat": 4,
 "nbformat_minor": 2
}

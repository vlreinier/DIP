{
 "cells": [
  {
   "cell_type": "markdown",
   "metadata": {},
   "source": [
    "## Hoe voorspel je de groei van FlickBike ?\n",
    "#### In het bijzonder: hoe voorspel je het aantal verhuurde fietsen op de dagen tussen 10 december 2019 en 31 januari 2020?\n",
    "\n",
    "De groei van FlickBike is van veel factoren afhankelijk, zowel externe als interne factoren. Veel factoren zullen en/of kunnen niet meegenomen worden in het model omdat deze onberekenbaar, onbereikbaar of niet noemenswaardig zijn. Alle andere factoren die wel beschikbaar zijn moeten op correlatie onderzocht worden. Als bepaalde eigenschappen veel correlatie tonen met de target eigenschap, kunnen deze belangrijk zijn voor het model.\n",
    "\n",
    "Dit probleem kan lastig opgelost worden met classificatie. Er zal dan hoogstwaarschijnlijk overfitting plaatsvinden ivm het hoge aantal target features.\n",
    "Een van de modellen die gebruikt kan worden voor dit probleem is een decision tree regressor. "
   ]
  },
  {
   "cell_type": "markdown",
   "metadata": {},
   "source": [
    "## hoe kunnen bepaalde factoren invloed hebben of krijgen op het model?"
   ]
  },
  {
   "cell_type": "markdown",
   "metadata": {},
   "source": [
    "#### Het weer\n",
    "\n",
    "Voor het gebruiken van weer moeten eerst een aantal weer factoren gekozen worden. Intuitief zouden bijvoorbeeld de neerslag een invloed kunnen hebben op de verhuur van fietsen ivm het feit dat mensen niet van houden om nat te regenen. Maar dit blijft een aanname. Er zal eerst een correlatie moeten worden gezocht tussen weerfactoren en verandering in fiets verhuur / gebruik."
   ]
  },
  {
   "cell_type": "markdown",
   "metadata": {},
   "source": [
    "#### Dag van de week\n",
    "\n",
    "De dag van de week kan ook zeer sterke correlatie hebben met het aantal gebruikte huurfietsen. Je zou zeggen dat doordeweeks meer fietsen gebruikt worden omdat veel mensen alleen doordeweeks werken. Door de dag van de week als integer (1-7) of als string (ma-su) kan een nieuwe kolom met data aan het verhuurbestand toegevoegd worden."
   ]
  },
  {
   "cell_type": "markdown",
   "metadata": {},
   "source": [
    "#### Bijzondere dagen\n",
    "\n",
    "Bijzondere dagen kunnen als boolean waarde opgeslagen worden in de dataset. Om de data expansie zo gering mogelijk te houden kunnen bepaalde groepen van bijzondere dagen als gecombineerde waarde bij de dataset gevoegd worden. Dit voorkomt het plaatsen van boolean waardes voor elke bijzondere dag. De groepering kan door bijvoorbeeld een cluster algoritme gemaakt worden waarbij de groepen worden gemaakt op basis van overkeenkomsten in relatie tot de target feature(s)"
   ]
  },
  {
   "cell_type": "markdown",
   "metadata": {},
   "source": [
    "#### Eventuele andere factoren\n",
    "\n",
    "Eventuele factoren om mee te nemen zijn:\n",
    "- concurrenten die de markt opeisen\n",
    "- financiele of medische crisissen\n",
    "- bedrijfs/personeels veranderingen/problemen"
   ]
  },
  {
   "cell_type": "markdown",
   "metadata": {},
   "source": [
    "## Hoe kan voorspeld worden op welke plekken fietstekorten kunnen ontstaan\n",
    "\n",
    "Het is lastig om te voorspellen wanneer er tekorten ontstaan. Je weet immers nooit of iemand ergens een fiets misloopt. Een soort van feedback systeem zou misschien inzicht geven in waar mensen vaak geen fiets kunnen vinden. Ook kan je niet zien hoelang iemand naar een fiets heeft gezocht of hoelang deze persoon ervoor heeft moeten lopen.\n",
    "\n",
    "Wel kan gekeken worden naar plekken waar veel fietsen worden gebruikt. Met andere woorden, in welk gebied wordt het meest een fiets gepakt en waar wordt het meest gefietst. Door de kijken naar de fiets routes kan een schatting gemaakt waar fietsen hotspots liggen."
   ]
  },
  {
   "cell_type": "markdown",
   "metadata": {},
   "source": [
    "## Hoe bereken je het minimaal aantal fietsen dat nodig is?\n",
    "\n"
   ]
  },
  {
   "cell_type": "code",
   "execution_count": null,
   "metadata": {},
   "outputs": [],
   "source": []
  },
  {
   "cell_type": "markdown",
   "metadata": {},
   "source": [
    "## Correlatie weer en verhuur"
   ]
  },
  {
   "cell_type": "code",
   "execution_count": 91,
   "metadata": {},
   "outputs": [],
   "source": [
    "import pandas as pd\n",
    "import datetime\n",
    "import matplotlib.pyplot as plt"
   ]
  },
  {
   "cell_type": "code",
   "execution_count": 92,
   "metadata": {},
   "outputs": [],
   "source": [
    "df_bikes = pd.read_csv(\"bikes.csv\") # https://canvas.hu.nl/files/850822/download?download_frd=1\n",
    "df_bikes[\"date\"] = pd.to_datetime(df_bikes[\"date\"],format=\"%Y-%m-%d %H:%M:%S\")\n",
    "# print(df_bikes[[\"date\"]].sort_values(\"date\",ascending=True).head())\n",
    "# print(df_bikes[[\"date\"]].sort_values(\"date\").tail())\n"
   ]
  },
  {
   "cell_type": "code",
   "execution_count": 93,
   "metadata": {},
   "outputs": [
    {
     "data": {
      "text/html": [
       "<div>\n",
       "<style scoped>\n",
       "    .dataframe tbody tr th:only-of-type {\n",
       "        vertical-align: middle;\n",
       "    }\n",
       "\n",
       "    .dataframe tbody tr th {\n",
       "        vertical-align: top;\n",
       "    }\n",
       "\n",
       "    .dataframe thead th {\n",
       "        text-align: right;\n",
       "    }\n",
       "</style>\n",
       "<table border=\"1\" class=\"dataframe\">\n",
       "  <thead>\n",
       "    <tr style=\"text-align: right;\">\n",
       "      <th></th>\n",
       "      <th>STN</th>\n",
       "      <th>YYYYMMDD</th>\n",
       "      <th>FG</th>\n",
       "      <th>TG</th>\n",
       "      <th>SQ</th>\n",
       "      <th>RH</th>\n",
       "    </tr>\n",
       "  </thead>\n",
       "  <tbody>\n",
       "    <tr>\n",
       "      <th>0</th>\n",
       "      <td>240</td>\n",
       "      <td>2019-01-01</td>\n",
       "      <td>76</td>\n",
       "      <td>77</td>\n",
       "      <td>13</td>\n",
       "      <td>5</td>\n",
       "    </tr>\n",
       "    <tr>\n",
       "      <th>1</th>\n",
       "      <td>240</td>\n",
       "      <td>2019-01-02</td>\n",
       "      <td>48</td>\n",
       "      <td>56</td>\n",
       "      <td>4</td>\n",
       "      <td>-1</td>\n",
       "    </tr>\n",
       "    <tr>\n",
       "      <th>2</th>\n",
       "      <td>240</td>\n",
       "      <td>2019-01-03</td>\n",
       "      <td>23</td>\n",
       "      <td>31</td>\n",
       "      <td>46</td>\n",
       "      <td>-1</td>\n",
       "    </tr>\n",
       "    <tr>\n",
       "      <th>3</th>\n",
       "      <td>240</td>\n",
       "      <td>2019-01-04</td>\n",
       "      <td>45</td>\n",
       "      <td>54</td>\n",
       "      <td>0</td>\n",
       "      <td>-1</td>\n",
       "    </tr>\n",
       "    <tr>\n",
       "      <th>4</th>\n",
       "      <td>240</td>\n",
       "      <td>2019-01-05</td>\n",
       "      <td>65</td>\n",
       "      <td>72</td>\n",
       "      <td>0</td>\n",
       "      <td>1</td>\n",
       "    </tr>\n",
       "  </tbody>\n",
       "</table>\n",
       "</div>"
      ],
      "text/plain": [
       "   STN   YYYYMMDD  FG  TG  SQ  RH\n",
       "0  240 2019-01-01  76  77  13   5\n",
       "1  240 2019-01-02  48  56   4  -1\n",
       "2  240 2019-01-03  23  31  46  -1\n",
       "3  240 2019-01-04  45  54   0  -1\n",
       "4  240 2019-01-05  65  72   0   1"
      ]
     },
     "execution_count": 93,
     "metadata": {},
     "output_type": "execute_result"
    }
   ],
   "source": [
    "df_weer = pd.read_csv(\"weer.csv\")\n",
    "df_weer[\"YYYYMMDD\"] = pd.to_datetime(df_weer[\"YYYYMMDD\"],format=\"%Y%m%d\")\n",
    "df_weer.head()"
   ]
  },
  {
   "cell_type": "code",
   "execution_count": 94,
   "metadata": {},
   "outputs": [],
   "source": [
    "df_bikes_per_day = df_bikes[[\"bikenumber\"]].groupby([df_bikes[\"date\"].dt.date]).count()\n",
    "df_bikes_per_day[\"day\"] = pd.to_datetime(df_bikes_per_day.index,format=\"%Y-%m-%d %H:%M:%S\")\n",
    "df_bikes_per_day.rename(columns={\"bikenumber\":\"amount_of_bikes\"},inplace=True)"
   ]
  },
  {
   "cell_type": "code",
   "execution_count": 107,
   "metadata": {},
   "outputs": [],
   "source": [
    "df_weer_verhuur = df_weer.merge(df_bikes_per_day,how='left', left_on='YYYYMMDD', right_on=\"day\")\n",
    "df_weer_verhuur.drop([\"STN\"],axis=1,inplace=True)"
   ]
  },
  {
   "cell_type": "markdown",
   "metadata": {},
   "source": [
    "#### Windsnelheid"
   ]
  },
  {
   "cell_type": "code",
   "execution_count": 135,
   "metadata": {
    "scrolled": false
   },
   "outputs": [
    {
     "data": {
      "text/plain": [
       "Text(0.5, 1.0, 'Relatie windsnelheid en verhuurde fietsen')"
      ]
     },
     "execution_count": 135,
     "metadata": {},
     "output_type": "execute_result"
    },
    {
     "data": {
      "image/png": "[encoded data removed]",
      "text/plain": [
       "<Figure size 432x288 with 1 Axes>"
      ]
     },
     "metadata": {
      "needs_background": "light"
     },
     "output_type": "display_data"
    }
   ],
   "source": [
    "df_weer_verhuur.sort_values(\"FG\",inplace=True)\n",
    "plt.plot(df_weer_verhuur[\"FG\"],df_weer_verhuur[\"amount_of_bikes\"],'ro')\n",
    "plt.title(\"Relatie windsnelheid en verhuurde fietsen\")"
   ]
  },
  {
   "cell_type": "markdown",
   "metadata": {},
   "source": [
    "#### Temperatuur"
   ]
  },
  {
   "cell_type": "code",
   "execution_count": 134,
   "metadata": {},
   "outputs": [
    {
     "data": {
      "text/plain": [
       "Text(0.5, 1.0, 'Relatie temperatuur en verhuurde fietsen')"
      ]
     },
     "execution_count": 134,
     "metadata": {},
     "output_type": "execute_result"
    },
    {
     "data": {
      "image/png": "[encoded data removed]",
      "text/plain": [
       "<Figure size 432x288 with 1 Axes>"
      ]
     },
     "metadata": {
      "needs_background": "light"
     },
     "output_type": "display_data"
    }
   ],
   "source": [
    "df_weer_verhuur.sort_values(\"TG\",inplace=True)\n",
    "plt.plot(df_weer_verhuur[\"TG\"],df_weer_verhuur[\"amount_of_bikes\"],'ro')\n",
    "plt.title(\"Relatie temperatuur en verhuurde fietsen\")"
   ]
  },
  {
   "cell_type": "markdown",
   "metadata": {},
   "source": [
    "#### Zonnestraling"
   ]
  },
  {
   "cell_type": "code",
   "execution_count": 133,
   "metadata": {},
   "outputs": [
    {
     "data": {
      "text/plain": [
       "Text(0.5, 1.0, 'Relatie zonnestraling en verhuurde fietsen')"
      ]
     },
     "execution_count": 133,
     "metadata": {},
     "output_type": "execute_result"
    },
    {
     "data": {
      "image/png": "[encoded data removed]",
      "text/plain": [
       "<Figure size 432x288 with 1 Axes>"
      ]
     },
     "metadata": {
      "needs_background": "light"
     },
     "output_type": "display_data"
    }
   ],
   "source": [
    "df_weer_verhuur.sort_values(\"SQ\",inplace=True)\n",
    "plt.plot(df_weer_verhuur[\"SQ\"],df_weer_verhuur[\"amount_of_bikes\"],'ro')\n",
    "plt.title(\"Relatie zonnestraling en verhuurde fietsen\")"
   ]
  },
  {
   "cell_type": "markdown",
   "metadata": {},
   "source": [
    "#### Neerslag"
   ]
  },
  {
   "cell_type": "code",
   "execution_count": 132,
   "metadata": {
    "scrolled": true
   },
   "outputs": [
    {
     "data": {
      "text/plain": [
       "Text(0.5, 1.0, 'Relatie neerslag en verhuurde fietsen')"
      ]
     },
     "execution_count": 132,
     "metadata": {},
     "output_type": "execute_result"
    },
    {
     "data": {
      "image/png": "[encoded data removed]",
      "text/plain": [
       "<Figure size 432x288 with 1 Axes>"
      ]
     },
     "metadata": {
      "needs_background": "light"
     },
     "output_type": "display_data"
    }
   ],
   "source": [
    "df_weer_verhuur.sort_values(\"RH\",inplace=True)\n",
    "plt.plot(df_weer_verhuur[\"RH\"],df_weer_verhuur[\"amount_of_bikes\"],'ro')\n",
    "plt.title(\"Relatie neerslag en verhuurde fietsen\")"
   ]
  },
  {
   "cell_type": "code",
   "execution_count": 112,
   "metadata": {},
   "outputs": [
    {
     "data": {
      "text/html": [
       "<div>\n",
       "<style scoped>\n",
       "    .dataframe tbody tr th:only-of-type {\n",
       "        vertical-align: middle;\n",
       "    }\n",
       "\n",
       "    .dataframe tbody tr th {\n",
       "        vertical-align: top;\n",
       "    }\n",
       "\n",
       "    .dataframe thead th {\n",
       "        text-align: right;\n",
       "    }\n",
       "</style>\n",
       "<table border=\"1\" class=\"dataframe\">\n",
       "  <thead>\n",
       "    <tr style=\"text-align: right;\">\n",
       "      <th></th>\n",
       "      <th>FG</th>\n",
       "      <th>TG</th>\n",
       "      <th>SQ</th>\n",
       "      <th>RH</th>\n",
       "      <th>amount_of_bikes</th>\n",
       "    </tr>\n",
       "  </thead>\n",
       "  <tbody>\n",
       "    <tr>\n",
       "      <th>FG</th>\n",
       "      <td>1.000000</td>\n",
       "      <td>-0.059668</td>\n",
       "      <td>-0.279035</td>\n",
       "      <td>0.294033</td>\n",
       "      <td>-0.211923</td>\n",
       "    </tr>\n",
       "    <tr>\n",
       "      <th>TG</th>\n",
       "      <td>-0.059668</td>\n",
       "      <td>1.000000</td>\n",
       "      <td>0.455578</td>\n",
       "      <td>0.022139</td>\n",
       "      <td>0.180438</td>\n",
       "    </tr>\n",
       "    <tr>\n",
       "      <th>SQ</th>\n",
       "      <td>-0.279035</td>\n",
       "      <td>0.455578</td>\n",
       "      <td>1.000000</td>\n",
       "      <td>-0.343670</td>\n",
       "      <td>0.125715</td>\n",
       "    </tr>\n",
       "    <tr>\n",
       "      <th>RH</th>\n",
       "      <td>0.294033</td>\n",
       "      <td>0.022139</td>\n",
       "      <td>-0.343670</td>\n",
       "      <td>1.000000</td>\n",
       "      <td>-0.004523</td>\n",
       "    </tr>\n",
       "    <tr>\n",
       "      <th>amount_of_bikes</th>\n",
       "      <td>-0.211923</td>\n",
       "      <td>0.180438</td>\n",
       "      <td>0.125715</td>\n",
       "      <td>-0.004523</td>\n",
       "      <td>1.000000</td>\n",
       "    </tr>\n",
       "  </tbody>\n",
       "</table>\n",
       "</div>"
      ],
      "text/plain": [
       "                       FG        TG        SQ        RH  amount_of_bikes\n",
       "FG               1.000000 -0.059668 -0.279035  0.294033        -0.211923\n",
       "TG              -0.059668  1.000000  0.455578  0.022139         0.180438\n",
       "SQ              -0.279035  0.455578  1.000000 -0.343670         0.125715\n",
       "RH               0.294033  0.022139 -0.343670  1.000000        -0.004523\n",
       "amount_of_bikes -0.211923  0.180438  0.125715 -0.004523         1.000000"
      ]
     },
     "execution_count": 112,
     "metadata": {},
     "output_type": "execute_result"
    }
   ],
   "source": [
    "df_weer_verhuur.corr()"
   ]
  },
  {
   "cell_type": "markdown",
   "metadata": {},
   "source": [
    "<i>\n",
    "    FG = windkracht\n",
    "    TG = temperatuur\n",
    "    SQ = zonnestraling\n",
    "    RH = neerslag\n",
    "</i>"
   ]
  },
  {
   "cell_type": "markdown",
   "metadata": {},
   "source": [
    "Hieruit blijkt dat weer gegevens weinig invloed heeft op het aantal verhuurde fietsen. De grootste correlatie is te zien bij windkracht met een negatieve correlatie van 0.2. Zelfs daar is dus geen correlatie te vinden. Misschien valt er een betere correlatie te behalen door meerdere variabelen te combineren en een LR model op te stellen, maar veel verbetering wordt hier niet verwacht. \n",
    "\n",
    "Een mogelijke reden voor de slechte correlatie kan te maken hebben met waar deze fietsen voor bedoeld zijn, namelijk als vervoer van en naar het werk. Zoals al gezegd is heeft dit niets te maken met woon-werk verkeer en wordt de fiets regelmatig gepakt om bijvoorbeeld wat eten te halen, maar toch worden werknemers meer gedwongen de fiets te pakken dan wanneer iemand in zijn vrije tijd de fiets pakt.\n",
    "\n",
    "Weer gegevens gaan we dus niet meenemen in de decision tree regressor. Mogelijk is er toch een verband te vinden door de data anders te transformeren of combineren, dus dit wordt de volgende stap."
   ]
  },
  {
   "cell_type": "code",
   "execution_count": null,
   "metadata": {},
   "outputs": [],
   "source": []
  },
  {
   "cell_type": "code",
   "execution_count": null,
   "metadata": {},
   "outputs": [],
   "source": []
  }
 ],
 "metadata": {
  "kernelspec": {
   "display_name": "Python 3",
   "language": "python",
   "name": "python3"
  },
  "language_info": {
   "codemirror_mode": {
    "name": "ipython",
    "version": 3
   },
   "file_extension": ".py",
   "mimetype": "text/x-python",
   "name": "python",
   "nbconvert_exporter": "python",
   "pygments_lexer": "ipython3",
   "version": "3.7.1"
  }
 },
 "nbformat": 4,
 "nbformat_minor": 2
}

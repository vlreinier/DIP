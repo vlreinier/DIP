{
 "cells": [
  {
   "cell_type": "code",
   "execution_count": 10,
   "metadata": {},
   "outputs": [],
   "source": [
    "import pandas as pd\n",
    "import numpy as np\n",
    "import matplotlib.pyplot as plt\n",
    "\n",
    "from sklearn.ensemble import RandomForestClassifier\n",
    "from sklearn.metrics import mean_squared_error\n",
    "pd.options.mode.chained_assignment = None"
   ]
  },
  {
   "cell_type": "code",
   "execution_count": 11,
   "metadata": {},
   "outputs": [
    {
     "data": {
      "text/html": [
       "<div>\n",
       "<style scoped>\n",
       "    .dataframe tbody tr th:only-of-type {\n",
       "        vertical-align: middle;\n",
       "    }\n",
       "\n",
       "    .dataframe tbody tr th {\n",
       "        vertical-align: top;\n",
       "    }\n",
       "\n",
       "    .dataframe thead th {\n",
       "        text-align: right;\n",
       "    }\n",
       "</style>\n",
       "<table border=\"1\" class=\"dataframe\">\n",
       "  <thead>\n",
       "    <tr style=\"text-align: right;\">\n",
       "      <th></th>\n",
       "      <th>day</th>\n",
       "      <th>windspeed</th>\n",
       "      <th>temperature</th>\n",
       "      <th>rain</th>\n",
       "    </tr>\n",
       "  </thead>\n",
       "  <tbody>\n",
       "    <tr>\n",
       "      <td>0</td>\n",
       "      <td>2019-01-01</td>\n",
       "      <td>76</td>\n",
       "      <td>77</td>\n",
       "      <td>5</td>\n",
       "    </tr>\n",
       "    <tr>\n",
       "      <td>1</td>\n",
       "      <td>2019-01-02</td>\n",
       "      <td>48</td>\n",
       "      <td>56</td>\n",
       "      <td>-1</td>\n",
       "    </tr>\n",
       "    <tr>\n",
       "      <td>2</td>\n",
       "      <td>2019-01-03</td>\n",
       "      <td>23</td>\n",
       "      <td>31</td>\n",
       "      <td>-1</td>\n",
       "    </tr>\n",
       "    <tr>\n",
       "      <td>3</td>\n",
       "      <td>2019-01-04</td>\n",
       "      <td>45</td>\n",
       "      <td>54</td>\n",
       "      <td>-1</td>\n",
       "    </tr>\n",
       "    <tr>\n",
       "      <td>4</td>\n",
       "      <td>2019-01-05</td>\n",
       "      <td>65</td>\n",
       "      <td>72</td>\n",
       "      <td>1</td>\n",
       "    </tr>\n",
       "  </tbody>\n",
       "</table>\n",
       "</div>"
      ],
      "text/plain": [
       "         day  windspeed  temperature  rain\n",
       "0 2019-01-01         76           77     5\n",
       "1 2019-01-02         48           56    -1\n",
       "2 2019-01-03         23           31    -1\n",
       "3 2019-01-04         45           54    -1\n",
       "4 2019-01-05         65           72     1"
      ]
     },
     "execution_count": 11,
     "metadata": {},
     "output_type": "execute_result"
    }
   ],
   "source": [
    "# weer dataset\n",
    "weer_df = pd.read_csv(\"weer.csv\")\n",
    "weer_df[\"YYYYMMDD\"] = pd.to_datetime(weer_df[\"YYYYMMDD\"],format=\"%Y%m%d\")\n",
    "weer_df.drop(['STN', 'SQ'], axis=1, inplace=True)\n",
    "weer_df.rename(columns={'YYYYMMDD':'day','FG':'windspeed','TG':'temperature','RH':'rain'},inplace=True)\n",
    "weer_df.head()"
   ]
  },
  {
   "cell_type": "code",
   "execution_count": 12,
   "metadata": {},
   "outputs": [
    {
     "data": {
      "text/html": [
       "<div>\n",
       "<style scoped>\n",
       "    .dataframe tbody tr th:only-of-type {\n",
       "        vertical-align: middle;\n",
       "    }\n",
       "\n",
       "    .dataframe tbody tr th {\n",
       "        vertical-align: top;\n",
       "    }\n",
       "\n",
       "    .dataframe thead th {\n",
       "        text-align: right;\n",
       "    }\n",
       "</style>\n",
       "<table border=\"1\" class=\"dataframe\">\n",
       "  <thead>\n",
       "    <tr style=\"text-align: right;\">\n",
       "      <th></th>\n",
       "      <th>day</th>\n",
       "      <th>windspeed</th>\n",
       "      <th>temperature</th>\n",
       "      <th>rain</th>\n",
       "      <th>rented</th>\n",
       "      <th>weekday</th>\n",
       "    </tr>\n",
       "  </thead>\n",
       "  <tbody>\n",
       "    <tr>\n",
       "      <td>0</td>\n",
       "      <td>2019-01-01</td>\n",
       "      <td>76</td>\n",
       "      <td>77</td>\n",
       "      <td>5</td>\n",
       "      <td>8</td>\n",
       "      <td>1</td>\n",
       "    </tr>\n",
       "    <tr>\n",
       "      <td>1</td>\n",
       "      <td>2019-01-02</td>\n",
       "      <td>48</td>\n",
       "      <td>56</td>\n",
       "      <td>-1</td>\n",
       "      <td>61</td>\n",
       "      <td>2</td>\n",
       "    </tr>\n",
       "    <tr>\n",
       "      <td>2</td>\n",
       "      <td>2019-01-03</td>\n",
       "      <td>23</td>\n",
       "      <td>31</td>\n",
       "      <td>-1</td>\n",
       "      <td>90</td>\n",
       "      <td>3</td>\n",
       "    </tr>\n",
       "    <tr>\n",
       "      <td>3</td>\n",
       "      <td>2019-01-04</td>\n",
       "      <td>45</td>\n",
       "      <td>54</td>\n",
       "      <td>-1</td>\n",
       "      <td>64</td>\n",
       "      <td>4</td>\n",
       "    </tr>\n",
       "    <tr>\n",
       "      <td>4</td>\n",
       "      <td>2019-01-05</td>\n",
       "      <td>65</td>\n",
       "      <td>72</td>\n",
       "      <td>1</td>\n",
       "      <td>17</td>\n",
       "      <td>5</td>\n",
       "    </tr>\n",
       "  </tbody>\n",
       "</table>\n",
       "</div>"
      ],
      "text/plain": [
       "         day  windspeed  temperature  rain  rented  weekday\n",
       "0 2019-01-01         76           77     5       8        1\n",
       "1 2019-01-02         48           56    -1      61        2\n",
       "2 2019-01-03         23           31    -1      90        3\n",
       "3 2019-01-04         45           54    -1      64        4\n",
       "4 2019-01-05         65           72     1      17        5"
      ]
     },
     "execution_count": 12,
     "metadata": {},
     "output_type": "execute_result"
    }
   ],
   "source": [
    "# train dataset\n",
    "train_df = pd.read_csv(\"train.csv\", index_col=0)\n",
    "train_df[\"date\"] = pd.to_datetime(train_df[\"date\"], format=\"%Y-%m-%d %H:%M:%S\")\n",
    "daily_rentals_df = train_df[[\"tripid\"]].groupby([train_df[\"date\"].dt.date]).count()\n",
    "daily_rentals_df[\"day\"] = pd.to_datetime(daily_rentals_df.index, format=\"%Y-%m-%d %H:%M:%S\")\n",
    "daily_rentals_df = weer_df.merge(daily_rentals_df, left_on='day', right_on=\"day\")\n",
    "daily_rentals_df.rename(columns={'tripid':'rented'},inplace=True)\n",
    "daily_rentals_df['weekday'] = pd.to_datetime(daily_rentals_df['day']).dt.dayofweek\n",
    "daily_rentals_df.head()"
   ]
  },
  {
   "cell_type": "code",
   "execution_count": 13,
   "metadata": {},
   "outputs": [
    {
     "name": "stderr",
     "output_type": "stream",
     "text": [
      "C:\\ProgramData\\Anaconda3\\lib\\site-packages\\sklearn\\ensemble\\forest.py:245: FutureWarning: The default value of n_estimators will change from 10 in version 0.20 to 100 in 0.22.\n",
      "  \"10 in version 0.20 to 100 in 0.22.\", FutureWarning)\n",
      "C:\\ProgramData\\Anaconda3\\lib\\site-packages\\ipykernel_launcher.py:4: DataConversionWarning: A column-vector y was passed when a 1d array was expected. Please change the shape of y to (n_samples,), for example using ravel().\n",
      "  after removing the cwd from sys.path.\n"
     ]
    }
   ],
   "source": [
    "# model trainen\n",
    "X = daily_rentals_df.drop(['rented', 'day'], axis=1)\n",
    "y = daily_rentals_df[['rented']]\n",
    "rfc = RandomForestClassifier().fit(X, y)"
   ]
  },
  {
   "cell_type": "code",
   "execution_count": 14,
   "metadata": {},
   "outputs": [
    {
     "data": {
      "text/html": [
       "<div>\n",
       "<style scoped>\n",
       "    .dataframe tbody tr th:only-of-type {\n",
       "        vertical-align: middle;\n",
       "    }\n",
       "\n",
       "    .dataframe tbody tr th {\n",
       "        vertical-align: top;\n",
       "    }\n",
       "\n",
       "    .dataframe thead th {\n",
       "        text-align: right;\n",
       "    }\n",
       "</style>\n",
       "<table border=\"1\" class=\"dataframe\">\n",
       "  <thead>\n",
       "    <tr style=\"text-align: right;\">\n",
       "      <th></th>\n",
       "      <th>day</th>\n",
       "      <th>windspeed</th>\n",
       "      <th>temperature</th>\n",
       "      <th>rain</th>\n",
       "      <th>0</th>\n",
       "      <th>weekday</th>\n",
       "    </tr>\n",
       "  </thead>\n",
       "  <tbody>\n",
       "    <tr>\n",
       "      <td>0</td>\n",
       "      <td>2019-11-01</td>\n",
       "      <td>46</td>\n",
       "      <td>79</td>\n",
       "      <td>38</td>\n",
       "      <td>2019-11-01</td>\n",
       "      <td>4</td>\n",
       "    </tr>\n",
       "    <tr>\n",
       "      <td>1</td>\n",
       "      <td>2019-11-02</td>\n",
       "      <td>85</td>\n",
       "      <td>128</td>\n",
       "      <td>33</td>\n",
       "      <td>2019-11-02</td>\n",
       "      <td>5</td>\n",
       "    </tr>\n",
       "    <tr>\n",
       "      <td>2</td>\n",
       "      <td>2019-11-03</td>\n",
       "      <td>38</td>\n",
       "      <td>101</td>\n",
       "      <td>46</td>\n",
       "      <td>2019-11-03</td>\n",
       "      <td>6</td>\n",
       "    </tr>\n",
       "    <tr>\n",
       "      <td>3</td>\n",
       "      <td>2019-11-04</td>\n",
       "      <td>40</td>\n",
       "      <td>103</td>\n",
       "      <td>1</td>\n",
       "      <td>2019-11-04</td>\n",
       "      <td>0</td>\n",
       "    </tr>\n",
       "    <tr>\n",
       "      <td>4</td>\n",
       "      <td>2019-11-05</td>\n",
       "      <td>25</td>\n",
       "      <td>96</td>\n",
       "      <td>36</td>\n",
       "      <td>2019-11-05</td>\n",
       "      <td>1</td>\n",
       "    </tr>\n",
       "  </tbody>\n",
       "</table>\n",
       "</div>"
      ],
      "text/plain": [
       "         day  windspeed  temperature  rain          0  weekday\n",
       "0 2019-11-01         46           79    38 2019-11-01        4\n",
       "1 2019-11-02         85          128    33 2019-11-02        5\n",
       "2 2019-11-03         38          101    46 2019-11-03        6\n",
       "3 2019-11-04         40          103     1 2019-11-04        0\n",
       "4 2019-11-05         25           96    36 2019-11-05        1"
      ]
     },
     "execution_count": 14,
     "metadata": {},
     "output_type": "execute_result"
    }
   ],
   "source": [
    "# model testen\n",
    "test_df = pd.read_csv(\"test.csv\", index_col=0)\n",
    "test_df['day'] = pd.to_datetime(test_df[\"date\"], format=\"%Y-%m-%d %H:%M:%S\").dt.date\n",
    "uniques = pd.DataFrame(test_df[\"day\"].unique())\n",
    "uniques[0] = pd.to_datetime(uniques[0])\n",
    "test_df = weer_df.merge(uniques, left_on='day', right_on=0)\n",
    "test_df['weekday'] = pd.to_datetime(test_df['day']).dt.dayofweek\n",
    "test_df.head()"
   ]
  },
  {
   "cell_type": "code",
   "execution_count": 15,
   "metadata": {},
   "outputs": [],
   "source": [
    "X = test_df.drop([0, 'day'], axis=1)\n",
    "\n",
    "# # to verify\n",
    "verify = pd.read_csv(\"test.csv\", index_col=0)\n",
    "verify[\"date\"] = pd.to_datetime(verify[\"date\"], format=\"%Y-%m-%d %H:%M:%S\")\n",
    "y = verify[[\"tripid\"]].groupby([verify[\"date\"].dt.date]).count()['tripid'].values"
   ]
  },
  {
   "cell_type": "code",
   "execution_count": 16,
   "metadata": {},
   "outputs": [
    {
     "data": {
      "text/plain": [
       "17769.102564102563"
      ]
     },
     "execution_count": 16,
     "metadata": {},
     "output_type": "execute_result"
    }
   ],
   "source": [
    "# test model\n",
    "mean_squared_error(y, rfc.predict(X))"
   ]
  },
  {
   "cell_type": "code",
   "execution_count": null,
   "metadata": {},
   "outputs": [],
   "source": []
  }
 ],
 "metadata": {
  "kernelspec": {
   "display_name": "Python 3",
   "language": "python",
   "name": "python3"
  },
  "language_info": {
   "codemirror_mode": {
    "name": "ipython",
    "version": 3
   },
   "file_extension": ".py",
   "mimetype": "text/x-python",
   "name": "python",
   "nbconvert_exporter": "python",
   "pygments_lexer": "ipython3",
   "version": "3.7.4"
  }
 },
 "nbformat": 4,
 "nbformat_minor": 2
}

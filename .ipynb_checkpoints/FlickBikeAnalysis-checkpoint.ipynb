{
 "cells": [
  {
   "cell_type": "code",
   "execution_count": 95,
   "metadata": {},
   "outputs": [],
   "source": [
    "import pandas as pd\n",
    "import numpy as np\n",
    "import datetime\n",
    "import matplotlib.pyplot as plt"
   ]
  },
  {
   "cell_type": "markdown",
   "metadata": {},
   "source": [
    "# FlickBike\n",
    "\n",
    "In dit notebook wordt een analyse uitgevoerd op een aantal bedrijfsprocessen en -vragen met het doel om een verbetering door te brengen in de processen. Door middel van statistiek en een aantal AI technieken bieden wij inzichten in de FlickBike dataset. Zo hopen we een goed plan/advies op te leveren waarin wij een aantal vragen die door FlickBike opgesteld zijn beantwoorden. In dit notebook zullen de volgende vragen naar voren komen en uitgewerkt worden in een logische volgorde.\n",
    "\n",
    "1. Hoe voorspel je de groei van FlickBike? Hoe voorspel je het aantal verhuurde fietsen in bepaalde tijdspannes?\n",
    "2. Hoe kan voorspeld worden op welke plekken fietstekorten kunnen ontstaan?\n",
    "3. Hoe kan het minimaal benodigd aantal fietsen voorspeld of berekend worden (per locatie)?\n",
    "\n",
    "Door middel van datainzichten, grafieken en uitleg hopen wij een goed leesbaar verslag op te leveren. Voor het bedenken van verschillende modellen moet ook correlatie onderzoek uitgevoerd worden. Welke factoren hebben wel of geen invloed op het model? Verschillende factoren, zoals het weer, zijn meegenomen in het onderzoek naar passende modellen voor het bovenstaande vragen."
   ]
  },
  {
   "cell_type": "code",
   "execution_count": 96,
   "metadata": {},
   "outputs": [
    {
     "data": {
      "text/html": [
       "<div>\n",
       "<style scoped>\n",
       "    .dataframe tbody tr th:only-of-type {\n",
       "        vertical-align: middle;\n",
       "    }\n",
       "\n",
       "    .dataframe tbody tr th {\n",
       "        vertical-align: top;\n",
       "    }\n",
       "\n",
       "    .dataframe thead th {\n",
       "        text-align: right;\n",
       "    }\n",
       "</style>\n",
       "<table border=\"1\" class=\"dataframe\">\n",
       "  <thead>\n",
       "    <tr style=\"text-align: right;\">\n",
       "      <th></th>\n",
       "      <th>Unnamed: 0</th>\n",
       "      <th>tripid</th>\n",
       "      <th>userid</th>\n",
       "      <th>bikeid</th>\n",
       "      <th>account</th>\n",
       "      <th>bikenumber</th>\n",
       "      <th>start_time</th>\n",
       "      <th>end_time</th>\n",
       "      <th>start_lat</th>\n",
       "      <th>start_lng</th>\n",
       "      <th>end_lat</th>\n",
       "      <th>end_lng</th>\n",
       "      <th>date</th>\n",
       "    </tr>\n",
       "  </thead>\n",
       "  <tbody>\n",
       "    <tr>\n",
       "      <th>0</th>\n",
       "      <td>1</td>\n",
       "      <td>33838</td>\n",
       "      <td>13452</td>\n",
       "      <td>382</td>\n",
       "      <td>AR</td>\n",
       "      <td>6631000433</td>\n",
       "      <td>2019-01-01 06:46:03</td>\n",
       "      <td>2019-01-01 06:46:03</td>\n",
       "      <td>52.296065</td>\n",
       "      <td>4.787667</td>\n",
       "      <td>52.296200</td>\n",
       "      <td>4.787679</td>\n",
       "      <td>2019-01-01 06:46:00</td>\n",
       "    </tr>\n",
       "    <tr>\n",
       "      <th>1</th>\n",
       "      <td>2</td>\n",
       "      <td>33839</td>\n",
       "      <td>13452</td>\n",
       "      <td>812</td>\n",
       "      <td>AR</td>\n",
       "      <td>6631000146</td>\n",
       "      <td>2019-01-01 06:47:39</td>\n",
       "      <td>2019-01-01 06:47:39</td>\n",
       "      <td>52.295938</td>\n",
       "      <td>4.788336</td>\n",
       "      <td>52.295940</td>\n",
       "      <td>4.788557</td>\n",
       "      <td>2019-01-01 06:47:35</td>\n",
       "    </tr>\n",
       "    <tr>\n",
       "      <th>2</th>\n",
       "      <td>3</td>\n",
       "      <td>33851</td>\n",
       "      <td>13182</td>\n",
       "      <td>238</td>\n",
       "      <td>AR</td>\n",
       "      <td>6631000443</td>\n",
       "      <td>2019-01-01 14:15:36</td>\n",
       "      <td>2019-01-01 14:15:36</td>\n",
       "      <td>52.307337</td>\n",
       "      <td>4.807633</td>\n",
       "      <td>52.307336</td>\n",
       "      <td>4.807630</td>\n",
       "      <td>2019-01-01 14:15:32</td>\n",
       "    </tr>\n",
       "    <tr>\n",
       "      <th>3</th>\n",
       "      <td>4</td>\n",
       "      <td>33852</td>\n",
       "      <td>13182</td>\n",
       "      <td>238</td>\n",
       "      <td>AR</td>\n",
       "      <td>6631000443</td>\n",
       "      <td>2019-01-01 14:33:50</td>\n",
       "      <td>2019-01-01 14:33:50</td>\n",
       "      <td>52.308478</td>\n",
       "      <td>4.809970</td>\n",
       "      <td>52.308537</td>\n",
       "      <td>4.810099</td>\n",
       "      <td>2019-01-01 14:33:46</td>\n",
       "    </tr>\n",
       "    <tr>\n",
       "      <th>4</th>\n",
       "      <td>5</td>\n",
       "      <td>33867</td>\n",
       "      <td>12674</td>\n",
       "      <td>787</td>\n",
       "      <td>AG</td>\n",
       "      <td>6631000283</td>\n",
       "      <td>2019-01-01 20:11:05</td>\n",
       "      <td>2019-01-01 20:11:05</td>\n",
       "      <td>52.506522</td>\n",
       "      <td>4.727323</td>\n",
       "      <td>52.506809</td>\n",
       "      <td>4.732135</td>\n",
       "      <td>2019-01-01 20:11:01</td>\n",
       "    </tr>\n",
       "  </tbody>\n",
       "</table>\n",
       "</div>"
      ],
      "text/plain": [
       "   Unnamed: 0  tripid  userid  bikeid account  bikenumber  \\\n",
       "0           1   33838   13452     382      AR  6631000433   \n",
       "1           2   33839   13452     812      AR  6631000146   \n",
       "2           3   33851   13182     238      AR  6631000443   \n",
       "3           4   33852   13182     238      AR  6631000443   \n",
       "4           5   33867   12674     787      AG  6631000283   \n",
       "\n",
       "            start_time             end_time  start_lat  start_lng    end_lat  \\\n",
       "0  2019-01-01 06:46:03  2019-01-01 06:46:03  52.296065   4.787667  52.296200   \n",
       "1  2019-01-01 06:47:39  2019-01-01 06:47:39  52.295938   4.788336  52.295940   \n",
       "2  2019-01-01 14:15:36  2019-01-01 14:15:36  52.307337   4.807633  52.307336   \n",
       "3  2019-01-01 14:33:50  2019-01-01 14:33:50  52.308478   4.809970  52.308537   \n",
       "4  2019-01-01 20:11:05  2019-01-01 20:11:05  52.506522   4.727323  52.506809   \n",
       "\n",
       "    end_lng                date  \n",
       "0  4.787679 2019-01-01 06:46:00  \n",
       "1  4.788557 2019-01-01 06:47:35  \n",
       "2  4.807630 2019-01-01 14:15:32  \n",
       "3  4.810099 2019-01-01 14:33:46  \n",
       "4  4.732135 2019-01-01 20:11:01  "
      ]
     },
     "execution_count": 96,
     "metadata": {},
     "output_type": "execute_result"
    }
   ],
   "source": [
    "# Inlezen dataset FlickBike\n",
    "df_flickbike = pd.read_csv(\"C:\\\\Github\\\\DIP\\\\bikes.csv\")\n",
    "df_flickbike[\"date\"] = pd.to_datetime(df_flickbike[\"date\"],format=\"%Y-%m-%d %H:%M:%S\")\n",
    "df_flickbike.head()"
   ]
  },
  {
   "cell_type": "markdown",
   "metadata": {},
   "source": [
    "## Hoe voorspel je de groei van FlickBike ?\n",
    "#### In het bijzonder: hoe voorspel je het aantal verhuurde fietsen op de dagen tussen 10 december 2019 en 31 januari 2020?\n",
    "\n",
    "De groei van FlickBike is van veel factoren afhankelijk, zowel externe als interne factoren. Veel factoren zullen en/of kunnen niet meegenomen worden in het model omdat deze onberekenbaar, onbereikbaar of niet noemenswaardig zijn. Alle andere factoren die wel beschikbaar zijn moeten op correlatie onderzocht worden. Als bepaalde eigenschappen veel correlatie tonen met de target eigenschap, kunnen deze belangrijk zijn voor het model.\n",
    "\n",
    "Dit probleem kan lastig opgelost worden met classificatie. Er zal dan hoogstwaarschijnlijk overfitting plaatsvinden ivm het hoge aantal target features. Linear of Non-linear Regression gaat ervan uit dat er een continue directe correlatie aanwezig is tussen input en output. Echter is dit niet het geval met categoriale waarden die zeker meegenomen worden. \n",
    "\n",
    "Een van de modellen die gebruikt kan worden voor dit probleem is een decision tree regressor. Dit heeft te maken met voordelen als visualisatie en flexibiliteit, waarbij het laatste vooral belangrijk is om te werken met zowel kwantitatieve waarden (temperatuur) en categoriale waarden (dagen/seizoenen). Bovendien kan decision tree regressor gevalideerd worden met RMSE, dat nodig is het met andere modellen te vergelijken.\n",
    "\n",
    "Ook wordt er een kwantitatieve waarde als uitkomst verwacht. Met classificatie, zoals een normale desicion tree, wordt er een categoriale uitkomst gegenereerd, terwijl er bij DTR een continue waarde wordt berekend. Dit maakt de uitkomst accurater en gepaster voor de vraagstelling van FlickBike."
   ]
  },
  {
   "cell_type": "markdown",
   "metadata": {},
   "source": [
    "#### Hoe kunnen bepaalde factoren invloed hebben of krijgen op het model  ? Welke factoren hebben  daadwerkelijk invloed/correlatie?"
   ]
  },
  {
   "cell_type": "markdown",
   "metadata": {},
   "source": [
    "#### Het weer\n",
    "\n",
    "Voor het gebruiken van weer moeten eerst een aantal weer factoren gekozen worden. Intuitief zouden bijvoorbeeld de neerslag een invloed kunnen hebben op de verhuur van fietsen ivm het feit dat mensen niet van houden om nat te regenen. Maar dit blijft een aanname. Er zal eerst een correlatie moeten worden gezocht tussen weerfactoren en verandering in fiets verhuur / gebruik."
   ]
  },
  {
   "cell_type": "code",
   "execution_count": 97,
   "metadata": {},
   "outputs": [
    {
     "data": {
      "text/html": [
       "<div>\n",
       "<style scoped>\n",
       "    .dataframe tbody tr th:only-of-type {\n",
       "        vertical-align: middle;\n",
       "    }\n",
       "\n",
       "    .dataframe tbody tr th {\n",
       "        vertical-align: top;\n",
       "    }\n",
       "\n",
       "    .dataframe thead th {\n",
       "        text-align: right;\n",
       "    }\n",
       "</style>\n",
       "<table border=\"1\" class=\"dataframe\">\n",
       "  <thead>\n",
       "    <tr style=\"text-align: right;\">\n",
       "      <th></th>\n",
       "      <th>date</th>\n",
       "      <th>windspeed</th>\n",
       "      <th>temperature</th>\n",
       "      <th>rain</th>\n",
       "    </tr>\n",
       "  </thead>\n",
       "  <tbody>\n",
       "    <tr>\n",
       "      <th>0</th>\n",
       "      <td>2019-01-01</td>\n",
       "      <td>76</td>\n",
       "      <td>77</td>\n",
       "      <td>5</td>\n",
       "    </tr>\n",
       "    <tr>\n",
       "      <th>1</th>\n",
       "      <td>2019-01-02</td>\n",
       "      <td>48</td>\n",
       "      <td>56</td>\n",
       "      <td>-1</td>\n",
       "    </tr>\n",
       "    <tr>\n",
       "      <th>2</th>\n",
       "      <td>2019-01-03</td>\n",
       "      <td>23</td>\n",
       "      <td>31</td>\n",
       "      <td>-1</td>\n",
       "    </tr>\n",
       "    <tr>\n",
       "      <th>3</th>\n",
       "      <td>2019-01-04</td>\n",
       "      <td>45</td>\n",
       "      <td>54</td>\n",
       "      <td>-1</td>\n",
       "    </tr>\n",
       "    <tr>\n",
       "      <th>4</th>\n",
       "      <td>2019-01-05</td>\n",
       "      <td>65</td>\n",
       "      <td>72</td>\n",
       "      <td>1</td>\n",
       "    </tr>\n",
       "  </tbody>\n",
       "</table>\n",
       "</div>"
      ],
      "text/plain": [
       "        date  windspeed  temperature  rain\n",
       "0 2019-01-01         76           77     5\n",
       "1 2019-01-02         48           56    -1\n",
       "2 2019-01-03         23           31    -1\n",
       "3 2019-01-04         45           54    -1\n",
       "4 2019-01-05         65           72     1"
      ]
     },
     "execution_count": 97,
     "metadata": {},
     "output_type": "execute_result"
    }
   ],
   "source": [
    "# Inlezen en voorbereiden weer dataset\n",
    "df_weer = pd.read_csv(\"weer.csv\")\n",
    "df_weer[\"YYYYMMDD\"] = pd.to_datetime(df_weer[\"YYYYMMDD\"],format=\"%Y%m%d\")\n",
    "df_weer.drop(['STN', 'SQ'], axis=1, inplace=True)\n",
    "df_weer.rename(columns={'YYYYMMDD':'date','FG':'windspeed','TG':'temperature','RH':'rain'},inplace=True)\n",
    "df_weer.head()"
   ]
  },
  {
   "cell_type": "code",
   "execution_count": 98,
   "metadata": {},
   "outputs": [
    {
     "data": {
      "text/html": [
       "<style  type=\"text/css\" >\n",
       "    #T_ef50a37e_863c_11ea_a697_bc5ff495b633row0_col0 {\n",
       "            background-color:  #b40426;\n",
       "            color:  #f1f1f1;\n",
       "        }    #T_ef50a37e_863c_11ea_a697_bc5ff495b633row0_col1 {\n",
       "            background-color:  #3b4cc0;\n",
       "            color:  #f1f1f1;\n",
       "        }    #T_ef50a37e_863c_11ea_a697_bc5ff495b633row0_col2 {\n",
       "            background-color:  #9ebeff;\n",
       "            color:  #000000;\n",
       "        }    #T_ef50a37e_863c_11ea_a697_bc5ff495b633row0_col3 {\n",
       "            background-color:  #3b4cc0;\n",
       "            color:  #f1f1f1;\n",
       "        }    #T_ef50a37e_863c_11ea_a697_bc5ff495b633row1_col0 {\n",
       "            background-color:  #6282ea;\n",
       "            color:  #000000;\n",
       "        }    #T_ef50a37e_863c_11ea_a697_bc5ff495b633row1_col1 {\n",
       "            background-color:  #b40426;\n",
       "            color:  #f1f1f1;\n",
       "        }    #T_ef50a37e_863c_11ea_a697_bc5ff495b633row1_col2 {\n",
       "            background-color:  #4257c9;\n",
       "            color:  #f1f1f1;\n",
       "        }    #T_ef50a37e_863c_11ea_a697_bc5ff495b633row1_col3 {\n",
       "            background-color:  #a6c4fe;\n",
       "            color:  #000000;\n",
       "        }    #T_ef50a37e_863c_11ea_a697_bc5ff495b633row2_col0 {\n",
       "            background-color:  #c5d6f2;\n",
       "            color:  #000000;\n",
       "        }    #T_ef50a37e_863c_11ea_a697_bc5ff495b633row2_col1 {\n",
       "            background-color:  #516ddb;\n",
       "            color:  #000000;\n",
       "        }    #T_ef50a37e_863c_11ea_a697_bc5ff495b633row2_col2 {\n",
       "            background-color:  #b40426;\n",
       "            color:  #f1f1f1;\n",
       "        }    #T_ef50a37e_863c_11ea_a697_bc5ff495b633row2_col3 {\n",
       "            background-color:  #7093f3;\n",
       "            color:  #000000;\n",
       "        }    #T_ef50a37e_863c_11ea_a697_bc5ff495b633row3_col0 {\n",
       "            background-color:  #3b4cc0;\n",
       "            color:  #f1f1f1;\n",
       "        }    #T_ef50a37e_863c_11ea_a697_bc5ff495b633row3_col1 {\n",
       "            background-color:  #85a8fc;\n",
       "            color:  #000000;\n",
       "        }    #T_ef50a37e_863c_11ea_a697_bc5ff495b633row3_col2 {\n",
       "            background-color:  #3b4cc0;\n",
       "            color:  #f1f1f1;\n",
       "        }    #T_ef50a37e_863c_11ea_a697_bc5ff495b633row3_col3 {\n",
       "            background-color:  #b40426;\n",
       "            color:  #f1f1f1;\n",
       "        }</style><table id=\"T_ef50a37e_863c_11ea_a697_bc5ff495b633\" ><thead>    <tr>        <th class=\"blank level0\" ></th>        <th class=\"col_heading level0 col0\" >windspeed</th>        <th class=\"col_heading level0 col1\" >temperature</th>        <th class=\"col_heading level0 col2\" >rain</th>        <th class=\"col_heading level0 col3\" >bikecount</th>    </tr></thead><tbody>\n",
       "                <tr>\n",
       "                        <th id=\"T_ef50a37e_863c_11ea_a697_bc5ff495b633level0_row0\" class=\"row_heading level0 row0\" >windspeed</th>\n",
       "                        <td id=\"T_ef50a37e_863c_11ea_a697_bc5ff495b633row0_col0\" class=\"data row0 col0\" >1.0000</td>\n",
       "                        <td id=\"T_ef50a37e_863c_11ea_a697_bc5ff495b633row0_col1\" class=\"data row0 col1\" >-0.0597</td>\n",
       "                        <td id=\"T_ef50a37e_863c_11ea_a697_bc5ff495b633row0_col2\" class=\"data row0 col2\" >0.2940</td>\n",
       "                        <td id=\"T_ef50a37e_863c_11ea_a697_bc5ff495b633row0_col3\" class=\"data row0 col3\" >-0.2119</td>\n",
       "            </tr>\n",
       "            <tr>\n",
       "                        <th id=\"T_ef50a37e_863c_11ea_a697_bc5ff495b633level0_row1\" class=\"row_heading level0 row1\" >temperature</th>\n",
       "                        <td id=\"T_ef50a37e_863c_11ea_a697_bc5ff495b633row1_col0\" class=\"data row1 col0\" >-0.0597</td>\n",
       "                        <td id=\"T_ef50a37e_863c_11ea_a697_bc5ff495b633row1_col1\" class=\"data row1 col1\" >1.0000</td>\n",
       "                        <td id=\"T_ef50a37e_863c_11ea_a697_bc5ff495b633row1_col2\" class=\"data row1 col2\" >0.0221</td>\n",
       "                        <td id=\"T_ef50a37e_863c_11ea_a697_bc5ff495b633row1_col3\" class=\"data row1 col3\" >0.1804</td>\n",
       "            </tr>\n",
       "            <tr>\n",
       "                        <th id=\"T_ef50a37e_863c_11ea_a697_bc5ff495b633level0_row2\" class=\"row_heading level0 row2\" >rain</th>\n",
       "                        <td id=\"T_ef50a37e_863c_11ea_a697_bc5ff495b633row2_col0\" class=\"data row2 col0\" >0.2940</td>\n",
       "                        <td id=\"T_ef50a37e_863c_11ea_a697_bc5ff495b633row2_col1\" class=\"data row2 col1\" >0.0221</td>\n",
       "                        <td id=\"T_ef50a37e_863c_11ea_a697_bc5ff495b633row2_col2\" class=\"data row2 col2\" >1.0000</td>\n",
       "                        <td id=\"T_ef50a37e_863c_11ea_a697_bc5ff495b633row2_col3\" class=\"data row2 col3\" >-0.0045</td>\n",
       "            </tr>\n",
       "            <tr>\n",
       "                        <th id=\"T_ef50a37e_863c_11ea_a697_bc5ff495b633level0_row3\" class=\"row_heading level0 row3\" >bikecount</th>\n",
       "                        <td id=\"T_ef50a37e_863c_11ea_a697_bc5ff495b633row3_col0\" class=\"data row3 col0\" >-0.2119</td>\n",
       "                        <td id=\"T_ef50a37e_863c_11ea_a697_bc5ff495b633row3_col1\" class=\"data row3 col1\" >0.1804</td>\n",
       "                        <td id=\"T_ef50a37e_863c_11ea_a697_bc5ff495b633row3_col2\" class=\"data row3 col2\" >-0.0045</td>\n",
       "                        <td id=\"T_ef50a37e_863c_11ea_a697_bc5ff495b633row3_col3\" class=\"data row3 col3\" >1.0000</td>\n",
       "            </tr>\n",
       "    </tbody></table>"
      ],
      "text/plain": [
       "<pandas.io.formats.style.Styler at 0x27f5e2ca0b8>"
      ]
     },
     "execution_count": 98,
     "metadata": {},
     "output_type": "execute_result"
    }
   ],
   "source": [
    "# Correlatiematrix\n",
    "df_weer_verhuur.corr().style.background_gradient(cmap='coolwarm').set_precision(4)"
   ]
  },
  {
   "cell_type": "markdown",
   "metadata": {},
   "source": [
    "#### Neerslag:"
   ]
  },
  {
   "cell_type": "code",
   "execution_count": 99,
   "metadata": {},
   "outputs": [
    {
     "data": {
      "image/png": "[encoded data removed]",
      "text/plain": [
       "<Figure size 432x288 with 1 Axes>"
      ]
     },
     "metadata": {
      "needs_background": "light"
     },
     "output_type": "display_data"
    }
   ],
   "source": [
    "# Plotten data\n",
    "df_weer_verhuur.sort_values(\"rain\",inplace=True)\n",
    "plt.scatter(df_weer_verhuur[\"rain\"],df_weer_verhuur[\"bikecount\"])\n",
    "plt.title(\"Relatie regen en verhuurde fietsen\")\n",
    "plt.show()"
   ]
  },
  {
   "cell_type": "code",
   "execution_count": 100,
   "metadata": {},
   "outputs": [
    {
     "data": {
      "text/html": [
       "<style  type=\"text/css\" >\n",
       "    #T_ef714ad2_863c_11ea_9919_bc5ff495b633row0_col0 {\n",
       "            background-color:  #b40426;\n",
       "            color:  #f1f1f1;\n",
       "        }    #T_ef714ad2_863c_11ea_9919_bc5ff495b633row0_col1 {\n",
       "            background-color:  #3b4cc0;\n",
       "            color:  #f1f1f1;\n",
       "        }    #T_ef714ad2_863c_11ea_9919_bc5ff495b633row0_col2 {\n",
       "            background-color:  #3b4cc0;\n",
       "            color:  #f1f1f1;\n",
       "        }    #T_ef714ad2_863c_11ea_9919_bc5ff495b633row0_col3 {\n",
       "            background-color:  #3b4cc0;\n",
       "            color:  #f1f1f1;\n",
       "        }    #T_ef714ad2_863c_11ea_9919_bc5ff495b633row1_col0 {\n",
       "            background-color:  #80a3fa;\n",
       "            color:  #000000;\n",
       "        }    #T_ef714ad2_863c_11ea_9919_bc5ff495b633row1_col1 {\n",
       "            background-color:  #b40426;\n",
       "            color:  #f1f1f1;\n",
       "        }    #T_ef714ad2_863c_11ea_9919_bc5ff495b633row1_col2 {\n",
       "            background-color:  #6f92f3;\n",
       "            color:  #000000;\n",
       "        }    #T_ef714ad2_863c_11ea_9919_bc5ff495b633row1_col3 {\n",
       "            background-color:  #afcafc;\n",
       "            color:  #000000;\n",
       "        }    #T_ef714ad2_863c_11ea_9919_bc5ff495b633row2_col0 {\n",
       "            background-color:  #8db0fe;\n",
       "            color:  #000000;\n",
       "        }    #T_ef714ad2_863c_11ea_9919_bc5ff495b633row2_col1 {\n",
       "            background-color:  #7ea1fa;\n",
       "            color:  #000000;\n",
       "        }    #T_ef714ad2_863c_11ea_9919_bc5ff495b633row2_col2 {\n",
       "            background-color:  #b40426;\n",
       "            color:  #f1f1f1;\n",
       "        }    #T_ef714ad2_863c_11ea_9919_bc5ff495b633row2_col3 {\n",
       "            background-color:  #b2ccfb;\n",
       "            color:  #000000;\n",
       "        }    #T_ef714ad2_863c_11ea_9919_bc5ff495b633row3_col0 {\n",
       "            background-color:  #3b4cc0;\n",
       "            color:  #f1f1f1;\n",
       "        }    #T_ef714ad2_863c_11ea_9919_bc5ff495b633row3_col1 {\n",
       "            background-color:  #7295f4;\n",
       "            color:  #000000;\n",
       "        }    #T_ef714ad2_863c_11ea_9919_bc5ff495b633row3_col2 {\n",
       "            background-color:  #6788ee;\n",
       "            color:  #000000;\n",
       "        }    #T_ef714ad2_863c_11ea_9919_bc5ff495b633row3_col3 {\n",
       "            background-color:  #b40426;\n",
       "            color:  #f1f1f1;\n",
       "        }</style><table id=\"T_ef714ad2_863c_11ea_9919_bc5ff495b633\" ><thead>    <tr>        <th class=\"blank level0\" ></th>        <th class=\"col_heading level0 col0\" >windspeed</th>        <th class=\"col_heading level0 col1\" >temperature</th>        <th class=\"col_heading level0 col2\" >rain</th>        <th class=\"col_heading level0 col3\" >bikecount</th>    </tr></thead><tbody>\n",
       "                <tr>\n",
       "                        <th id=\"T_ef714ad2_863c_11ea_9919_bc5ff495b633level0_row0\" class=\"row_heading level0 row0\" >windspeed</th>\n",
       "                        <td id=\"T_ef714ad2_863c_11ea_9919_bc5ff495b633row0_col0\" class=\"data row0 col0\" >1.000000</td>\n",
       "                        <td id=\"T_ef714ad2_863c_11ea_9919_bc5ff495b633row0_col1\" class=\"data row0 col1\" >-0.106235</td>\n",
       "                        <td id=\"T_ef714ad2_863c_11ea_9919_bc5ff495b633row0_col2\" class=\"data row0 col2\" >-0.048825</td>\n",
       "                        <td id=\"T_ef714ad2_863c_11ea_9919_bc5ff495b633row0_col3\" class=\"data row0 col3\" >-0.403249</td>\n",
       "            </tr>\n",
       "            <tr>\n",
       "                        <th id=\"T_ef714ad2_863c_11ea_9919_bc5ff495b633level0_row1\" class=\"row_heading level0 row1\" >temperature</th>\n",
       "                        <td id=\"T_ef714ad2_863c_11ea_9919_bc5ff495b633row1_col0\" class=\"data row1 col0\" >-0.106235</td>\n",
       "                        <td id=\"T_ef714ad2_863c_11ea_9919_bc5ff495b633row1_col1\" class=\"data row1 col1\" >1.000000</td>\n",
       "                        <td id=\"T_ef714ad2_863c_11ea_9919_bc5ff495b633row1_col2\" class=\"data row1 col2\" >0.125705</td>\n",
       "                        <td id=\"T_ef714ad2_863c_11ea_9919_bc5ff495b633row1_col3\" class=\"data row1 col3\" >0.085251</td>\n",
       "            </tr>\n",
       "            <tr>\n",
       "                        <th id=\"T_ef714ad2_863c_11ea_9919_bc5ff495b633level0_row2\" class=\"row_heading level0 row2\" >rain</th>\n",
       "                        <td id=\"T_ef714ad2_863c_11ea_9919_bc5ff495b633row2_col0\" class=\"data row2 col0\" >-0.048825</td>\n",
       "                        <td id=\"T_ef714ad2_863c_11ea_9919_bc5ff495b633row2_col1\" class=\"data row2 col1\" >0.125705</td>\n",
       "                        <td id=\"T_ef714ad2_863c_11ea_9919_bc5ff495b633row2_col2\" class=\"data row2 col2\" >1.000000</td>\n",
       "                        <td id=\"T_ef714ad2_863c_11ea_9919_bc5ff495b633row2_col3\" class=\"data row2 col3\" >0.099708</td>\n",
       "            </tr>\n",
       "            <tr>\n",
       "                        <th id=\"T_ef714ad2_863c_11ea_9919_bc5ff495b633level0_row3\" class=\"row_heading level0 row3\" >bikecount</th>\n",
       "                        <td id=\"T_ef714ad2_863c_11ea_9919_bc5ff495b633row3_col0\" class=\"data row3 col0\" >-0.403249</td>\n",
       "                        <td id=\"T_ef714ad2_863c_11ea_9919_bc5ff495b633row3_col1\" class=\"data row3 col1\" >0.085251</td>\n",
       "                        <td id=\"T_ef714ad2_863c_11ea_9919_bc5ff495b633row3_col2\" class=\"data row3 col2\" >0.099708</td>\n",
       "                        <td id=\"T_ef714ad2_863c_11ea_9919_bc5ff495b633row3_col3\" class=\"data row3 col3\" >1.000000</td>\n",
       "            </tr>\n",
       "    </tbody></table>"
      ],
      "text/plain": [
       "<pandas.io.formats.style.Styler at 0x27f5e376d68>"
      ]
     },
     "execution_count": 100,
     "metadata": {},
     "output_type": "execute_result"
    }
   ],
   "source": [
    "# Proberen met neerslag hoger dan het gemiddelde\n",
    "df_weer_verhuur[df_weer_verhuur['rain'] > df_weer_verhuur['rain'].mean()].corr().style.background_gradient(cmap='coolwarm')"
   ]
  },
  {
   "cell_type": "markdown",
   "metadata": {},
   "source": [
    "#### Temperatuur:"
   ]
  },
  {
   "cell_type": "code",
   "execution_count": 101,
   "metadata": {},
   "outputs": [
    {
     "data": {
      "image/png": "[encoded data removed]",
      "text/plain": [
       "<Figure size 432x288 with 1 Axes>"
      ]
     },
     "metadata": {
      "needs_background": "light"
     },
     "output_type": "display_data"
    }
   ],
   "source": [
    "df_weer_verhuur.sort_values(\"temperature\",inplace=True)\n",
    "plt.scatter(df_weer_verhuur[\"temperature\"],df_weer_verhuur[\"bikecount\"])\n",
    "plt.title(\"Relatie temperatuur en verhuurde fietsen\")\n",
    "plt.show()"
   ]
  },
  {
   "cell_type": "code",
   "execution_count": 107,
   "metadata": {},
   "outputs": [
    {
     "data": {
      "text/html": [
       "<style  type=\"text/css\" >\n",
       "    #T_f9bb281a_863c_11ea_94f1_bc5ff495b633row0_col0 {\n",
       "            background-color:  #b40426;\n",
       "            color:  #f1f1f1;\n",
       "        }    #T_f9bb281a_863c_11ea_94f1_bc5ff495b633row0_col1 {\n",
       "            background-color:  #799cf8;\n",
       "            color:  #000000;\n",
       "        }    #T_f9bb281a_863c_11ea_94f1_bc5ff495b633row0_col2 {\n",
       "            background-color:  #b9d0f9;\n",
       "            color:  #000000;\n",
       "        }    #T_f9bb281a_863c_11ea_94f1_bc5ff495b633row0_col3 {\n",
       "            background-color:  #3b4cc0;\n",
       "            color:  #f1f1f1;\n",
       "        }    #T_f9bb281a_863c_11ea_94f1_bc5ff495b633row1_col0 {\n",
       "            background-color:  #c0d4f5;\n",
       "            color:  #000000;\n",
       "        }    #T_f9bb281a_863c_11ea_94f1_bc5ff495b633row1_col1 {\n",
       "            background-color:  #b40426;\n",
       "            color:  #f1f1f1;\n",
       "        }    #T_f9bb281a_863c_11ea_94f1_bc5ff495b633row1_col2 {\n",
       "            background-color:  #5a78e4;\n",
       "            color:  #000000;\n",
       "        }    #T_f9bb281a_863c_11ea_94f1_bc5ff495b633row1_col3 {\n",
       "            background-color:  #90b2fe;\n",
       "            color:  #000000;\n",
       "        }    #T_f9bb281a_863c_11ea_94f1_bc5ff495b633row2_col0 {\n",
       "            background-color:  #e0dbd8;\n",
       "            color:  #000000;\n",
       "        }    #T_f9bb281a_863c_11ea_94f1_bc5ff495b633row2_col1 {\n",
       "            background-color:  #4a63d3;\n",
       "            color:  #f1f1f1;\n",
       "        }    #T_f9bb281a_863c_11ea_94f1_bc5ff495b633row2_col2 {\n",
       "            background-color:  #b40426;\n",
       "            color:  #f1f1f1;\n",
       "        }    #T_f9bb281a_863c_11ea_94f1_bc5ff495b633row2_col3 {\n",
       "            background-color:  #81a4fb;\n",
       "            color:  #000000;\n",
       "        }    #T_f9bb281a_863c_11ea_94f1_bc5ff495b633row3_col0 {\n",
       "            background-color:  #3b4cc0;\n",
       "            color:  #f1f1f1;\n",
       "        }    #T_f9bb281a_863c_11ea_94f1_bc5ff495b633row3_col1 {\n",
       "            background-color:  #3b4cc0;\n",
       "            color:  #f1f1f1;\n",
       "        }    #T_f9bb281a_863c_11ea_94f1_bc5ff495b633row3_col2 {\n",
       "            background-color:  #3b4cc0;\n",
       "            color:  #f1f1f1;\n",
       "        }    #T_f9bb281a_863c_11ea_94f1_bc5ff495b633row3_col3 {\n",
       "            background-color:  #b40426;\n",
       "            color:  #f1f1f1;\n",
       "        }</style><table id=\"T_f9bb281a_863c_11ea_94f1_bc5ff495b633\" ><thead>    <tr>        <th class=\"blank level0\" ></th>        <th class=\"col_heading level0 col0\" >windspeed</th>        <th class=\"col_heading level0 col1\" >temperature</th>        <th class=\"col_heading level0 col2\" >rain</th>        <th class=\"col_heading level0 col3\" >bikecount</th>    </tr></thead><tbody>\n",
       "                <tr>\n",
       "                        <th id=\"T_f9bb281a_863c_11ea_94f1_bc5ff495b633level0_row0\" class=\"row_heading level0 row0\" >windspeed</th>\n",
       "                        <td id=\"T_f9bb281a_863c_11ea_94f1_bc5ff495b633row0_col0\" class=\"data row0 col0\" >1.000000</td>\n",
       "                        <td id=\"T_f9bb281a_863c_11ea_94f1_bc5ff495b633row0_col1\" class=\"data row0 col1\" >0.262938</td>\n",
       "                        <td id=\"T_f9bb281a_863c_11ea_94f1_bc5ff495b633row0_col2\" class=\"data row0 col2\" >0.400650</td>\n",
       "                        <td id=\"T_f9bb281a_863c_11ea_94f1_bc5ff495b633row0_col3\" class=\"data row0 col3\" >-0.233038</td>\n",
       "            </tr>\n",
       "            <tr>\n",
       "                        <th id=\"T_f9bb281a_863c_11ea_94f1_bc5ff495b633level0_row1\" class=\"row_heading level0 row1\" >temperature</th>\n",
       "                        <td id=\"T_f9bb281a_863c_11ea_94f1_bc5ff495b633row1_col0\" class=\"data row1 col0\" >0.262938</td>\n",
       "                        <td id=\"T_f9bb281a_863c_11ea_94f1_bc5ff495b633row1_col1\" class=\"data row1 col1\" >1.000000</td>\n",
       "                        <td id=\"T_f9bb281a_863c_11ea_94f1_bc5ff495b633row1_col2\" class=\"data row1 col2\" >0.134494</td>\n",
       "                        <td id=\"T_f9bb281a_863c_11ea_94f1_bc5ff495b633row1_col3\" class=\"data row1 col3\" >0.087222</td>\n",
       "            </tr>\n",
       "            <tr>\n",
       "                        <th id=\"T_f9bb281a_863c_11ea_94f1_bc5ff495b633level0_row2\" class=\"row_heading level0 row2\" >rain</th>\n",
       "                        <td id=\"T_f9bb281a_863c_11ea_94f1_bc5ff495b633row2_col0\" class=\"data row2 col0\" >0.400650</td>\n",
       "                        <td id=\"T_f9bb281a_863c_11ea_94f1_bc5ff495b633row2_col1\" class=\"data row2 col1\" >0.134494</td>\n",
       "                        <td id=\"T_f9bb281a_863c_11ea_94f1_bc5ff495b633row2_col2\" class=\"data row2 col2\" >1.000000</td>\n",
       "                        <td id=\"T_f9bb281a_863c_11ea_94f1_bc5ff495b633row2_col3\" class=\"data row2 col3\" >0.035875</td>\n",
       "            </tr>\n",
       "            <tr>\n",
       "                        <th id=\"T_f9bb281a_863c_11ea_94f1_bc5ff495b633level0_row3\" class=\"row_heading level0 row3\" >bikecount</th>\n",
       "                        <td id=\"T_f9bb281a_863c_11ea_94f1_bc5ff495b633row3_col0\" class=\"data row3 col0\" >-0.233038</td>\n",
       "                        <td id=\"T_f9bb281a_863c_11ea_94f1_bc5ff495b633row3_col1\" class=\"data row3 col1\" >0.087222</td>\n",
       "                        <td id=\"T_f9bb281a_863c_11ea_94f1_bc5ff495b633row3_col2\" class=\"data row3 col2\" >0.035875</td>\n",
       "                        <td id=\"T_f9bb281a_863c_11ea_94f1_bc5ff495b633row3_col3\" class=\"data row3 col3\" >1.000000</td>\n",
       "            </tr>\n",
       "    </tbody></table>"
      ],
      "text/plain": [
       "<pandas.io.formats.style.Styler at 0x27f5d881278>"
      ]
     },
     "execution_count": 107,
     "metadata": {},
     "output_type": "execute_result"
    }
   ],
   "source": [
    "# Proberen met temperaturen lager dan het gemiddelde\n",
    "df_weer_verhuur[df_weer_verhuur['temperature'] < df_weer_verhuur['temperature'].mean()].corr().style.background_gradient(cmap='coolwarm')"
   ]
  },
  {
   "cell_type": "code",
   "execution_count": 103,
   "metadata": {},
   "outputs": [
    {
     "data": {
      "text/html": [
       "<div>\n",
       "<style scoped>\n",
       "    .dataframe tbody tr th:only-of-type {\n",
       "        vertical-align: middle;\n",
       "    }\n",
       "\n",
       "    .dataframe tbody tr th {\n",
       "        vertical-align: top;\n",
       "    }\n",
       "\n",
       "    .dataframe thead th {\n",
       "        text-align: right;\n",
       "    }\n",
       "</style>\n",
       "<table border=\"1\" class=\"dataframe\">\n",
       "  <thead>\n",
       "    <tr style=\"text-align: right;\">\n",
       "      <th></th>\n",
       "      <th>date</th>\n",
       "      <th>windspeed</th>\n",
       "      <th>temperature</th>\n",
       "      <th>rain</th>\n",
       "      <th>bikecount</th>\n",
       "      <th>day</th>\n",
       "    </tr>\n",
       "  </thead>\n",
       "  <tbody>\n",
       "    <tr>\n",
       "      <th>0</th>\n",
       "      <td>2019-01-01</td>\n",
       "      <td>76</td>\n",
       "      <td>77</td>\n",
       "      <td>5</td>\n",
       "      <td>8.0</td>\n",
       "      <td>2019-01-01</td>\n",
       "    </tr>\n",
       "    <tr>\n",
       "      <th>1</th>\n",
       "      <td>2019-01-02</td>\n",
       "      <td>48</td>\n",
       "      <td>56</td>\n",
       "      <td>-1</td>\n",
       "      <td>61.0</td>\n",
       "      <td>2019-01-02</td>\n",
       "    </tr>\n",
       "    <tr>\n",
       "      <th>2</th>\n",
       "      <td>2019-01-03</td>\n",
       "      <td>23</td>\n",
       "      <td>31</td>\n",
       "      <td>-1</td>\n",
       "      <td>90.0</td>\n",
       "      <td>2019-01-03</td>\n",
       "    </tr>\n",
       "    <tr>\n",
       "      <th>3</th>\n",
       "      <td>2019-01-04</td>\n",
       "      <td>45</td>\n",
       "      <td>54</td>\n",
       "      <td>-1</td>\n",
       "      <td>64.0</td>\n",
       "      <td>2019-01-04</td>\n",
       "    </tr>\n",
       "    <tr>\n",
       "      <th>4</th>\n",
       "      <td>2019-01-05</td>\n",
       "      <td>65</td>\n",
       "      <td>72</td>\n",
       "      <td>1</td>\n",
       "      <td>17.0</td>\n",
       "      <td>2019-01-05</td>\n",
       "    </tr>\n",
       "  </tbody>\n",
       "</table>\n",
       "</div>"
      ],
      "text/plain": [
       "        date  windspeed  temperature  rain  bikecount        day\n",
       "0 2019-01-01         76           77     5        8.0 2019-01-01\n",
       "1 2019-01-02         48           56    -1       61.0 2019-01-02\n",
       "2 2019-01-03         23           31    -1       90.0 2019-01-03\n",
       "3 2019-01-04         45           54    -1       64.0 2019-01-04\n",
       "4 2019-01-05         65           72     1       17.0 2019-01-05"
      ]
     },
     "execution_count": 103,
     "metadata": {},
     "output_type": "execute_result"
    }
   ],
   "source": [
    "# Verhuurcijfers samenvoegen met weerdata\n",
    "df_bikes_per_day = df_flickbike[[\"tripid\"]].groupby([df_flickbike[\"date\"].dt.date]).count()\n",
    "df_bikes_per_day[\"day\"] = pd.to_datetime(df_bikes_per_day.index,format=\"%Y-%m-%d %H:%M:%S\")\n",
    "df_weer_verhuur = df_weer.merge(df_bikes_per_day, how='left', left_on='date', right_on=\"day\")\n",
    "df_weer_verhuur.rename(columns={'tripid':'bikecount'},inplace=True)\n",
    "df_weer_verhuur.head()"
   ]
  },
  {
   "cell_type": "markdown",
   "metadata": {},
   "source": [
    "#### Windsnelheid:"
   ]
  },
  {
   "cell_type": "code",
   "execution_count": 104,
   "metadata": {},
   "outputs": [
    {
     "data": {
      "image/png": "[encoded data removed]",
      "text/plain": [
       "<Figure size 432x288 with 1 Axes>"
      ]
     },
     "metadata": {
      "needs_background": "light"
     },
     "output_type": "display_data"
    }
   ],
   "source": [
    "df_weer_verhuur.sort_values(\"windspeed\",inplace=True)\n",
    "plt.scatter(df_weer_verhuur[\"windspeed\"],df_weer_verhuur[\"bikecount\"])\n",
    "plt.title(\"Relatie windsnelheid en verhuurde fietsen\")\n",
    "plt.show()"
   ]
  },
  {
   "cell_type": "code",
   "execution_count": 109,
   "metadata": {},
   "outputs": [
    {
     "data": {
      "text/html": [
       "<style  type=\"text/css\" >\n",
       "    #T_15e1617a_863d_11ea_8235_bc5ff495b633row0_col0 {\n",
       "            background-color:  #b40426;\n",
       "            color:  #f1f1f1;\n",
       "        }    #T_15e1617a_863d_11ea_8235_bc5ff495b633row0_col1 {\n",
       "            background-color:  #3b4cc0;\n",
       "            color:  #f1f1f1;\n",
       "        }    #T_15e1617a_863d_11ea_8235_bc5ff495b633row0_col2 {\n",
       "            background-color:  #6384eb;\n",
       "            color:  #000000;\n",
       "        }    #T_15e1617a_863d_11ea_8235_bc5ff495b633row0_col3 {\n",
       "            background-color:  #3b4cc0;\n",
       "            color:  #f1f1f1;\n",
       "        }    #T_15e1617a_863d_11ea_8235_bc5ff495b633row1_col0 {\n",
       "            background-color:  #6a8bef;\n",
       "            color:  #000000;\n",
       "        }    #T_15e1617a_863d_11ea_8235_bc5ff495b633row1_col1 {\n",
       "            background-color:  #b40426;\n",
       "            color:  #f1f1f1;\n",
       "        }    #T_15e1617a_863d_11ea_8235_bc5ff495b633row1_col2 {\n",
       "            background-color:  #3b4cc0;\n",
       "            color:  #f1f1f1;\n",
       "        }    #T_15e1617a_863d_11ea_8235_bc5ff495b633row1_col3 {\n",
       "            background-color:  #bfd3f6;\n",
       "            color:  #000000;\n",
       "        }    #T_15e1617a_863d_11ea_8235_bc5ff495b633row2_col0 {\n",
       "            background-color:  #b6cefa;\n",
       "            color:  #000000;\n",
       "        }    #T_15e1617a_863d_11ea_8235_bc5ff495b633row2_col1 {\n",
       "            background-color:  #688aef;\n",
       "            color:  #000000;\n",
       "        }    #T_15e1617a_863d_11ea_8235_bc5ff495b633row2_col2 {\n",
       "            background-color:  #b40426;\n",
       "            color:  #f1f1f1;\n",
       "        }    #T_15e1617a_863d_11ea_8235_bc5ff495b633row2_col3 {\n",
       "            background-color:  #9ebeff;\n",
       "            color:  #000000;\n",
       "        }    #T_15e1617a_863d_11ea_8235_bc5ff495b633row3_col0 {\n",
       "            background-color:  #3b4cc0;\n",
       "            color:  #f1f1f1;\n",
       "        }    #T_15e1617a_863d_11ea_8235_bc5ff495b633row3_col1 {\n",
       "            background-color:  #9bbcff;\n",
       "            color:  #000000;\n",
       "        }    #T_15e1617a_863d_11ea_8235_bc5ff495b633row3_col2 {\n",
       "            background-color:  #445acc;\n",
       "            color:  #f1f1f1;\n",
       "        }    #T_15e1617a_863d_11ea_8235_bc5ff495b633row3_col3 {\n",
       "            background-color:  #b40426;\n",
       "            color:  #f1f1f1;\n",
       "        }</style><table id=\"T_15e1617a_863d_11ea_8235_bc5ff495b633\" ><thead>    <tr>        <th class=\"blank level0\" ></th>        <th class=\"col_heading level0 col0\" >windspeed</th>        <th class=\"col_heading level0 col1\" >temperature</th>        <th class=\"col_heading level0 col2\" >rain</th>        <th class=\"col_heading level0 col3\" >bikecount</th>    </tr></thead><tbody>\n",
       "                <tr>\n",
       "                        <th id=\"T_15e1617a_863d_11ea_8235_bc5ff495b633level0_row0\" class=\"row_heading level0 row0\" >windspeed</th>\n",
       "                        <td id=\"T_15e1617a_863d_11ea_8235_bc5ff495b633row0_col0\" class=\"data row0 col0\" >1.000000</td>\n",
       "                        <td id=\"T_15e1617a_863d_11ea_8235_bc5ff495b633row0_col1\" class=\"data row0 col1\" >-0.156336</td>\n",
       "                        <td id=\"T_15e1617a_863d_11ea_8235_bc5ff495b633row0_col2\" class=\"data row0 col2\" >0.142009</td>\n",
       "                        <td id=\"T_15e1617a_863d_11ea_8235_bc5ff495b633row0_col3\" class=\"data row0 col3\" >-0.360961</td>\n",
       "            </tr>\n",
       "            <tr>\n",
       "                        <th id=\"T_15e1617a_863d_11ea_8235_bc5ff495b633level0_row1\" class=\"row_heading level0 row1\" >temperature</th>\n",
       "                        <td id=\"T_15e1617a_863d_11ea_8235_bc5ff495b633row1_col0\" class=\"data row1 col0\" >-0.156336</td>\n",
       "                        <td id=\"T_15e1617a_863d_11ea_8235_bc5ff495b633row1_col1\" class=\"data row1 col1\" >1.000000</td>\n",
       "                        <td id=\"T_15e1617a_863d_11ea_8235_bc5ff495b633row1_col2\" class=\"data row1 col2\" >0.011645</td>\n",
       "                        <td id=\"T_15e1617a_863d_11ea_8235_bc5ff495b633row1_col3\" class=\"data row1 col3\" >0.179227</td>\n",
       "            </tr>\n",
       "            <tr>\n",
       "                        <th id=\"T_15e1617a_863d_11ea_8235_bc5ff495b633level0_row2\" class=\"row_heading level0 row2\" >rain</th>\n",
       "                        <td id=\"T_15e1617a_863d_11ea_8235_bc5ff495b633row2_col0\" class=\"data row2 col0\" >0.142009</td>\n",
       "                        <td id=\"T_15e1617a_863d_11ea_8235_bc5ff495b633row2_col1\" class=\"data row2 col1\" >0.011645</td>\n",
       "                        <td id=\"T_15e1617a_863d_11ea_8235_bc5ff495b633row2_col2\" class=\"data row2 col2\" >1.000000</td>\n",
       "                        <td id=\"T_15e1617a_863d_11ea_8235_bc5ff495b633row2_col3\" class=\"data row2 col3\" >0.046181</td>\n",
       "            </tr>\n",
       "            <tr>\n",
       "                        <th id=\"T_15e1617a_863d_11ea_8235_bc5ff495b633level0_row3\" class=\"row_heading level0 row3\" >bikecount</th>\n",
       "                        <td id=\"T_15e1617a_863d_11ea_8235_bc5ff495b633row3_col0\" class=\"data row3 col0\" >-0.360961</td>\n",
       "                        <td id=\"T_15e1617a_863d_11ea_8235_bc5ff495b633row3_col1\" class=\"data row3 col1\" >0.179227</td>\n",
       "                        <td id=\"T_15e1617a_863d_11ea_8235_bc5ff495b633row3_col2\" class=\"data row3 col2\" >0.046181</td>\n",
       "                        <td id=\"T_15e1617a_863d_11ea_8235_bc5ff495b633row3_col3\" class=\"data row3 col3\" >1.000000</td>\n",
       "            </tr>\n",
       "    </tbody></table>"
      ],
      "text/plain": [
       "<pandas.io.formats.style.Styler at 0x27f5e3298d0>"
      ]
     },
     "execution_count": 109,
     "metadata": {},
     "output_type": "execute_result"
    }
   ],
   "source": [
    "# Proberen met windsnelheden hoger dan het gemiddelde\n",
    "df_weer_verhuur[df_weer_verhuur['windspeed'] > df_weer_verhuur['windspeed'].mean()].corr().style.background_gradient(cmap='coolwarm')"
   ]
  },
  {
   "cell_type": "markdown",
   "metadata": {},
   "source": [
    "Hieruit blijkt dat weer gegevens weinig invloed heeft op het aantal verhuurde fietsen. De grootste correlatie is te zien bij windkracht met een negatieve correlatie van 0.2. Zelfs daar is dus geen correlatie te vinden. Misschien valt er een betere correlatie te behalen door meerdere variabelen te combineren en een LR model op te stellen, maar veel verbetering wordt hier niet verwacht. \n",
    "\n",
    "Een mogelijke reden voor de slechte correlatie kan te maken hebben met waar deze fietsen voor bedoeld zijn, namelijk als vervoer van en naar het werk. Zoals al gezegd is heeft dit niets te maken met woon-werk verkeer en wordt de fiets regelmatig gepakt om bijvoorbeeld wat eten te halen, maar toch worden werknemers meer gedwongen de fiets te pakken dan wanneer iemand in zijn vrije tijd de fiets pakt.\n",
    "\n",
    "Weer gegevens gaan we dus niet meenemen in de decision tree regressor. Mogelijk is er toch een verband te vinden door de data anders te transformeren of combineren, dus dit wordt de volgende stap."
   ]
  },
  {
   "cell_type": "markdown",
   "metadata": {},
   "source": [
    "#### Dag van de week\n",
    "\n",
    "De dag van de week kan ook zeer sterke correlatie hebben met het aantal gebruikte huurfietsen. Je zou zeggen dat doordeweeks meer fietsen gebruikt worden omdat veel mensen alleen doordeweeks werken. Door de dag van de week als integer (1-7) of als string (ma-su) kan een nieuwe kolom met data aan het verhuurbestand toegevoegd worden."
   ]
  },
  {
   "cell_type": "code",
   "execution_count": 105,
   "metadata": {},
   "outputs": [
    {
     "data": {
      "text/html": [
       "<div>\n",
       "<style scoped>\n",
       "    .dataframe tbody tr th:only-of-type {\n",
       "        vertical-align: middle;\n",
       "    }\n",
       "\n",
       "    .dataframe tbody tr th {\n",
       "        vertical-align: top;\n",
       "    }\n",
       "\n",
       "    .dataframe thead th {\n",
       "        text-align: right;\n",
       "    }\n",
       "</style>\n",
       "<table border=\"1\" class=\"dataframe\">\n",
       "  <thead>\n",
       "    <tr style=\"text-align: right;\">\n",
       "      <th></th>\n",
       "      <th>tripid</th>\n",
       "      <th>userid</th>\n",
       "      <th>bikeid</th>\n",
       "      <th>account</th>\n",
       "      <th>bikenumber</th>\n",
       "      <th>start_time</th>\n",
       "      <th>end_time</th>\n",
       "      <th>start_lat</th>\n",
       "      <th>start_lng</th>\n",
       "      <th>end_lat</th>\n",
       "      <th>end_lng</th>\n",
       "      <th>date</th>\n",
       "      <th>weekday</th>\n",
       "    </tr>\n",
       "  </thead>\n",
       "  <tbody>\n",
       "    <tr>\n",
       "      <th>1</th>\n",
       "      <td>33838</td>\n",
       "      <td>13452</td>\n",
       "      <td>382</td>\n",
       "      <td>AR</td>\n",
       "      <td>6631000433</td>\n",
       "      <td>2019-01-01 06:46:03</td>\n",
       "      <td>2019-01-01 06:46:03</td>\n",
       "      <td>52.296065</td>\n",
       "      <td>4.787667</td>\n",
       "      <td>52.296200</td>\n",
       "      <td>4.787679</td>\n",
       "      <td>2019-01-01 06:46:00</td>\n",
       "      <td>Tuesday</td>\n",
       "    </tr>\n",
       "    <tr>\n",
       "      <th>2</th>\n",
       "      <td>33839</td>\n",
       "      <td>13452</td>\n",
       "      <td>812</td>\n",
       "      <td>AR</td>\n",
       "      <td>6631000146</td>\n",
       "      <td>2019-01-01 06:47:39</td>\n",
       "      <td>2019-01-01 06:47:39</td>\n",
       "      <td>52.295938</td>\n",
       "      <td>4.788336</td>\n",
       "      <td>52.295940</td>\n",
       "      <td>4.788557</td>\n",
       "      <td>2019-01-01 06:47:35</td>\n",
       "      <td>Tuesday</td>\n",
       "    </tr>\n",
       "    <tr>\n",
       "      <th>3</th>\n",
       "      <td>33851</td>\n",
       "      <td>13182</td>\n",
       "      <td>238</td>\n",
       "      <td>AR</td>\n",
       "      <td>6631000443</td>\n",
       "      <td>2019-01-01 14:15:36</td>\n",
       "      <td>2019-01-01 14:15:36</td>\n",
       "      <td>52.307337</td>\n",
       "      <td>4.807633</td>\n",
       "      <td>52.307336</td>\n",
       "      <td>4.807630</td>\n",
       "      <td>2019-01-01 14:15:32</td>\n",
       "      <td>Tuesday</td>\n",
       "    </tr>\n",
       "    <tr>\n",
       "      <th>4</th>\n",
       "      <td>33852</td>\n",
       "      <td>13182</td>\n",
       "      <td>238</td>\n",
       "      <td>AR</td>\n",
       "      <td>6631000443</td>\n",
       "      <td>2019-01-01 14:33:50</td>\n",
       "      <td>2019-01-01 14:33:50</td>\n",
       "      <td>52.308478</td>\n",
       "      <td>4.809970</td>\n",
       "      <td>52.308537</td>\n",
       "      <td>4.810099</td>\n",
       "      <td>2019-01-01 14:33:46</td>\n",
       "      <td>Tuesday</td>\n",
       "    </tr>\n",
       "    <tr>\n",
       "      <th>5</th>\n",
       "      <td>33867</td>\n",
       "      <td>12674</td>\n",
       "      <td>787</td>\n",
       "      <td>AG</td>\n",
       "      <td>6631000283</td>\n",
       "      <td>2019-01-01 20:11:05</td>\n",
       "      <td>2019-01-01 20:11:05</td>\n",
       "      <td>52.506522</td>\n",
       "      <td>4.727323</td>\n",
       "      <td>52.506809</td>\n",
       "      <td>4.732135</td>\n",
       "      <td>2019-01-01 20:11:01</td>\n",
       "      <td>Tuesday</td>\n",
       "    </tr>\n",
       "  </tbody>\n",
       "</table>\n",
       "</div>"
      ],
      "text/plain": [
       "   tripid  userid  bikeid account  bikenumber           start_time  \\\n",
       "1   33838   13452     382      AR  6631000433  2019-01-01 06:46:03   \n",
       "2   33839   13452     812      AR  6631000146  2019-01-01 06:47:39   \n",
       "3   33851   13182     238      AR  6631000443  2019-01-01 14:15:36   \n",
       "4   33852   13182     238      AR  6631000443  2019-01-01 14:33:50   \n",
       "5   33867   12674     787      AG  6631000283  2019-01-01 20:11:05   \n",
       "\n",
       "              end_time  start_lat  start_lng    end_lat   end_lng  \\\n",
       "1  2019-01-01 06:46:03  52.296065   4.787667  52.296200  4.787679   \n",
       "2  2019-01-01 06:47:39  52.295938   4.788336  52.295940  4.788557   \n",
       "3  2019-01-01 14:15:36  52.307337   4.807633  52.307336  4.807630   \n",
       "4  2019-01-01 14:33:50  52.308478   4.809970  52.308537  4.810099   \n",
       "5  2019-01-01 20:11:05  52.506522   4.727323  52.506809  4.732135   \n",
       "\n",
       "                  date  weekday  \n",
       "1  2019-01-01 06:46:00  Tuesday  \n",
       "2  2019-01-01 06:47:35  Tuesday  \n",
       "3  2019-01-01 14:15:32  Tuesday  \n",
       "4  2019-01-01 14:33:46  Tuesday  \n",
       "5  2019-01-01 20:11:01  Tuesday  "
      ]
     },
     "execution_count": 105,
     "metadata": {},
     "output_type": "execute_result"
    }
   ],
   "source": [
    "# read csv file\n",
    "fb_df = pd.read_csv(\"C:\\\\Github\\\\DIP\\\\bikes.csv\", delimiter=',', index_col=0)\n",
    "\n",
    "# convert series to date time values and cretae a new column with weekdays extracted from the datetime values\n",
    "day_of_week = {0:'Monday', 1:'Tuesday', 2:'Wednesday', 3:'Thursday', 4:'Friday', 5:'Saturday', 6:'Sunday'}\n",
    "fb_df['weekday'] = pd.to_datetime(fb_df['start_time']).dt.dayofweek.map(day_of_week)\n",
    "fb_df.head()"
   ]
  },
  {
   "cell_type": "markdown",
   "metadata": {},
   "source": [
    "Zoals te zien is in de onderstaande grafiek wordt er inderdaad meer gebruik gemaakt van de huurfietsen. "
   ]
  },
  {
   "cell_type": "code",
   "execution_count": 106,
   "metadata": {},
   "outputs": [
    {
     "data": {
      "text/plain": [
       "<BarContainer object of 7 artists>"
      ]
     },
     "execution_count": 106,
     "metadata": {},
     "output_type": "execute_result"
    },
    {
     "data": {
      "image/png": "[encoded data removed]",
      "text/plain": [
       "<Figure size 720x432 with 1 Axes>"
      ]
     },
     "metadata": {
      "needs_background": "light"
     },
     "output_type": "display_data"
    }
   ],
   "source": [
    "# count weekdays and plot a bar chart\n",
    "value_counts = fb_df['weekday'].value_counts()\n",
    "plt.figure(figsize=(10,6))\n",
    "plt.ylabel('aantal fietsen gehuurd')\n",
    "plt.xlabel('dagen van de week')\n",
    "plt.bar(value_counts.keys(), value_counts.values)"
   ]
  },
  {
   "cell_type": "markdown",
   "metadata": {},
   "source": [
    "#### Bijzondere dagen\n",
    "\n",
    "Bijzondere dagen kunnen als boolean waarde opgeslagen worden in de dataset. Om de data expansie zo gering mogelijk te houden kunnen bepaalde groepen van bijzondere dagen als gecombineerde waarde bij de dataset gevoegd worden. Dit voorkomt het plaatsen van boolean waardes voor elke bijzondere dag. De groepering kan door bijvoorbeeld een cluster algoritme gemaakt worden waarbij de groepen worden gemaakt op basis van overkeenkomsten in relatie tot de target feature(s)"
   ]
  },
  {
   "cell_type": "markdown",
   "metadata": {},
   "source": [
    "#### Eventuele andere factoren\n",
    "\n",
    "Eventuele factoren om mee te nemen zijn:\n",
    "- concurrenten die de markt opeisen\n",
    "- financiele of medische crisissen\n",
    "- bedrijfs/personeels veranderingen/problemen"
   ]
  },
  {
   "cell_type": "markdown",
   "metadata": {},
   "source": [
    "## Hoe kan voorspeld worden op welke plekken fietstekorten kunnen ontstaan\n",
    "\n",
    "Het is lastig om te voorspellen wanneer er tekorten ontstaan. Je weet immers nooit of iemand ergens een fiets misloopt. Een soort van feedback systeem zou misschien inzicht geven in waar mensen vaak geen fiets kunnen vinden. Ook kan je niet zien hoelang iemand naar een fiets heeft gezocht of hoelang deze persoon ervoor heeft moeten lopen.\n",
    "\n",
    "Wel kan gekeken worden naar plekken waar veel fietsen worden gebruikt. Met andere woorden, in welk gebied wordt het meest een fiets gepakt en waar wordt het meest gefietst, hotspots. Door de kijken naar het fietsgebruik op bepaalde routes en in bepaalde omgevingen kan een schatting gemaakt waar fietsen hotspots liggen.\n",
    "\n",
    "Om deze hotspots te vinden is het nodig om met coordinaten te werken. Als eerst kan gekeken worden naar de hoeveelheid fietsen die weer terug komt op de plek van vertrek. Dit kunnen mogelijke hotspots zijn. Daarnaast kan gekeken worden naar het aantal fietsen per plek. Om te werken met coordinaten moet een afstandsfunctie of grids worden gebruikt. \n",
    "\n",
    "Om te hotspots te vinden kunnen verschillende methodes worden gebruikt. De data kan bijvoorbeeld op coordinates geclustered worden met een algoritme zoals KMeans (waarbij het soms lastig te bepalen is of het resultaat goed is). Ook kunnen grids van coordinates vastgesteld worden om zo gebieden te creeren waarin het aantal fietsen geteld kan worden (waarbij het 'edge' probleem optreedt waardoor informatie uit belangrijke combinaties van grids verloren gaan).\n",
    "\n",
    "Als de hotspots bekend zijn, kan gekeken worden hoeveel fietsen er gepakt zijn in een bepaald tijdspanne in de omgeving van deze hotspots. Als er veel fietsen zijn gepakt in een bepaalde omgeving kan dit een mogelijk komend tekort tot gevolg hebben.\n",
    "Als er een documentatie wordt bijgehouden van het aantal beschikbare fietsen op bepaalde hotspots, kan een bij en af registratie van fietsen in een bepaald gebied worden bijgehouden.\n",
    "\n",
    "Als laatst kan ook nog gekeken worden naar plekken waar weinig fietsen gebruikt worden maar waarbij wel zeer consistent alle of bijna alle fietsen worden gebruikt over een bepaalde periode. Mogelijk kan het toevoegen van een paar fietsen de missers opvullen."
   ]
  },
  {
   "cell_type": "markdown",
   "metadata": {},
   "source": [
    "## Hoe bereken je het minimaal aantal fietsen dat nodig is ?\n",
    "\n",
    "Om erachter te komen wat het minimaal aantal fietsen is dat nodig is, is het handig om te weten wanneer fietsen wel en niet gebruikt worden. Wij hebben begrepen dat alleen de gebruikte fietsen in de dataset staan, dat wil zeggen, fietsen waarbij het slot open en weer dicht gedaan is. Daarmee is het lastig om te bepalen of er nou een fietstekort is of een teveel aan fietsen. Als kan berekend worden wat de tijd is dat fietsen stil liggen en niet gebruikt worden, kan ook gekeken worden hoeveel fietsen uiteindelijk nodig zijn. Daarom hebben we nog wat meer informatie over de dataset nodig.\n",
    "\n",
    "Daarnaast kan er ook naar hotspots gekeken worden. Als er een gemiddeld aantal gebruikte fietsen per dag kan worden vastgesteld op een bepaalde plek, kan gekeken worden hoeveel fietsen er werkelijk nodig zijn. Er kan bijvoorbeeld voor een aantal hotspots een minimaal aantal beschikbare fietsen per seizoen of periode vastgesteld worden."
   ]
  },
  {
   "cell_type": "markdown",
   "metadata": {},
   "source": [
    "## Hoe wordt alles gevisualiseerd?\n",
    "\n",
    "<b>Model</b> <br>\n",
    "Desicion tree regressor kan makkelijk worden gevisualiseerd met scykit learn. Hierbij worden de beslissingen duidelijk getoond. Voor het valideren laten we het verschil zien tussen voorspelde waardes en werkelijke waardes.\n",
    "\n",
    "<b>Data analyses</b>  <br>\n",
    "Door de huur van fietsen te visualiseren door de tijd heen kan er patronen herkend worden. Zo verwachten we een periodieke beweging dat veroorzaakt wordt door seizoenen. \n",
    "Verder gaan we in een plot clusters van longitude en latitude visualiseren om hiermee op blote oog plekken te herkennen waar veel gefietst wordt. Als er duidelijk clusters voorkomen kan er een classificatie model getraind worden waarmee drukke plekken herkend kunnen worden. Dan weten we ook waar er eventueel een tekort aan fietsen is.\n",
    "\n",
    "<b>Deelvragen </b>  <br>\n",
    "Invloeden van het weer zijn al gedeeltelijk gevisualiseerd. Er zijn plots gemaakt waarin de relatie tussen verhuur en weervariabele te herkennen is. Ook is er een correlatiematrix gemaakt.\n",
    "Tekorten voorkomen wordt op dezelfde manier in een plot getoond waar de pieken zitten, en in dezelfde plot laten we zien hoeveel fietsen beschikbaar zijn. \n"
   ]
  }
 ],
 "metadata": {
  "kernelspec": {
   "display_name": "Python 3",
   "language": "python",
   "name": "python3"
  },
  "language_info": {
   "codemirror_mode": {
    "name": "ipython",
    "version": 3
   },
   "file_extension": ".py",
   "mimetype": "text/x-python",
   "name": "python",
   "nbconvert_exporter": "python",
   "pygments_lexer": "ipython3",
   "version": "3.7.1"
  }
 },
 "nbformat": 4,
 "nbformat_minor": 2
}

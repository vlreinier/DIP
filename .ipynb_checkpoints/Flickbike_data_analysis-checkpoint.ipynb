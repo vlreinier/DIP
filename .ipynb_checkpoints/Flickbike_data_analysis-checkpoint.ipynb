{
 "cells": [
  {
   "cell_type": "markdown",
   "metadata": {},
   "source": [
    "# Flickbike plan van aanpak en data analyse"
   ]
  },
  {
   "cell_type": "code",
   "execution_count": null,
   "metadata": {},
   "outputs": [],
   "source": [
    "import matplotlib.pyplot as plt\n",
    "import numpy as np\n",
    "import seaborn as sns\n",
    "import pandas as pd\n",
    "\n",
    "import sys\n",
    "sys.path.append(\"../\")\n",
    "import KNMIRequest as KR\n",
    "import HolidayRequest as HR\n",
    "\n",
    "import warnings\n",
    "warnings.filterwarnings('ignore')"
   ]
  },
  {
   "cell_type": "markdown",
   "metadata": {},
   "source": [
    "## Importing the data\n",
    "Allereerst wordt de data ingeladen.  \n",
    "Fiets data:"
   ]
  },
  {
   "cell_type": "code",
   "execution_count": null,
   "metadata": {},
   "outputs": [],
   "source": [
    "df = pd.read_csv('../input/bikes.csv', index_col=0, parse_dates=True)\n",
    "df.head()"
   ]
  },
  {
   "cell_type": "markdown",
   "metadata": {},
   "source": [
    "Weerdata:"
   ]
  },
  {
   "cell_type": "code",
   "execution_count": null,
   "metadata": {},
   "outputs": [],
   "source": [
    "df_KNMI = KR.get_KNMI_HH(start=2019010100, end=2019120923)\n",
    "df_KNMI.head()"
   ]
  },
  {
   "cell_type": "code",
   "execution_count": null,
   "metadata": {
    "scrolled": true
   },
   "outputs": [],
   "source": [
    "df_KNMI[\"Hour\"].value_counts()"
   ]
  },
  {
   "cell_type": "code",
   "execution_count": null,
   "metadata": {
    "scrolled": true
   },
   "outputs": [],
   "source": [
    "KR.data_dictionary"
   ]
  },
  {
   "cell_type": "markdown",
   "metadata": {},
   "source": [
    "Vakantiedata:"
   ]
  },
  {
   "cell_type": "code",
   "execution_count": null,
   "metadata": {},
   "outputs": [],
   "source": [
    "ser_holidays = HR.get_holiday_range()\n",
    "ser_holidays.head()"
   ]
  },
  {
   "cell_type": "markdown",
   "metadata": {},
   "source": [
    "Data over de feestdagen:\n",
    "\n",
    "**source:**\n",
    "- https://kalender-nederland.nl/feestdagen-2019/"
   ]
  },
  {
   "cell_type": "code",
   "execution_count": null,
   "metadata": {},
   "outputs": [],
   "source": [
    "df_nat_hol = pd.read_csv('../input/Nationale Feestdagen.csv')"
   ]
  },
  {
   "cell_type": "markdown",
   "metadata": {},
   "source": [
    "Het omzetten van de datum naar een `pd.datetime`."
   ]
  },
  {
   "cell_type": "code",
   "execution_count": null,
   "metadata": {},
   "outputs": [],
   "source": [
    "df_nat_hol['date'] = pd.to_datetime(df_nat_hol['Datum'])\n",
    "df_nat_hol.head()"
   ]
  },
  {
   "cell_type": "markdown",
   "metadata": {},
   "source": [
    "## Analysing the data"
   ]
  },
  {
   "cell_type": "code",
   "execution_count": null,
   "metadata": {},
   "outputs": [],
   "source": [
    "df.dtypes"
   ]
  },
  {
   "cell_type": "markdown",
   "metadata": {},
   "source": [
    "Omzetten naar correcte datatypes"
   ]
  },
  {
   "cell_type": "code",
   "execution_count": null,
   "metadata": {},
   "outputs": [],
   "source": [
    "df['start_time'] = pd.to_datetime(df['start_time'])\n",
    "df['end_time'] = pd.to_datetime(df['end_time'])\n",
    "df['date'] = pd.to_datetime(df['date'])\n",
    "\n",
    "# extracting extra features\n",
    "df['weekday'] = df['date'].dt.day_name()\n",
    "df['hour'] = df['date'].dt.hour\n",
    "\n",
    "df.dtypes"
   ]
  },
  {
   "cell_type": "markdown",
   "metadata": {},
   "source": [
    "Checken of er geen missende data in de dataframe zit."
   ]
  },
  {
   "cell_type": "code",
   "execution_count": null,
   "metadata": {},
   "outputs": [],
   "source": [
    "df.isna().sum()"
   ]
  },
  {
   "cell_type": "markdown",
   "metadata": {},
   "source": [
    "## Verdiepingsopdracht\n",
    "\n",
    "### Vraag 1\n",
    "**Produceer een plot van verhuur-per-dag voor deze dataset.**  \n",
    "  \n",
    "Om dit voor elkaar te krijgen worden eerst alle dagen bij elkaar gegroupeerd zodat de hoeveelheid verhuren per dag opgeteld zullen worden.  \n",
    "Hierna wordt deze dataset geplot."
   ]
  },
  {
   "cell_type": "code",
   "execution_count": null,
   "metadata": {},
   "outputs": [],
   "source": [
    "df_dates_count = df.groupby(df['date'].dt.date)['tripid'].count()\n",
    "\n",
    "x = df_dates_count.index\n",
    "y = df_dates_count.values\n",
    "\n",
    "# sns.set_style(\"darkgrid\")\n",
    "plt.plot(x, y)\n",
    "\n",
    "plt.title(\"\")\n",
    "plt.xlabel(\"\")\n",
    "plt.ylabel(\"\")\n",
    "\n",
    "plt.figure(figsize=(18,18))\n",
    "plt.show()"
   ]
  },
  {
   "cell_type": "markdown",
   "metadata": {},
   "source": []
  },
  {
   "cell_type": "code",
   "execution_count": null,
   "metadata": {},
   "outputs": [],
   "source": [
    "df_dates_count.index = pd.to_datetime(df_dates_count.index)\n",
    "df_three_months = df_dates_count.loc[\"2019-09-01\":\"2019-12-31\"]\n",
    "\n",
    "# sns.set_style(\"darkgrid\")\n",
    "plt.plot(df_three_months.index, df_three_months.values)\n",
    "\n",
    "plt.title(\"\")\n",
    "plt.xlabel(\"\")\n",
    "plt.ylabel(\"\")\n",
    "\n",
    "plt.xticks(rotation=45)\n",
    "plt.figure(figsize=(18,18))\n",
    "plt.show()"
   ]
  },
  {
   "cell_type": "markdown",
   "metadata": {},
   "source": []
  },
  {
   "cell_type": "markdown",
   "metadata": {},
   "source": [
    "### Vraag 2\n",
    "**Wat is de periodiciteit van deze dataset?**  \n",
    "  \n",
    "Om de vraag wat betreft periodiciteit te beantwoorden zullen we moeten gaan kijken of de data zich volgens een bepaald patroon gedraagt. Om deze vraag te beantwoorden bouwen we eerst een autocorrelatie plot.\n"
   ]
  },
  {
   "cell_type": "code",
   "execution_count": null,
   "metadata": {},
   "outputs": [],
   "source": [
    "from statsmodels.graphics.tsaplots import plot_acf\n",
    "\n",
    "plot_acf(df_dates_count.values, lags=30)\n",
    "plt.show()"
   ]
  },
  {
   "cell_type": "markdown",
   "metadata": {},
   "source": [
    "# Opleveropdracht\n",
    "\n",
    "\n",
    "### 1. Hoe voorspel je het aantal verhuurde fietsen op de dagen tussen 10 december 2019 en 31 januari 2020?\n",
    "\n",
    "Voordat een model gebouwd wordt, moet er data verzameld worden. Op dit moment is de data over alle verhuurde fietsen in de regio Schiphol-Oost in de tijdsperiode vanaf 1 januari 2019 tot 9 december 2019 beschikbaar gesteld. \n",
    "\n",
    "In de data staan gegevens van id’s van gebruikers, fietsen en trips. Verder bevat de data ook informatie over datum en tijd van gebruik, en de coördinaten van de startpunten en eindpunten van iedere trip.  \n",
    "  \n",
    "Allereerst zal de data verrijkt worden met weerdata, hierdoor zal het model gevoeliger worden voor weersituaties zoals sneeuw, mist en regen. \n",
    "\n",
    "Wat betreft model kwamen we initiëel  uit op een decision tree regressie model. De keuze hiervoor is voornamelijk gemaakt op het feit dat decision trees redelijk inzichtelijk zijn (de decision tree kan makkelijk gevisualiseerd worden). Ook zal dit model zelf keuzes maken over welke features belangrijker zijn dan andere.\n",
    "Uiteindelijk zal uit dit model een voorspelling komen die aangeeft hoeveel fietsen verhuurd worden op een bepaalde dag met bepaalde omstandigheden. Dit model zal echter wel op continue waardes getraind worden waarbij de uiteindelijke voorspelling ook een continue waarde zal zijn, om deze reden hebben we dan ook gekozen voor een decision tree regressie model.\n",
    "\n",
    "Tijdens het onderzoeken van de data en eventuele methodes om over deze data voorspellingen te maken kwamen we ook nog op andere modellen uit. Eén daarvan is Long Short-Term Memory (LSTM). LSTM’s zijn zeer goed in het onthouden van lange termijn ‘herinneringen’. Verder werken LSTM’s goed met voorspellingen met tijdreeksen (timeseries) en leren ze welke data belangrijk is en welke niet.\n",
    "\n",
    "Als laatste model vonden we Holt-Winters’ seasonal method. Deze methode wordt gebruikt om periodiciteit te gebruiken om voorspellingen op te maken. De data moet hiervoor ‘periodisch’ zijn. Aangezien bij het gebruik van fietsen ook andere factoren belangrijk kunnen zijn zou dit model met een ander model gecombineerd kunnen worden, met als eindresultaat een soort “hybride” model.\n",
    "  \n",
    "**Sources:**\n",
    "- https://grisha.org/blog/2016/01/29/triple-exponential-smoothing-forecasting/\n",
    "- https://eng.uber.com/forecasting-introduction/\n"
   ]
  },
  {
   "cell_type": "code",
   "execution_count": null,
   "metadata": {},
   "outputs": [],
   "source": [
    "df.head()"
   ]
  },
  {
   "cell_type": "markdown",
   "metadata": {},
   "source": [
    "### 2. Welke invloeden verwacht je van, en op welke manier kun je je model gevoelig maken voor factoren?\n",
    "Om het model gevoeliger te maken voor factoren moet eerst besloten worden welke factoren invloed kunnen hebben over de uiteindelijke uitkomst van de voorspelling. Een aantal mogelijke factoren zijn al gegeven:\n",
    "1. Het weer.\n",
    "2. De dag van de week.\n",
    "3. Bijzondere dagen in het jaar, zoals feestdagen, schoolvakanties, etc.\n",
    "4. Eventueel andere factoren.\n",
    "\n",
    "Per bovenstaande factor zullen we nu de mogelijke invloed beschrijven:\n",
    "#### Het weer\n",
    "\n",
    "* Regen\t         \n",
    "    * Iemand die gewoonlijk loopt fietst nu\n",
    "    * Iemand die gewoonlijk fietst neemt shuttle/taxi\n",
    "* Zonneschijn \t \n",
    "    * Iemand die gewoonlijk fietst, kan gaan lopen\n",
    "    * Meer mensen fietsen\n",
    "* Onweer\n",
    "    * Mensen lopen eerder, zodat ze niet te groot zijn (minder kans op inslag)\n",
    "* Mistigheid\n",
    "    * Mensen fietsen wellicht minder bij weinig zicht "
   ]
  },
  {
   "cell_type": "code",
   "execution_count": null,
   "metadata": {},
   "outputs": [],
   "source": [
    "df_KNMI.head()"
   ]
  },
  {
   "cell_type": "code",
   "execution_count": null,
   "metadata": {
    "scrolled": true
   },
   "outputs": [],
   "source": [
    "df_KNMI.describe()"
   ]
  },
  {
   "cell_type": "markdown",
   "metadata": {},
   "source": [
    "##### Gevoeligheid model\n",
    "Het model valt gevoelig te maken voor weer door een aantal weersverschijnselen direct als variabelen mee te nemen. De volgende data komt direct van het KNMI, en gaat over de gegeven tijdspanne. Zie `KR.data_dictionary` voor uitleg van ieder mogelijk variabele gegeven door KNMI. "
   ]
  },
  {
   "cell_type": "markdown",
   "metadata": {},
   "source": [
    "#### De dag van de week\n",
    "* Vrijdag \t\n",
    "  * Vaak gebruikt als thuiswerkdagen \t\t\n",
    "* Zaterdag/zondag \t\n",
    "   * Weekend, geen werk, zwaar verminderd gebruik. "
   ]
  },
  {
   "cell_type": "code",
   "execution_count": null,
   "metadata": {},
   "outputs": [],
   "source": [
    "df_weekday = df_dates_count.copy(deep=True)\n",
    "df_weekday.index = df_weekday.index.day_name()\n",
    "\n",
    "df_weekday.groupby(df_weekday.index).mean()"
   ]
  },
  {
   "cell_type": "code",
   "execution_count": null,
   "metadata": {},
   "outputs": [],
   "source": [
    "df_weekday"
   ]
  },
  {
   "cell_type": "code",
   "execution_count": null,
   "metadata": {},
   "outputs": [],
   "source": [
    "sns.boxplot(x=df_weekday.index, y=df_weekday.values)\n",
    "plt.xlabel('Day')\n",
    "plt.ylabel('Amount of bicycles rented')\n",
    "plt.title('')\n",
    "plt.show()"
   ]
  },
  {
   "cell_type": "markdown",
   "metadata": {},
   "source": [
    "##### Gevoeligheid model\n",
    "Uit de boxplots hierboven blijkt dat vrijdag, zaterdag en zondag inderdaad verminderd gebruik van Flickbikes ziet. Of dit te wijten valt aan de eerder gegeven redeneringen, is onbekend. \n",
    "\n",
    "Het model valt gevoelig te maken voor deze variabelen door twee boolean variabelen aan te maken; is een dag een vrijdag, en valt een dag in het weekend. "
   ]
  },
  {
   "cell_type": "code",
   "execution_count": null,
   "metadata": {},
   "outputs": [],
   "source": [
    "df['Friday'] = (df['weekday'] == 'Friday')\n",
    "df['Weekend'] = (df['weekday'] == 'Saturday') | (df['weekday'] == 'Sunday')\n",
    "df[['Friday', 'Weekend']].describe()"
   ]
  },
  {
   "cell_type": "markdown",
   "metadata": {},
   "source": [
    "#### Bijzondere dagen in het jaar\n",
    "* Feestdagen \t\t\n",
    "  * ‘verplicht’ vrij, geen werk\n",
    "* Schoolvakanties \n",
    "    * Minder fietsen benodigd, x percentage werkende mensen met vakantie.  \n",
    "\n",
    "Allereerst zal gekeken worden in hoeverre een school vakantie invloed zal hebben op het verhuur van fietsen."
   ]
  },
  {
   "cell_type": "code",
   "execution_count": null,
   "metadata": {},
   "outputs": [],
   "source": [
    "df['School holiday'] = df['start_time'].dt.date.isin(ser_holidays)\n",
    "df[['School holiday']].describe()"
   ]
  },
  {
   "cell_type": "code",
   "execution_count": null,
   "metadata": {},
   "outputs": [],
   "source": [
    "df_days = df.groupby([df[\"School holiday\"], df[\"weekday\"], df[\"date\"].dt.date])[[\"tripid\"]].count().reset_index()\n",
    "df_holidays = df_days.groupby([df_days[\"weekday\"], df_days[\"School holiday\"]])[[\"tripid\"]].mean()\n",
    "df_holidays"
   ]
  },
  {
   "cell_type": "code",
   "execution_count": null,
   "metadata": {},
   "outputs": [],
   "source": [
    "sns.set_style(\"darkgrid\")\n",
    "df_holidays.plot(kind=\"bar\", figsize=(20, 6))\n",
    "\n",
    "plt.title('')\n",
    "plt.ylabel('')\n",
    "\n",
    "plt.show()"
   ]
  },
  {
   "cell_type": "markdown",
   "metadata": {},
   "source": [
    "Hierna zal gekeken worden in hoeverre nationale feestdagen invloed hebben op het verhuur van fietsen."
   ]
  },
  {
   "cell_type": "code",
   "execution_count": null,
   "metadata": {},
   "outputs": [],
   "source": [
    "df['National holiday'] = df['start_time'].dt.date.isin(df_nat_hol['date'].dt.date)\n",
    "df[['National holiday']].describe()"
   ]
  },
  {
   "cell_type": "code",
   "execution_count": null,
   "metadata": {
    "scrolled": true
   },
   "outputs": [],
   "source": [
    "df_nat_hol_count = df[df['National holiday'] == True].groupby(df['start_time'].dt.date)[['tripid']].count()\n",
    "df_nat_hol_count"
   ]
  },
  {
   "cell_type": "code",
   "execution_count": null,
   "metadata": {},
   "outputs": [],
   "source": [
    "plt.figure(figsize=(20, 8))\n",
    "sns.set_style(\"darkgrid\")\n",
    "\n",
    "total_mean = df.groupby(df['start_time'].dt.date)['tripid'].count().mean()\n",
    "mean_list = np.full(len(df_nat_hol_count), total_mean)\n",
    "\n",
    "x_pos = np.arange(len(df_nat_hol_count))\n",
    "\n",
    "plt.bar(x_pos-0.1, df_nat_hol_count['tripid'], width=0.2, color='b', align='center', label='National Holiday date')\n",
    "plt.bar(x_pos+0.1, mean_list, width=0.2, color='r', align='center', label='Mean amount of bicycles rented')\n",
    "\n",
    "plt.xticks(x_pos, df_nat_hol_count.index)\n",
    "\n",
    "plt.title('Overview of bicycles rented during holidays against mean amount of bicycles rented overall')\n",
    "plt.ylabel('Amount of bicycles rented')\n",
    "\n",
    "plt.legend()\n",
    "plt.show()"
   ]
  },
  {
   "cell_type": "markdown",
   "metadata": {},
   "source": [
    "In de grafiek hierboven valt te zien dat er op nationale feestdagen veel minder fietsen verhuurd worden dan normaal. Een uitschieter is 19 april. Dit is goede vrijdag en is officieel niet een feestdag waarop mensen vrij moeten krijgen.  \n",
    "  \n",
    "**source**:\n",
    "- https://www.rijksoverheid.nl/onderwerpen/arbeidsovereenkomst-en-cao/vraag-en-antwoord/goede-vrijdag-vrije-dag"
   ]
  },
  {
   "cell_type": "markdown",
   "metadata": {},
   "source": [
    "##### Gevoeligheid model\n",
    "Hier moet eerst data over verzameld worden, deze data is te vinden op de websites van de (rijks)overheid. \n",
    "\n",
    "Ook valt het model voor deze variabelen gevoelig te maken door middel van het aanmaken van boolean variabelen; is een dag een feestdag, en valt een dag in een schoolvakantie."
   ]
  },
  {
   "cell_type": "markdown",
   "metadata": {},
   "source": [
    "### Eventuele andere factoren\n",
    "Bij eventuele andere factoren kan gedacht worden aan factoren die, tot nu toe, nog niet benoemd zijn maar misschien wel een invloed kunnen hebben op de uitslag van de voorspelling. Bij dit soort factoren kan gedacht worden aan:\n",
    "\n",
    "#### Uur van de dag\n",
    "* Woensdag\t\n",
    "  * Kinderen eerder uit, eerder weg\n",
    "* Vrijdag \t\t\n",
    "  * Eerder vrij of vrijmibo, eerder/later weg\n",
    "* Spitstijd\t\n",
    "  * Meer fietsen benodigd in de spits dan erbuiten.\n",
    "* Lunchpauze \n",
    "  * Mensen pakken de fiets om elders hun lunchpauze te houden.\n",
    "\n",
    "Om erachter te komen in hoeverre deze factoren een rol spelen zullen plots gemaakt worden die ofwel kunnen helpen om in het bewijs dat deze factoren een rol zullen spelen in de uiteindelijke voorspelling of kunnen helpen in het bewijs dat deze factoren geen rol zullen spelen in de uiteindelijke voorspelling.  \n",
    "\n",
    "Allereerst worden voor alle dinsdagen, woensdagen en vrijdagen per uur de gemiddelde hoeveelheid verhuurde fietsen geplot. De dinsdag is er extra bij gekozen zodat het als base case kan dienen om de aannames voor woensdag en vrijdag te testen."
   ]
  },
  {
   "cell_type": "code",
   "execution_count": null,
   "metadata": {},
   "outputs": [],
   "source": [
    "df_tuesday = df[df['weekday'] == 'Tuesday'].groupby([df['date'].dt.date, df['start_time'].dt.hour])['tripid'].count().to_frame().reset_index()\n",
    "df_wednesday = df[df['weekday'] == 'Wednesday'].groupby([df['date'].dt.date, df['start_time'].dt.hour])['tripid'].count().to_frame().reset_index()\n",
    "df_friday = df[df['weekday'] == 'Friday'].groupby([df['date'].dt.date, df['start_time'].dt.hour])['tripid'].count().to_frame().reset_index()"
   ]
  },
  {
   "cell_type": "code",
   "execution_count": null,
   "metadata": {},
   "outputs": [],
   "source": [
    "plt.figure(figsize=(20, 6))\n",
    "sns.set_style(\"darkgrid\")\n",
    "\n",
    "y_pos = np.arange(24)\n",
    "\n",
    "\n",
    "ax1 = plt.subplot(131)\n",
    "ax1.bar(y_pos, df_tuesday.groupby(df_tuesday['start_time']).mean()['tripid'], align='center', alpha=0.5)\n",
    "\n",
    "ax1.set_xticks(y_pos)\n",
    "ax1.set_ylabel('Number of bicycles rented')\n",
    "ax1.set_title('Mean amount of bicycles rented per hour on Tuesday')\n",
    "\n",
    "\n",
    "ax2 = plt.subplot(132, sharey=ax1)\n",
    "ax2.bar(y_pos, df_wednesday.groupby(df_wednesday['start_time']).mean()['tripid'], align='center', alpha=0.5)\n",
    "\n",
    "ax2.set_xticks(y_pos)\n",
    "ax2.set_ylabel('Number of bicycles rented')\n",
    "ax2.set_title('Mean amount of bicycles rented per hour on Wednesday')\n",
    "\n",
    "\n",
    "ax3 = plt.subplot(133, sharey=ax1)\n",
    "ax3.bar(y_pos, df_friday.groupby(df_friday['start_time']).mean()['tripid'], align='center', alpha=0.5)\n",
    "\n",
    "ax3.set_xticks(y_pos)\n",
    "ax3.set_ylabel('Number of bicycles rented')\n",
    "ax3.set_title('Mean amount of bicycles rented per hour on Friday')\n",
    "\n",
    "plt.show()"
   ]
  },
  {
   "cell_type": "markdown",
   "metadata": {},
   "source": [
    "Aangezien een groter plaatje ook handig is worden voor woensdag en vrijdag nu ook de boxplotten geplot. Dit geeft een overzicht van het bereik per uur weer."
   ]
  },
  {
   "cell_type": "code",
   "execution_count": null,
   "metadata": {},
   "outputs": [],
   "source": [
    "sns.boxplot(x=df_tuesday['start_time'], y=df_tuesday['tripid'])\n",
    "plt.xlabel('day hours')\n",
    "plt.ylabel('Number of bicycles rented')\n",
    "plt.title('Amount of bicycles rented per hour on Tuesday')\n",
    "plt.show()"
   ]
  },
  {
   "cell_type": "code",
   "execution_count": null,
   "metadata": {},
   "outputs": [],
   "source": [
    "sns.boxplot(x=df_wednesday['start_time'], y=df_wednesday['tripid'])\n",
    "plt.xlabel('day hours')\n",
    "plt.ylabel('Number of bicycles rented')\n",
    "plt.title('Amount of bicycles rented per hour on Wednesday')\n",
    "plt.show()"
   ]
  },
  {
   "cell_type": "code",
   "execution_count": null,
   "metadata": {},
   "outputs": [],
   "source": [
    "sns.boxplot(x=df_friday['start_time'], y=df_friday['tripid'])\n",
    "plt.xlabel('day hours')\n",
    "plt.ylabel('Number of bicycles rented')\n",
    "plt.title('Amount of bicycles rented per hour on Friday')\n",
    "plt.show()"
   ]
  },
  {
   "cell_type": "markdown",
   "metadata": {},
   "source": [
    "##### Gevoeligheid model\n",
    "\n",
    "Zoals in de grafieken te zien is zijn er tijdens de spitstijd en lunchtijd (kleine) pieken te zien. Echter vallen er geen grote verschillen te zien tussen dinsdagen en de andere dagen wat betreft mensen die eerder weg gaan (dit kan alsnog het geval zijn, maar deze mensen hebben dan geen fiets gehuurd).  \n",
    "Wat hier opnieuw opvalt is het feit dat er op vrijdag gemiddeld minder mensen een huurfiets lijken te pakken.  \n",
    "  \n",
    "Om het model gevoelig te maken voor deze groei kunnen de uren als variabelen meegegeven worden. Het model zal dan als het goed is zelf erachter komen dat sommige uren als spits of lunchijd gelden en andere uren niet. Echter zijn deze factoren voornamelijk van toepassing wanneer voorspeld moet worden waar er tekorten of overschotten zijn. Wanneer de 'groei' berekend moet worden, dus over een gehele dag, zullen deze factoren overbodig zijn."
   ]
  },
  {
   "cell_type": "markdown",
   "metadata": {},
   "source": [
    "#### Dagen sinds eerst meetmoment\n",
    "Het aantal Flickbike fietsen dat gehuurd wordt neemt met de dag toe, dit zal ook een effect hebben op het aantal gehuurde fietsen op de te voorspellen dagen. \n",
    "\n",
    "##### Gevoeligheid model\n",
    "Om het model gevoelig te maken voor deze groei, kan er een “dagen sinds meetmoment” variabel meegenomen worden. Het eerste meetpunt in de data zal dan dag `0`, het tweede meetpunt in de data zal dan dag `1` zijn, etc.\n",
    "\n",
    "<!-- LSTM is al gevoellig hiervoor, deze is dan niet nodig. -->"
   ]
  },
  {
   "cell_type": "code",
   "execution_count": null,
   "metadata": {},
   "outputs": [],
   "source": [
    "df['Days from epoch'] = (df['start_time'] - df['start_time'].min()).dt.days\n",
    "df[['Days from epoch']].sample(10)"
   ]
  },
  {
   "cell_type": "code",
   "execution_count": null,
   "metadata": {},
   "outputs": [],
   "source": [
    "df_days_from = df.groupby([df[\"Days from epoch\"], df[\"date\"].dt.date])[[\"tripid\"]].count().reset_index()\n",
    "df_days_from[[\"Days from epoch\", \"tripid\"]].corr()"
   ]
  },
  {
   "cell_type": "markdown",
   "metadata": {},
   "source": [
    "### 3. Hoe kan, op basis van data, worden voorspeld waar er tekorten van fietsen dreigen te ontstaan en hoe de fietsen het beste zo kunnen worden verplaatst dat ze zowel over het hele terrein van Schiphol-Oost beschikbaar zijn en tegelijkertijd vooral beschikbaar zijn op plaatsen waar het regelmatig druk is?\n",
    "\n",
    "De bovenstaande vraag bestaat eigenlijk uit twee vragen die, hoewel ze aan elkaar gelinkt zijn, apart behandeld kunnen worden. De bovenstaande vraag wordt dus opgedeeld in twee deelvragen, en zullen apart beantwoord worden.\n",
    "\n",
    "#### 3.1 Hoe kan, op basis van data, worden voorspeld waar er tekorten van fietsen dreigen te ontstaan?\n",
    "\n",
    "Om, op basis van data, te voorspellen waar tekorten van fietsen dreigen te ontstaan zullen verschillende stappen genomen moeten worden.\n",
    "\n",
    "Allereerst zal een clustering toegepast worden (e.g. K-means) om de locaties te bepalen waar veel fietsen gehuurd worden. Hiermee worden de locaties gedefinieerd waar mogelijke tekorten zouden kunnen ontstaan. \n",
    "\n",
    "Met behulp van deze gevonden ‘hotspots’ zou per uur voorspeld kunnen worden wat de behoefte van fietsen op een bepaalde plek is. In deze voorspelling kunnen extra factoren meegenomen worden zoals: het weer, uur op de dag, de dag zelf en of het een feestdag is.\n",
    "\n",
    "Hiervoor zal waarschijnlijk hetzelfde model gebruikt worden als degene die we bij vraag 1 gebruiken. Het enige verschil is dat dit model nu specifiek getraind zal worden op uren ivm dagen.\n",
    " \n",
    "\n",
    "#### 3.2 Hoe kunnen de fietsen het beste zo worden verplaatst dat ze zowel over het hele terrein van Schiphol-Oost beschikbaar zijn en tegelijkertijd vooral beschikbaar zijn op plaatsen waar het regelmatig druk is?\n",
    "\n",
    "<!-- https://www.datanovia.com/en/lessons/determining-the-optimal-number-of-clusters-3-must-know-methods/ -->\n",
    "\n",
    "Met dezelfde methode zou ook bepaald kunnen worden waar veel fietsen hun route beëindigen. Door middel van clustering kan dus ook worden gedefinieerd waar mogelijke overschotten kunnen ontstaan. Deze fietsen zouden dan verplaatst kunnen worden naar ‘drukke’ plaatsen.  \n",
    "  \n",
    "\n",
    "\n",
    "### 4. Hoe kun je berekenen met hoeveel fietsen zou FlickBike minimaal kunnen werken, zodanig dat te verwachten pieken op te vangen zijn?\n",
    "\n",
    "Ervan uitgaand dat dit over de pieken over de gehele periode gaat, kan het model uit vraag 3 gebruikt worden om per uur het verhuurde aantal fietsen te voorspellen. De grootste piek hiervan kan vervolgens berekend worden."
   ]
  },
  {
   "cell_type": "markdown",
   "metadata": {},
   "source": [
    "### 5. Hoe ga je de antwoorden op vragen (1)-(4) visualiseren?\n",
    "\n",
    "Om deze vraag te beantwoorden zal per bovenstaande vraag een antwoord gegeven worden.\n",
    "\n",
    "#### 1. Hoe bereken je  de groei van FlickBike? In het bijzonder: hoe voorspel je het aantal verhuurde fietsen op de dagen tussen 10 december 2019 en 31 januari 2020?\n",
    "\n",
    "Om de hoeveelheid verhuurde fietsen per dag te berekenen zullen we modellen trainen die uiteindelijk voorspellingen kunnen geven. Om deze voorspellingen te testen is de dataset opgesplitst in een training en test set. Met de training set zullen we de modellen trainen om daarna met de testset de voorspellingen te testen. Hier komt uiteindelijk een RMSE uit. Om deze resultaten te visualiseren zullen we de échte waardes tegenover de voorspelde waardes plotten in een grafiek.\n",
    "\n",
    "#### 2.Welke invloeden verwacht je van, en op welke manier kun je je model gevoelig maken voor factoren?\n",
    "\n",
    "Om destijds deze vraag te beantwoorden zijn er over verschillende features die mogelijk invloed kunnen hebben op het model nagedacht. Ook is er beschreven hoe het model gevoelig gemaakt kan worden voor deze features.\n",
    "\n",
    "Wat betreft visualisaties hebben we onder iedere feature en de daarbij behorende onderbouwing  voor zover mogelijk overzichten, grafieken en plots gemaakt die ofwel de invloed van de feature rechtvaardigt ofwel gebruikt kan worden om de invloed van de feature uit te sluiten.\n",
    "\n",
    "\n",
    "#### 3. Hoe kan, op basis van data, worden voorspeld waar er tekorten van fietsen dreigen te ontstaan en hoe de fietsen het beste zo kunnen worden verplaatst dat ze zowel over het hele terrein van Schiphol-Oost beschikbaar zijn en tegelijkertijd vooral beschikbaar zijn op plaatsen waar het regelmatig druk is?\n",
    "\n",
    "Zoals ook al in de beschrijving van de methode staat gaan we allereerst op zoek naar bepaalde hotspots waar ofwel veel fietsen verhuurd worden ofwel veel fietsen gedropt worden. Om dit proces te visualiseren kunnen we een heatmap bouwen zodat al deze punten, als het goed is, naar voren komen om hierna de voorspelde punten eroverheen te plotten.\n",
    "\n",
    "Om de uiteindelijke voorspellingen te visualiseren kunnen we opnieuw de voorspelde waardes tegenover de echte waardes plotten om zo het verschil tussen de twee waarden weer te geven.\n",
    "\n",
    "\n",
    "#### 4. Hoe kun je berekenen met hoeveel fietsen zou FlickBike minimaal kunnen werken, zodanig dat te verwachten pieken op te vangen zijn?\n",
    "\n",
    "Wanneer alle voorspellingen gedaan en geplot zijn kan er door de hoogste pieken eruit te halen gekeken worden met hoeveel fietsen FlickBike minimaal zou moeten werken om alle verwachten pieken op te kunnen vangen. Wat betreft visualisaties kunnen hierbij alle voorspellingen geplot worden zodat de pieken visueel worden gemaakt.\n"
   ]
  }
 ],
 "metadata": {
  "kernelspec": {
   "display_name": "Python 3",
   "language": "python",
   "name": "python3"
  },
  "language_info": {
   "codemirror_mode": {
    "name": "ipython",
    "version": 3
   },
   "file_extension": ".py",
   "mimetype": "text/x-python",
   "name": "python",
   "nbconvert_exporter": "python",
   "pygments_lexer": "ipython3",
   "version": "3.7.1"
  }
 },
 "nbformat": 4,
 "nbformat_minor": 4
}

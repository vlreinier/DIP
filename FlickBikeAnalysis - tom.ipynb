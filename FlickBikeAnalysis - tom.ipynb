{
 "cells": [
  {
   "cell_type": "code",
   "execution_count": 3,
   "metadata": {},
   "outputs": [],
   "source": [
    "import pandas as pd\n",
    "import datetime\n",
    "import matplotlib.pyplot as plt"
   ]
  },
  {
   "cell_type": "code",
   "execution_count": 4,
   "metadata": {},
   "outputs": [],
   "source": [
    "file_location = \"C:\\\\Users\\\\tom_s\\\\Desktop\\\\DIP-master\\\\bikes.csv\""
   ]
  },
  {
   "cell_type": "markdown",
   "metadata": {},
   "source": [
    "## Hoe voorspel je de groei van FlickBike ?\n",
    "#### In het bijzonder: hoe voorspel je het aantal verhuurde fietsen op de dagen tussen 10 december 2019 en 31 januari 2020?\n",
    "\n",
    "De groei van FlickBike is van veel factoren afhankelijk, zowel externe als interne factoren. Veel factoren zullen en/of kunnen niet meegenomen worden in het model omdat deze onberekenbaar, onbereikbaar of niet noemenswaardig zijn. Alle andere factoren die wel beschikbaar zijn moeten op correlatie onderzocht worden. Als bepaalde eigenschappen veel correlatie tonen met de target eigenschap, kunnen deze belangrijk zijn voor het model. \n",
    "\n",
    "\n",
    "Naast het correlatie onderzoek hebben we al wat ideeën opgedaan welke factoren we kunnen meenemen in ons model:\n",
    "    - Dag van de week\n",
    "    - seizoenen (vakantie seizoen moeten worden herkend door het model)\n",
    "    - Neerslag/temperatuur/zonnestraling\n",
    "    - Feestdagen (boolean)\n",
    "    - Dagdeel (bijvoorbeeld of er vroeg in de ochtend een fiets is gehuurd)\n",
    "    - Spitsuren per dag en per dagsdeel (in spitsuren pakken werknemers waarschijnlijk eerder de fiets dan de auto)\n",
    "        - De klassieke spitsuren meegeven als variabelen, of ...\n",
    "        - Clusters maken per dagdeel of per uur, hiermee schatten hoe druk het is, en dan drukte meegeven als variabele.\n",
    "    - drukte op straat of op het werk, per dag en per dagsdeel\n",
    "        - zelfde werkwijze als spitsuren\n",
    "        - (Drukte op straat zal geen invloed hebben op het gedrag van werknemers. Echter is er wel een verwachte correlatie: als het druk is in de stad is de kans ook groter dat werknemers de fiets pakken. Dit komt door variabelen die wij niet hard kunnen maken, maar die zeker aanwezig zijn. (Denk bijvoorbeeld aan corona virus, weinig mensen gaan de deur uit en weinig mensen pakken de fiets). )\n",
    "\n",
    "Voor een aantal factoren moet er meer data opgezocht worden en misschien zelfs onderzoek worden gedaan (bijvoorbeeld naar de correlatie tussen drukte/spits rondom schiphol). Een aantal bronnen zijn hiervoor opgezocht met API's die zowel historische als live data bevatten. \n",
    "\n",
    "drukte op de weg - https://www.ndw.nu/pagina/nl/103/datalevering/120/open_data/<br>\n",
    "drukte mensen op straat - https://www.cbs.nl/nl-nl/onze-diensten/innovatie/project/bewegingen-meten-met-anonieme-telefoondata (hier wordt data verzameld van telefoons die aan staan om drukte metingen te maken)\n",
    "\n",
    "\n",
    "Dit probleem kan lastig opgelost worden met classificatie. Er zal dan hoogstwaarschijnlijk overfitting plaatsvinden ivm het hoge aantal target features. Linear of Non-linear Regression gaat ervan uit dat er een continue directe correlatie aanwezig is tussen input en output. Echter is dit niet het geval met categoriale waarden die zeker meegenomen worden. \n",
    "\n",
    "Een van de modellen die gebruikt kan worden voor dit probleem is een decision tree regressor. Dit heeft te maken met voordelen als visualisatie en flexibiliteit, waarbij het laatste vooral belangrijk is om te werken met zowel kwantitatieve waarden (temperatuur) en categoriale waarden (dagen/seizoenen). Bovendien kan decision tree regressor gevalideerd worden met RMSE, dat nodig is het met andere modellen te vergelijken.\n",
    "\n",
    "Ook wordt er een kwantitatieve waarde als uitkomst verwacht. Met classificatie, zoals een normale desicion tree, wordt er een categoriale uitkomst gegenereerd, terwijl er bij DTR een continue waarde wordt berekend. Dit maakt de uitkomst accurater en gepaster voor de vraagstelling van FlickBike."
   ]
  },
  {
   "cell_type": "markdown",
   "metadata": {},
   "source": [
    "## Hoe kunnen bepaalde factoren invloed hebben of krijgen op het model  ?"
   ]
  },
  {
   "cell_type": "markdown",
   "metadata": {},
   "source": [
    "#### Het weer\n",
    "\n",
    "Voor het gebruiken van weer moeten eerst een aantal weer factoren gekozen worden. Intuitief zouden bijvoorbeeld de neerslag een invloed kunnen hebben op de verhuur van fietsen ivm het feit dat mensen niet van houden om nat te regenen. Maar dit blijft een aanname. Er zal eerst een correlatie moeten worden gezocht tussen weerfactoren en verandering in fiets verhuur / gebruik."
   ]
  },
  {
   "cell_type": "code",
   "execution_count": 5,
   "metadata": {},
   "outputs": [
    {
     "data": {
      "text/html": [
       "<div>\n",
       "<style scoped>\n",
       "    .dataframe tbody tr th:only-of-type {\n",
       "        vertical-align: middle;\n",
       "    }\n",
       "\n",
       "    .dataframe tbody tr th {\n",
       "        vertical-align: top;\n",
       "    }\n",
       "\n",
       "    .dataframe thead th {\n",
       "        text-align: right;\n",
       "    }\n",
       "</style>\n",
       "<table border=\"1\" class=\"dataframe\">\n",
       "  <thead>\n",
       "    <tr style=\"text-align: right;\">\n",
       "      <th></th>\n",
       "      <th>STN</th>\n",
       "      <th>YYYYMMDD</th>\n",
       "      <th>FG</th>\n",
       "      <th>TG</th>\n",
       "      <th>SQ</th>\n",
       "      <th>RH</th>\n",
       "    </tr>\n",
       "  </thead>\n",
       "  <tbody>\n",
       "    <tr>\n",
       "      <th>0</th>\n",
       "      <td>240</td>\n",
       "      <td>2019-01-01</td>\n",
       "      <td>76</td>\n",
       "      <td>77</td>\n",
       "      <td>13</td>\n",
       "      <td>5</td>\n",
       "    </tr>\n",
       "    <tr>\n",
       "      <th>1</th>\n",
       "      <td>240</td>\n",
       "      <td>2019-01-02</td>\n",
       "      <td>48</td>\n",
       "      <td>56</td>\n",
       "      <td>4</td>\n",
       "      <td>-1</td>\n",
       "    </tr>\n",
       "    <tr>\n",
       "      <th>2</th>\n",
       "      <td>240</td>\n",
       "      <td>2019-01-03</td>\n",
       "      <td>23</td>\n",
       "      <td>31</td>\n",
       "      <td>46</td>\n",
       "      <td>-1</td>\n",
       "    </tr>\n",
       "    <tr>\n",
       "      <th>3</th>\n",
       "      <td>240</td>\n",
       "      <td>2019-01-04</td>\n",
       "      <td>45</td>\n",
       "      <td>54</td>\n",
       "      <td>0</td>\n",
       "      <td>-1</td>\n",
       "    </tr>\n",
       "    <tr>\n",
       "      <th>4</th>\n",
       "      <td>240</td>\n",
       "      <td>2019-01-05</td>\n",
       "      <td>65</td>\n",
       "      <td>72</td>\n",
       "      <td>0</td>\n",
       "      <td>1</td>\n",
       "    </tr>\n",
       "  </tbody>\n",
       "</table>\n",
       "</div>"
      ],
      "text/plain": [
       "   STN   YYYYMMDD  FG  TG  SQ  RH\n",
       "0  240 2019-01-01  76  77  13   5\n",
       "1  240 2019-01-02  48  56   4  -1\n",
       "2  240 2019-01-03  23  31  46  -1\n",
       "3  240 2019-01-04  45  54   0  -1\n",
       "4  240 2019-01-05  65  72   0   1"
      ]
     },
     "execution_count": 5,
     "metadata": {},
     "output_type": "execute_result"
    }
   ],
   "source": [
    "df_bikes = pd.read_csv(file_location) # https://canvas.hu.nl/files/850822/download?download_frd=1\n",
    "df_bikes[\"date\"] = pd.to_datetime(df_bikes[\"date\"],format=\"%Y-%m-%d %H:%M:%S\")\n",
    "\n",
    "df_weer = pd.read_csv(\"weer.csv\")\n",
    "df_weer[\"YYYYMMDD\"] = pd.to_datetime(df_weer[\"YYYYMMDD\"],format=\"%Y%m%d\")\n",
    "df_weer.head()"
   ]
  },
  {
   "cell_type": "code",
   "execution_count": 6,
   "metadata": {},
   "outputs": [],
   "source": [
    "df_bikes_per_day = df_bikes[[\"bikenumber\"]].groupby([df_bikes[\"date\"].dt.date]).count()\n",
    "df_bikes_per_day[\"day\"] = pd.to_datetime(df_bikes_per_day.index,format=\"%Y-%m-%d %H:%M:%S\")\n",
    "df_bikes_per_day.rename(columns={\"bikenumber\":\"amount_of_bikes\"},inplace=True)\n",
    "df_weer_verhuur = df_weer.merge(df_bikes_per_day,how='left', left_on='YYYYMMDD', right_on=\"day\")\n",
    "df_weer_verhuur.drop([\"STN\"],axis=1,inplace=True)"
   ]
  },
  {
   "cell_type": "markdown",
   "metadata": {},
   "source": [
    "Windsnelheid:"
   ]
  },
  {
   "cell_type": "code",
   "execution_count": 7,
   "metadata": {},
   "outputs": [
    {
     "data": {
      "text/plain": [
       "Text(0.5, 1.0, 'Relatie windsnelheid en verhuurde fietsen')"
      ]
     },
     "execution_count": 7,
     "metadata": {},
     "output_type": "execute_result"
    },
    {
     "data": {
      "image/png": "[encoded data removed]",
      "text/plain": [
       "<Figure size 432x288 with 1 Axes>"
      ]
     },
     "metadata": {
      "needs_background": "light"
     },
     "output_type": "display_data"
    }
   ],
   "source": [
    "df_weer_verhuur.sort_values(\"FG\",inplace=True)\n",
    "plt.plot(df_weer_verhuur[\"FG\"],df_weer_verhuur[\"amount_of_bikes\"],'ro')\n",
    "plt.title(\"Relatie windsnelheid en verhuurde fietsen\")"
   ]
  },
  {
   "cell_type": "markdown",
   "metadata": {},
   "source": [
    "Temperatuur:"
   ]
  },
  {
   "cell_type": "code",
   "execution_count": 8,
   "metadata": {},
   "outputs": [
    {
     "data": {
      "text/plain": [
       "Text(0.5, 1.0, 'Relatie temperatuur en verhuurde fietsen')"
      ]
     },
     "execution_count": 8,
     "metadata": {},
     "output_type": "execute_result"
    },
    {
     "data": {
      "image/png": "[encoded data removed]",
      "text/plain": [
       "<Figure size 432x288 with 1 Axes>"
      ]
     },
     "metadata": {
      "needs_background": "light"
     },
     "output_type": "display_data"
    }
   ],
   "source": [
    "df_weer_verhuur.sort_values(\"TG\",inplace=True)\n",
    "plt.plot(df_weer_verhuur[\"TG\"],df_weer_verhuur[\"amount_of_bikes\"],'ro')\n",
    "plt.title(\"Relatie temperatuur en verhuurde fietsen\")"
   ]
  },
  {
   "cell_type": "markdown",
   "metadata": {},
   "source": [
    "Zonnestraling:"
   ]
  },
  {
   "cell_type": "code",
   "execution_count": 9,
   "metadata": {},
   "outputs": [
    {
     "data": {
      "text/plain": [
       "Text(0.5, 1.0, 'Relatie zonnestraling en verhuurde fietsen')"
      ]
     },
     "execution_count": 9,
     "metadata": {},
     "output_type": "execute_result"
    },
    {
     "data": {
      "image/png": "[encoded data removed]",
      "text/plain": [
       "<Figure size 432x288 with 1 Axes>"
      ]
     },
     "metadata": {
      "needs_background": "light"
     },
     "output_type": "display_data"
    }
   ],
   "source": [
    "df_weer_verhuur.sort_values(\"SQ\",inplace=True)\n",
    "plt.plot(df_weer_verhuur[\"SQ\"],df_weer_verhuur[\"amount_of_bikes\"],'ro')\n",
    "plt.title(\"Relatie zonnestraling en verhuurde fietsen\")"
   ]
  },
  {
   "cell_type": "markdown",
   "metadata": {},
   "source": [
    "Neerslag:"
   ]
  },
  {
   "cell_type": "code",
   "execution_count": 10,
   "metadata": {},
   "outputs": [
    {
     "data": {
      "text/plain": [
       "Text(0.5, 1.0, 'Relatie neerslag en verhuurde fietsen')"
      ]
     },
     "execution_count": 10,
     "metadata": {},
     "output_type": "execute_result"
    },
    {
     "data": {
      "image/png": "[encoded data removed]",
      "text/plain": [
       "<Figure size 432x288 with 1 Axes>"
      ]
     },
     "metadata": {
      "needs_background": "light"
     },
     "output_type": "display_data"
    }
   ],
   "source": [
    "df_weer_verhuur.sort_values(\"RH\",inplace=True)\n",
    "plt.plot(df_weer_verhuur[\"RH\"],df_weer_verhuur[\"amount_of_bikes\"],'ro')\n",
    "plt.title(\"Relatie neerslag en verhuurde fietsen\")"
   ]
  },
  {
   "cell_type": "code",
   "execution_count": 11,
   "metadata": {},
   "outputs": [
    {
     "data": {
      "text/html": [
       "<div>\n",
       "<style scoped>\n",
       "    .dataframe tbody tr th:only-of-type {\n",
       "        vertical-align: middle;\n",
       "    }\n",
       "\n",
       "    .dataframe tbody tr th {\n",
       "        vertical-align: top;\n",
       "    }\n",
       "\n",
       "    .dataframe thead th {\n",
       "        text-align: right;\n",
       "    }\n",
       "</style>\n",
       "<table border=\"1\" class=\"dataframe\">\n",
       "  <thead>\n",
       "    <tr style=\"text-align: right;\">\n",
       "      <th></th>\n",
       "      <th>FG</th>\n",
       "      <th>TG</th>\n",
       "      <th>SQ</th>\n",
       "      <th>RH</th>\n",
       "      <th>amount_of_bikes</th>\n",
       "    </tr>\n",
       "  </thead>\n",
       "  <tbody>\n",
       "    <tr>\n",
       "      <th>FG</th>\n",
       "      <td>1.000000</td>\n",
       "      <td>-0.059668</td>\n",
       "      <td>-0.279035</td>\n",
       "      <td>0.294033</td>\n",
       "      <td>-0.211923</td>\n",
       "    </tr>\n",
       "    <tr>\n",
       "      <th>TG</th>\n",
       "      <td>-0.059668</td>\n",
       "      <td>1.000000</td>\n",
       "      <td>0.455578</td>\n",
       "      <td>0.022139</td>\n",
       "      <td>0.180438</td>\n",
       "    </tr>\n",
       "    <tr>\n",
       "      <th>SQ</th>\n",
       "      <td>-0.279035</td>\n",
       "      <td>0.455578</td>\n",
       "      <td>1.000000</td>\n",
       "      <td>-0.343670</td>\n",
       "      <td>0.125715</td>\n",
       "    </tr>\n",
       "    <tr>\n",
       "      <th>RH</th>\n",
       "      <td>0.294033</td>\n",
       "      <td>0.022139</td>\n",
       "      <td>-0.343670</td>\n",
       "      <td>1.000000</td>\n",
       "      <td>-0.004523</td>\n",
       "    </tr>\n",
       "    <tr>\n",
       "      <th>amount_of_bikes</th>\n",
       "      <td>-0.211923</td>\n",
       "      <td>0.180438</td>\n",
       "      <td>0.125715</td>\n",
       "      <td>-0.004523</td>\n",
       "      <td>1.000000</td>\n",
       "    </tr>\n",
       "  </tbody>\n",
       "</table>\n",
       "</div>"
      ],
      "text/plain": [
       "                       FG        TG        SQ        RH  amount_of_bikes\n",
       "FG               1.000000 -0.059668 -0.279035  0.294033        -0.211923\n",
       "TG              -0.059668  1.000000  0.455578  0.022139         0.180438\n",
       "SQ              -0.279035  0.455578  1.000000 -0.343670         0.125715\n",
       "RH               0.294033  0.022139 -0.343670  1.000000        -0.004523\n",
       "amount_of_bikes -0.211923  0.180438  0.125715 -0.004523         1.000000"
      ]
     },
     "execution_count": 11,
     "metadata": {},
     "output_type": "execute_result"
    }
   ],
   "source": [
    "df_weer_verhuur.corr()"
   ]
  },
  {
   "cell_type": "markdown",
   "metadata": {},
   "source": [
    "Hieruit blijkt dat weer gegevens weinig invloed heeft op het aantal verhuurde fietsen. De grootste correlatie is te zien bij windkracht met een negatieve correlatie van 0.2. Zelfs daar is dus geen correlatie te vinden. Misschien valt er een betere correlatie te behalen door meerdere variabelen te combineren en een LR model op te stellen, maar veel verbetering wordt hier niet verwacht. \n",
    "\n",
    "Een mogelijke reden voor de slechte correlatie kan te maken hebben met waar deze fietsen voor bedoeld zijn, namelijk als vervoer van en naar het werk. Zoals al gezegd is heeft dit niets te maken met woon-werk verkeer en wordt de fiets regelmatig gepakt om bijvoorbeeld wat eten te halen, maar toch worden werknemers meer gedwongen de fiets te pakken dan wanneer iemand in zijn vrije tijd de fiets pakt.\n",
    "\n",
    "Weer gegevens gaan we dus niet meenemen in de decision tree regressor. Mogelijk is er toch een verband te vinden door de data anders te transformeren of combineren, dus dit wordt de volgende stap."
   ]
  },
  {
   "cell_type": "markdown",
   "metadata": {},
   "source": [
    "#### Dag van de week\n",
    "\n",
    "De dag van de week kan ook zeer sterke correlatie hebben met het aantal gebruikte huurfietsen. Je zou zeggen dat doordeweeks meer fietsen gebruikt worden omdat veel mensen alleen doordeweeks werken. Door de dag van de week als integer (1-7) of als string (ma-su) kan een nieuwe kolom met data aan het verhuurbestand toegevoegd worden."
   ]
  },
  {
   "cell_type": "code",
   "execution_count": 12,
   "metadata": {},
   "outputs": [
    {
     "data": {
      "text/html": [
       "<div>\n",
       "<style scoped>\n",
       "    .dataframe tbody tr th:only-of-type {\n",
       "        vertical-align: middle;\n",
       "    }\n",
       "\n",
       "    .dataframe tbody tr th {\n",
       "        vertical-align: top;\n",
       "    }\n",
       "\n",
       "    .dataframe thead th {\n",
       "        text-align: right;\n",
       "    }\n",
       "</style>\n",
       "<table border=\"1\" class=\"dataframe\">\n",
       "  <thead>\n",
       "    <tr style=\"text-align: right;\">\n",
       "      <th></th>\n",
       "      <th>tripid</th>\n",
       "      <th>userid</th>\n",
       "      <th>bikeid</th>\n",
       "      <th>account</th>\n",
       "      <th>bikenumber</th>\n",
       "      <th>start_time</th>\n",
       "      <th>end_time</th>\n",
       "      <th>start_lat</th>\n",
       "      <th>start_lng</th>\n",
       "      <th>end_lat</th>\n",
       "      <th>end_lng</th>\n",
       "      <th>date</th>\n",
       "      <th>weekday</th>\n",
       "    </tr>\n",
       "  </thead>\n",
       "  <tbody>\n",
       "    <tr>\n",
       "      <th>1</th>\n",
       "      <td>33838</td>\n",
       "      <td>13452</td>\n",
       "      <td>382</td>\n",
       "      <td>AR</td>\n",
       "      <td>6631000433</td>\n",
       "      <td>2019-01-01 06:46:03</td>\n",
       "      <td>2019-01-01 06:46:03</td>\n",
       "      <td>52.296065</td>\n",
       "      <td>4.787667</td>\n",
       "      <td>52.296200</td>\n",
       "      <td>4.787679</td>\n",
       "      <td>2019-01-01 06:46:00</td>\n",
       "      <td>Tuesday</td>\n",
       "    </tr>\n",
       "    <tr>\n",
       "      <th>2</th>\n",
       "      <td>33839</td>\n",
       "      <td>13452</td>\n",
       "      <td>812</td>\n",
       "      <td>AR</td>\n",
       "      <td>6631000146</td>\n",
       "      <td>2019-01-01 06:47:39</td>\n",
       "      <td>2019-01-01 06:47:39</td>\n",
       "      <td>52.295938</td>\n",
       "      <td>4.788336</td>\n",
       "      <td>52.295940</td>\n",
       "      <td>4.788557</td>\n",
       "      <td>2019-01-01 06:47:35</td>\n",
       "      <td>Tuesday</td>\n",
       "    </tr>\n",
       "    <tr>\n",
       "      <th>3</th>\n",
       "      <td>33851</td>\n",
       "      <td>13182</td>\n",
       "      <td>238</td>\n",
       "      <td>AR</td>\n",
       "      <td>6631000443</td>\n",
       "      <td>2019-01-01 14:15:36</td>\n",
       "      <td>2019-01-01 14:15:36</td>\n",
       "      <td>52.307337</td>\n",
       "      <td>4.807633</td>\n",
       "      <td>52.307336</td>\n",
       "      <td>4.807630</td>\n",
       "      <td>2019-01-01 14:15:32</td>\n",
       "      <td>Tuesday</td>\n",
       "    </tr>\n",
       "    <tr>\n",
       "      <th>4</th>\n",
       "      <td>33852</td>\n",
       "      <td>13182</td>\n",
       "      <td>238</td>\n",
       "      <td>AR</td>\n",
       "      <td>6631000443</td>\n",
       "      <td>2019-01-01 14:33:50</td>\n",
       "      <td>2019-01-01 14:33:50</td>\n",
       "      <td>52.308478</td>\n",
       "      <td>4.809970</td>\n",
       "      <td>52.308537</td>\n",
       "      <td>4.810099</td>\n",
       "      <td>2019-01-01 14:33:46</td>\n",
       "      <td>Tuesday</td>\n",
       "    </tr>\n",
       "    <tr>\n",
       "      <th>5</th>\n",
       "      <td>33867</td>\n",
       "      <td>12674</td>\n",
       "      <td>787</td>\n",
       "      <td>AG</td>\n",
       "      <td>6631000283</td>\n",
       "      <td>2019-01-01 20:11:05</td>\n",
       "      <td>2019-01-01 20:11:05</td>\n",
       "      <td>52.506522</td>\n",
       "      <td>4.727323</td>\n",
       "      <td>52.506809</td>\n",
       "      <td>4.732135</td>\n",
       "      <td>2019-01-01 20:11:01</td>\n",
       "      <td>Tuesday</td>\n",
       "    </tr>\n",
       "  </tbody>\n",
       "</table>\n",
       "</div>"
      ],
      "text/plain": [
       "   tripid  userid  bikeid account  bikenumber           start_time  \\\n",
       "1   33838   13452     382      AR  6631000433  2019-01-01 06:46:03   \n",
       "2   33839   13452     812      AR  6631000146  2019-01-01 06:47:39   \n",
       "3   33851   13182     238      AR  6631000443  2019-01-01 14:15:36   \n",
       "4   33852   13182     238      AR  6631000443  2019-01-01 14:33:50   \n",
       "5   33867   12674     787      AG  6631000283  2019-01-01 20:11:05   \n",
       "\n",
       "              end_time  start_lat  start_lng    end_lat   end_lng  \\\n",
       "1  2019-01-01 06:46:03  52.296065   4.787667  52.296200  4.787679   \n",
       "2  2019-01-01 06:47:39  52.295938   4.788336  52.295940  4.788557   \n",
       "3  2019-01-01 14:15:36  52.307337   4.807633  52.307336  4.807630   \n",
       "4  2019-01-01 14:33:50  52.308478   4.809970  52.308537  4.810099   \n",
       "5  2019-01-01 20:11:05  52.506522   4.727323  52.506809  4.732135   \n",
       "\n",
       "                  date  weekday  \n",
       "1  2019-01-01 06:46:00  Tuesday  \n",
       "2  2019-01-01 06:47:35  Tuesday  \n",
       "3  2019-01-01 14:15:32  Tuesday  \n",
       "4  2019-01-01 14:33:46  Tuesday  \n",
       "5  2019-01-01 20:11:01  Tuesday  "
      ]
     },
     "execution_count": 12,
     "metadata": {},
     "output_type": "execute_result"
    }
   ],
   "source": [
    "# read csv file\n",
    "fb_df = pd.read_csv(file_location, delimiter=',', index_col=0)\n",
    "\n",
    "# convert series to date time values and cretae a new column with weekdays extracted from the datetime values\n",
    "day_of_week = {0:'Monday', 1:'Tuesday', 2:'Wednesday', 3:'Thursday', 4:'Friday', 5:'Saturday', 6:'Sunday'}\n",
    "fb_df['weekday'] = pd.to_datetime(fb_df['start_time']).dt.dayofweek.map(day_of_week)\n",
    "fb_df.head()"
   ]
  },
  {
   "cell_type": "markdown",
   "metadata": {},
   "source": [
    "Zoals te zien is in de onderstaande grafiek wordt er inderdaad meer gebruik gemaakt van de huurfietsen. "
   ]
  },
  {
   "cell_type": "code",
   "execution_count": 13,
   "metadata": {},
   "outputs": [
    {
     "data": {
      "text/plain": [
       "<BarContainer object of 7 artists>"
      ]
     },
     "execution_count": 13,
     "metadata": {},
     "output_type": "execute_result"
    },
    {
     "data": {
      "image/png": "[encoded data removed]",
      "text/plain": [
       "<Figure size 720x432 with 1 Axes>"
      ]
     },
     "metadata": {
      "needs_background": "light"
     },
     "output_type": "display_data"
    }
   ],
   "source": [
    "# count weekdays and plot a bar chart\n",
    "value_counts = fb_df['weekday'].value_counts()\n",
    "plt.figure(figsize=(10,6))\n",
    "plt.ylabel('aantal fietsen gehuurd')\n",
    "plt.xlabel('dagen van de week')\n",
    "plt.bar(value_counts.keys(), value_counts.values)"
   ]
  },
  {
   "cell_type": "code",
   "execution_count": null,
   "metadata": {},
   "outputs": [],
   "source": []
  },
  {
   "cell_type": "markdown",
   "metadata": {},
   "source": [
    "#### Bijzondere dagen\n",
    "<i>\n",
    "Bijzondere dagen kunnen als boolean waarde opgeslagen worden in de dataset. Om de data expansie zo gering mogelijk te houden kunnen bepaalde groepen van bijzondere dagen als gecombineerde waarde bij de dataset gevoegd worden. Dit voorkomt het plaatsen van boolean waardes voor elke bijzondere dag. De groepering kan door bijvoorbeeld een cluster algoritme gemaakt worden waarbij de groepen worden gemaakt op basis van overkeenkomsten in relatie tot de target feature(s)\n",
    "</i>\n",
    "\n",
    "Bijzondere dagen kunnen als boolean waarde opgeslagen worden in de dataset. Het model kan dan relaties gaan zoeken tussen bijzondere dagen en aantal verhuurde fietsen. We hebben data van 1 jaar, dus veel bijzondere dagen kunnen we niet meenemen. Dit houdt in dat het model bijzondere dagen misschien gaat negeren of heel slecht gaat voorspellen. Om dit te valideren willen we zelf nog correlatie onderzoek doen tussen bijzondere dagen en verhuurde fietsen.\n"
   ]
  },
  {
   "cell_type": "markdown",
   "metadata": {},
   "source": [
    "#### Eventuele andere factoren\n",
    "\n",
    "Eventuele factoren om mee te nemen zijn:\n",
    "- concurrenten die de markt opeisen\n",
    "- financiele of medische crisissen\n",
    "- bedrijfs/personeels veranderingen/problemen"
   ]
  },
  {
   "cell_type": "markdown",
   "metadata": {},
   "source": [
    "## Hoe kan voorspeld worden op welke plekken fietstekorten kunnen ontstaan\n",
    "\n",
    "Het is lastig om te voorspellen wanneer er tekorten ontstaan. Je weet immers nooit of iemand ergens een fiets misloopt. Een soort van feedback systeem zou misschien inzicht geven in waar mensen vaak geen fiets kunnen vinden. Ook kan je niet zien hoelang iemand naar een fiets heeft gezocht of hoelang deze persoon ervoor heeft moeten lopen.<br><br>\n",
    "\n",
    "\n",
    "<i>\n",
    "Wel kan gekeken worden naar plekken waar veel fietsen worden gebruikt. Met andere woorden, in welk gebied wordt het meest een fiets gepakt en waar wordt het meest gefietst, hotspots. Door te kijken naar het fietsgebruik op bepaalde routes en in bepaalde omgevingen kan een schatting gemaakt worden waar fietsen hotspots liggen.\n",
    "</i>\n",
    "\n",
    "Wel kan gekeken worden naar de begin- en eindcoördinaten van gehuurde fietsen. Dit zijn coördinaten van plekken waar mensen de fiets hebben ge(un)locked en dus waar mensen de fiets hebben gepakt. Hier kan een cluster analyse over worden uitgevoerd, om plekken te definieren waar de meeste fietsreizen zijn begonnen, en dus waar de meeste fietsen gevonden zijn. Als het goed is zullen de clusters zich dicht bij bedrijven en winkels plaatsvinden.\n",
    "We zullen alleen begincoördinaten pakken aangezien eindcoördinaten altijd de begincoördinaten zijn voor de volgende keer dat die fiets wordt gebruikt.\n",
    "\n",
    "Om deze hotspots te vinden is het nodig om met coordinaten te werken. Als eerst kan gekeken worden naar de hoeveelheid fietsen die weer terug komt op de plek van vertrek. Dit kunnen mogelijke hotspots zijn. Daarnaast kan gekeken worden naar het aantal fietsen per plek. Om te werken met coordinaten moet een afstandsfunctie of grids worden gebruikt. \n",
    "\n",
    "Om te hotspots te vinden kunnen verschillende methodes worden gebruikt. De data kan bijvoorbeeld op coordinates geclustered worden met een algoritme zoals KMeans (waarbij het soms lastig te bepalen is of het resultaat goed is). Ook kunnen grids van coordinates vastgesteld worden om zo gebieden te creeren waarin het aantal fietsen geteld kan worden (waarbij het 'edge' probleem optreedt waardoor informatie uit belangrijke combinaties van grids verloren gaan).\n",
    "\n",
    "Als de hotspots bekend zijn, kan gekeken worden hoeveel fietsen er gepakt zijn in een bepaald tijdspanne in de omgeving van deze hotspots. Als er veel fietsen zijn gepakt in een bepaalde omgeving kan dit een mogelijk komend tekort tot gevolg hebben.\n",
    "Als er een documentatie wordt bijgehouden van het aantal beschikbare fietsen op bepaalde hotspots, kan een bij en af registratie van fietsen in een bepaald gebied worden bijgehouden.\n",
    "\n",
    "Als laatst kan ook nog gekeken worden naar plekken waar weinig fietsen gebruikt worden maar waarbij wel zeer consistent alle of bijna alle fietsen worden gebruikt over een bepaalde periode. Mogelijk kan het toevoegen van een paar fietsen de missers opvullen."
   ]
  },
  {
   "cell_type": "code",
   "execution_count": 68,
   "metadata": {},
   "outputs": [
    {
     "data": {
      "image/png": "[encoded data removed]",
      "text/plain": [
       "<Figure size 432x288 with 1 Axes>"
      ]
     },
     "metadata": {
      "needs_background": "light"
     },
     "output_type": "display_data"
    }
   ],
   "source": [
    "plt.title(\"places where bikes were unlocked (50 bikes)\")\n",
    "plt.title(\"places where bikes were unlocked (2000 bikes)\")\n",
    "plt.xlabel(\"Longitude\"),plt.ylabel(\"Latitude\")\n",
    "plt.plot(df_bikes[\"start_lat\"].head(50),df_bikes[\"start_lng\"].head(50),\"ro\")\n",
    "plt.show()"
   ]
  },
  {
   "cell_type": "markdown",
   "metadata": {},
   "source": [
    "Bij kleine aantallen zijn er groepen te herkennen, zo kun je het punt rechtsonder negeren en zal in ieder geval gekeken moeten worden naar de cluster rond 52.3 lat en 4.8 long. Echter zijn de resultaten minder goed categoriseerbaar wanneer je grote aantallen meeneemt:"
   ]
  },
  {
   "cell_type": "code",
   "execution_count": 69,
   "metadata": {},
   "outputs": [
    {
     "data": {
      "image/png": "[encoded data removed]",
      "text/plain": [
       "<Figure size 432x288 with 1 Axes>"
      ]
     },
     "metadata": {
      "needs_background": "light"
     },
     "output_type": "display_data"
    }
   ],
   "source": [
    "plt.title(\"places where bikes were unlocked (2000 bikes)\")\n",
    "plt.xlabel(\"Longitude\"),plt.ylabel(\"Latitude\")\n",
    "plt.plot(df_bikes[\"start_lat\"].head(2000),df_bikes[\"start_lng\"].head(2000),\"ro\")\n",
    "plt.show()"
   ]
  },
  {
   "cell_type": "markdown",
   "metadata": {},
   "source": [
    "We zouden hier 2 clusters van kunnen maken, maar de clusters zijn zodanig groot waardoor we geen specifieke risicogebieden kunnen aanduiden. Het valt wel op dat het verschil tussen de eerste 50 fietsen een ander en nauwkeuriger onderscheid lijkt te maken dan die van 2000 fietsen. "
   ]
  },
  {
   "cell_type": "code",
   "execution_count": 72,
   "metadata": {},
   "outputs": [],
   "source": [
    "import matplotlib.gridspec as gridspec"
   ]
  },
  {
   "cell_type": "markdown",
   "metadata": {},
   "source": [
    "### Place clusters for each weekday"
   ]
  },
  {
   "cell_type": "code",
   "execution_count": 107,
   "metadata": {},
   "outputs": [
    {
     "data": {
      "image/png": "[encoded data removed]",
      "text/plain": [
       "<Figure size 432x288 with 20 Axes>"
      ]
     },
     "metadata": {
      "needs_background": "light"
     },
     "output_type": "display_data"
    }
   ],
   "source": [
    "fig2 = plt.figure(constrained_layout=True)\n",
    "spec2 = gridspec.GridSpec(ncols=5, nrows=4, figure=fig2)\n",
    "\n",
    "\n",
    "for i in range(1,8):\n",
    "    if i<=4:\n",
    "        x,y = [0,i]\n",
    "    else:\n",
    "        x,y = [1,i-4]\n",
    "    \n",
    "    sp = fig2.add_subplot(spec2[x,y])\n",
    "    df_bikes_weekday = df_bikes[df_bikes[\"date\"].dt.weekday==i-1]\n",
    "    sp.plot(df_bikes_weekday[\"start_lat\"],df_bikes_weekday[\"start_lng\"],\"ro\")\n",
    "    plt.title(\"weekday \"+str(i-1))\n",
    "\n",
    "    "
   ]
  },
  {
   "cell_type": "markdown",
   "metadata": {},
   "source": [
    "Hier zien we dat clusters afhankelijk zijn van de soort dag. Zo gaan werknemers op woensdag misschien naar een kraampje dat alleen woensdag open is. Door clusters te onderscheiden per dag kunnen we gebieden iets preciezer bepalen en kunnen we per dag aangeven hoe goed deze clusters zijn."
   ]
  },
  {
   "cell_type": "markdown",
   "metadata": {},
   "source": [
    "## Hoe bereken je het minimaal aantal fietsen dat nodig is ?\n",
    "\n",
    "<i>\n",
    "Om erachter te komen wat het minimaal aantal fietsen is dat nodig is, is het handig om te weten wanneer fietsen wel en niet gebruikt worden. Wij hebben begrepen dat alleen de gebruikte fietsen in de dataset staan, dat wil zeggen, fietsen waarbij het slot open en weer dicht gedaan is. Daarmee is het lastig om te bepalen of er nou een fietstekort is of een teveel aan fietsen. Als kan berekend worden wat de tijd is dat fietsen stil liggen en niet gebruikt worden, kan ook gekeken worden hoeveel fietsen uiteindelijk nodig zijn. Daarom hebben we nog wat meer informatie over de dataset nodig.</i>\n",
    "\n",
    "Om erachter te komen wat het minimaal aantal fietsen is dat nodig is, is het handig om te weten wanneer fietsen wel en niet gebruikt worden. Wij hebben begrepen dat de gebruikte fietsen in de dataset staan, dat wil zeggen, fietsen waarbij het slot open en weer dicht gedaan is. Niet gebruikte fietsen zijn ook te classificeren. Elke fiets heeft een uniek nummer. Het verschil tussen eindtijd en de opvolgende begintijd van de huur van een unieke fiets zegt ons hoelang een fiets beschikbaar is geweest. De begincoördinaten van de eindtijd geeft dan aan op welke plek een fiets beschikbaar is.\n",
    "\n",
    "Met onze aanname dat de bepaalde hotspots de beste keuze is, kunnen we kijken hoeveel fietsen er worden gehuurd binnen die hotspots. Het minimaal aantal fietsen moet de pieken binnen deze hotspots kunnen opvangen. Wel moet er nog rekening gehouden worden dat introduceren van parking zones het aantal verhuurde fietsen op hotspots verhoogd. Dit is een probleem die we niet met historische data kunnen oplossen. \n",
    "\n",
    "<i>\n",
    "Daarnaast kan er ook naar hotspots gekeken worden. Als er een gemiddeld aantal gebruikte fietsen per dag kan worden vastgesteld op een bepaalde plek, kan gekeken worden hoeveel fietsen er werkelijk nodig zijn. Er kan bijvoorbeeld voor een aantal hotspots een minimaal aantal beschikbare fietsen per seizoen of periode vastgesteld worden.\n",
    "    </i>"
   ]
  },
  {
   "cell_type": "code",
   "execution_count": 118,
   "metadata": {},
   "outputs": [
    {
     "data": {
      "image/png": "[encoded data removed]",
      "text/plain": [
       "<Figure size 432x288 with 1 Axes>"
      ]
     },
     "metadata": {
      "needs_background": "light"
     },
     "output_type": "display_data"
    }
   ],
   "source": [
    "boxplot = df_bikes_per_day.boxplot(column=['amount_of_bikes'])"
   ]
  },
  {
   "cell_type": "markdown",
   "metadata": {},
   "source": [
    "Hier zien we dat \n",
    "- gemiddeld 170 fietsen per dag worden verhuurd. \n",
    "- Op 75% van de dagen worden minder dan 220 fietsen worden verhuurd. \n",
    "\n",
    "75% is misschien wat aan de lage kant als we spreken over pieken. Natuurlijk ligt het woord bij flickbike wanneer het gaat om het definieren van pieken, maar laten we voor nu 95% nemen"
   ]
  },
  {
   "cell_type": "code",
   "execution_count": 132,
   "metadata": {},
   "outputs": [
    {
     "data": {
      "text/plain": [
       "Text(0.5, 0, 'aantal fietsen')"
      ]
     },
     "execution_count": 132,
     "metadata": {},
     "output_type": "execute_result"
    },
    {
     "data": {
      "image/png": "[encoded data removed]",
      "text/plain": [
       "<Figure size 432x288 with 1 Axes>"
      ]
     },
     "metadata": {
      "needs_background": "light"
     },
     "output_type": "display_data"
    }
   ],
   "source": [
    "aantal_dagen = []\n",
    "tot_len=len(df_bikes_per_day)\n",
    "for i in range(0,500,5):\n",
    "    aantal_dagen.append( len(df_bikes_per_day[df_bikes_per_day[\"amount_of_bikes\"]>i])/tot_len)\n",
    "plt.plot([i for i in range(0,500,5)],aantal_dagen)\n",
    "plt.title(\"percentage hoevaak minimaal x aantal verhuurde fietsen voor komt op 1 dag\")\n",
    "plt.ylabel(\"kans in %\")\n",
    "plt.xlabel(\"aantal fietsen\")"
   ]
  },
  {
   "cell_type": "code",
   "execution_count": 136,
   "metadata": {},
   "outputs": [
    {
     "name": "stdout",
     "output_type": "stream",
     "text": [
      "310\n"
     ]
    }
   ],
   "source": [
    "for i,j in zip(aantal_dagen,[i for i in range(0,500,5)]):\n",
    "    if i<0.05:\n",
    "        print(j)\n",
    "        break"
   ]
  },
  {
   "cell_type": "markdown",
   "metadata": {},
   "source": [
    "Om 95% van de dagen voldoende fietsen te verhuren moet elke dag, of op een slimmere manier per dag verschillend, 350 fietsen beschikbaar zijn. "
   ]
  },
  {
   "cell_type": "markdown",
   "metadata": {},
   "source": [
    "## Hoe wordt alles gevisualiseerd?\n",
    "\n",
    "<b>Model</b> <br>\n",
    "Desicion tree regressor kan makkelijk worden gevisualiseerd met scykit learn. Hierbij worden de beslissingen duidelijk getoond. Voor het valideren laten we het verschil zien tussen voorspelde waardes en werkelijke waardes.\n",
    "\n",
    "<b>Data analyses</b>  <br>\n",
    "Door de huur van fietsen te visualiseren door de tijd heen kan er patronen herkend worden. Zo verwachten we een periodieke beweging dat veroorzaakt wordt door seizoenen. \n",
    "Verder gaan we in een plot clusters van longitude en latitude visualiseren om hiermee op blote oog plekken te herkennen waar veel gefietst wordt. Als er duidelijk clusters voorkomen kan er een classificatie model getraind worden waarmee drukke plekken herkend kunnen worden. Dan weten we ook waar er eventueel een tekort aan fietsen is.\n",
    "\n",
    "<b>Deelvragen </b>  <br>\n",
    "Invloeden van het weer zijn al gedeeltelijk gevisualiseerd. Er zijn plots gemaakt waarin de relatie tussen verhuur en weervariabele te herkennen is. Ook is er een correlatiematrix gemaakt.\n",
    "Tekorten voorkomen wordt op dezelfde manier in een plot getoond waar de pieken zitten, en in dezelfde plot laten we zien hoeveel fietsen beschikbaar zijn. \n"
   ]
  }
 ],
 "metadata": {
  "kernelspec": {
   "display_name": "Python 3",
   "language": "python",
   "name": "python3"
  },
  "language_info": {
   "codemirror_mode": {
    "name": "ipython",
    "version": 3
   },
   "file_extension": ".py",
   "mimetype": "text/x-python",
   "name": "python",
   "nbconvert_exporter": "python",
   "pygments_lexer": "ipython3",
   "version": "3.7.1"
  }
 },
 "nbformat": 4,
 "nbformat_minor": 2
}
